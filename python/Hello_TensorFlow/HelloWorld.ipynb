{
 "cells": [
  {
   "cell_type": "markdown",
   "metadata": {},
   "source": [
    "### Taken from http://tensorflow.org/get_started/os_setup.md\n",
    "\n",
    "Um zu checken, ob die Installation geklappt hat:"
   ]
  },
  {
   "cell_type": "code",
   "execution_count": 1,
   "metadata": {
    "collapsed": false
   },
   "outputs": [
    {
     "name": "stdout",
     "output_type": "stream",
     "text": [
      "Hello, TensorFlow!\n",
      "42\n"
     ]
    }
   ],
   "source": [
    "import tensorflow as tf\n",
    "hello = tf.constant('Hello, TensorFlow!')\n",
    "sess = tf.Session()\n",
    "print sess.run(hello)\n",
    "a = tf.constant(10)\n",
    "b = tf.constant(32)\n",
    "print sess.run(a+b)\n",
    "sess.close()"
   ]
  },
  {
   "cell_type": "markdown",
   "metadata": {
    "collapsed": true
   },
   "source": [
    "### Grundlangen\n",
    "\n",
    "Siehe http://www.tensorflow.org/get_started/basic_usage.md#overview\n",
    "\n",
    "Mal auf Deutsch übersetzt (vielleicht bringt der Transfer ja was)\n",
    "\n",
    "Zentrale Datenobjekt ist der Tensor (gleiche wie bei uns der Blob). Die ganzen Berechungen passieren in einem Graphen. Die Knoten des Graphen nennt man `ops`, dort gehen 0 oder mehr Tensoren rein und es kommen 0 oder mehr Tensoren raus. Meist sind diese Ops mathematische Verknüpfungen die passieren (können aber auch Datenquellen sein).\n",
    "\n",
    "Eine Session startet den Graph (erzeugt wahrscheinlich so was wie eine Instanz)."
   ]
  },
  {
   "cell_type": "markdown",
   "metadata": {},
   "source": [
    "### Aufbau eines Graphen\n",
    "\n",
    "Wir fangen mit einem Graphen an, der zwei Konstanten als Quellen hat. Und dann eine Multiplikation macht.\n",
    "\n",
    "Für die Leute bei denen Python nicht die erste Sprache ist, einen Zeilenvektor und einen Spaltenvector kann man wie folgt erzeugen."
   ]
  },
  {
   "cell_type": "code",
   "execution_count": 2,
   "metadata": {
    "collapsed": false
   },
   "outputs": [
    {
     "data": {
      "text/plain": [
       "((1, 2), (2, 1), array([[ 12.]]))"
      ]
     },
     "execution_count": 2,
     "metadata": {},
     "output_type": "execute_result"
    }
   ],
   "source": [
    "import numpy as np\n",
    "zv = np.asarray([[3.,3.]])\n",
    "sp = np.asarray([[2.],[2.]])\n",
    "zv.shape, sp.shape, np.dot(zv, sp)"
   ]
  },
  {
   "cell_type": "code",
   "execution_count": 3,
   "metadata": {
    "collapsed": true
   },
   "outputs": [],
   "source": [
    "import tensorflow as tf\n",
    "# Erster und zweiter Knoten sind Konstanten\n",
    "matrix1 = tf.constant([[3., 3.]])\n",
    "matrix2 = tf.constant([[2.],[2.]])\n",
    "\n",
    "product = tf.matmul(matrix1, matrix2) #Ist wieder ein Knoten"
   ]
  },
  {
   "cell_type": "markdown",
   "metadata": {},
   "source": [
    "### Erzeugen einer Instanz eines Compute graphen\n",
    "Jetzt erzeugt man so was wie eine Instanz eines Graphen eine Session. Wahrscheinlich ist das sowas wie das compilieren in Theano."
   ]
  },
  {
   "cell_type": "code",
   "execution_count": 4,
   "metadata": {
    "collapsed": false
   },
   "outputs": [
    {
     "name": "stdout",
     "output_type": "stream",
     "text": [
      "[[ 12.]]\n",
      "[[ 3.  3.]]\n"
     ]
    }
   ],
   "source": [
    "sess = tf.Session() #Starten\n",
    "\n",
    "# Wie wollen, das Resultat des Produktes haben.\n",
    "print sess.run(product) #array([[ 12.]], dtype=float32)\n",
    "\n",
    "# Jetzt wird wahrscheinlich von Product nach oben gegangen und \n",
    "# alles gesucht was reinpasst.\n",
    "\n",
    "print sess.run(matrix1) # macht nicht viel ==> [[3., 3.]]\n",
    "sess.close() # Sollte man immer machen um Resourcen frei zu machen. "
   ]
  },
  {
   "cell_type": "code",
   "execution_count": 5,
   "metadata": {
    "collapsed": false
   },
   "outputs": [
    {
     "name": "stdout",
     "output_type": "stream",
     "text": [
      "[[ 12.]]\n"
     ]
    }
   ],
   "source": [
    "#Ein python Konstrukt was man sich wahrscheinlich angewöhnen sollte wäre\n",
    "with tf.Session() as sess:\n",
    "  print sess.run(product)"
   ]
  },
  {
   "cell_type": "markdown",
   "metadata": {},
   "source": [
    "### Wo läuft der Graph\n",
    "TensorFlow kümmert sich darum, wo der Graph läuft (CPU, GPU0, GPU1 usw). Man kann das aber auch kontrolieren:\n",
    "\n",
    "```\n",
    "with tf.Session() as sess:\n",
    "  with tf.device(\"/gpu:1\"):\n",
    "    matrix1 = tf.constant([[3., 3.]])\n",
    "    matrix2 = tf.constant([[2.],[2.]])\n",
    "    product = tf.matmul(matrix1, matrix2)\n",
    "    ...\n",
    "```"
   ]
  },
  {
   "cell_type": "markdown",
   "metadata": {},
   "source": [
    "### Man muss nicht immer kompilieren (Interactive Session)\n",
    "\n",
    "Mit InteractiveSession und eval kann man auch gleich ausführen."
   ]
  },
  {
   "cell_type": "code",
   "execution_count": 6,
   "metadata": {
    "collapsed": false
   },
   "outputs": [
    {
     "name": "stdout",
     "output_type": "stream",
     "text": [
      "[[ 12.]]\n",
      "[[ 36.]]\n"
     ]
    }
   ],
   "source": [
    "import tensorflow as tf\n",
    "sess = tf.InteractiveSession()\n",
    "print product.eval()\n",
    "\n",
    "x = tf.Variable(3.0)\n",
    "x.initializer.run() #Eine Variable muss man noch initialisieren (sonst exception)\n",
    "print tf.mul(x,product).eval()\n",
    "\n",
    "sess.close()"
   ]
  },
  {
   "cell_type": "markdown",
   "metadata": {},
   "source": [
    "### Updating the state of variables\n",
    "\n",
    "Variablen, sind die Datenstrukturen, welches den state bei verschiedenen Durchläufen des Graphs (sess.run()) beibehalten werden. Zum Beispiel würde man den Gewichte Tensors eines Netzwerkes in einer Variable speichern."
   ]
  },
  {
   "cell_type": "code",
   "execution_count": 7,
   "metadata": {
    "collapsed": false
   },
   "outputs": [
    {
     "name": "stdout",
     "output_type": "stream",
     "text": [
      "0\n",
      "1\n",
      "1\n",
      "2\n",
      "2\n",
      "3\n",
      "3\n"
     ]
    }
   ],
   "source": [
    "var = tf.Variable(0, name=\"counter\")\n",
    "one = tf.constant(1)\n",
    "\n",
    "new_value = tf.add(var, one)\n",
    "update = tf.assign(var, new_value)\n",
    "# launched the graph.  We first have to add the `init` Op to the graph.\n",
    "init_op = tf.initialize_all_variables()\n",
    "\n",
    "# Launch the graph and run the ops.\n",
    "with tf.Session() as sess:\n",
    "    # Run the 'init' op\n",
    "    sess.run(init_op)\n",
    "    # Print the initial value of 'var'\n",
    "    print sess.run(var)\n",
    "    # Run the op that updates 'var' and print 'var'.\n",
    "    for _ in range(3):\n",
    "        print (sess.run(update)) #Gibt den neuen Wert aus\n",
    "        print sess.run(var) #Gibt den Wert der Veriable aus. Kann auch 0 sein, wenn man ihn vorher nicht upgedated hat"
   ]
  },
  {
   "cell_type": "markdown",
   "metadata": {},
   "source": [
    "### Fetches \n",
    "Der Syntax von run ist:\n",
    "`tf.Session.run(fetches, feed_dict=None)`\n",
    "Fetches sind die variablen, die man aus dem Graph haben will. Feed_dict sind die Eingaben und Placeholder sind Variablen die erst zur Laufzeit belegt werden. Diese placeholder können dann später die Minibatches sein."
   ]
  },
  {
   "cell_type": "code",
   "execution_count": 8,
   "metadata": {
    "collapsed": false
   },
   "outputs": [
    {
     "name": "stdout",
     "output_type": "stream",
     "text": [
      "[array([ 14.], dtype=float32)]\n"
     ]
    }
   ],
   "source": [
    "input1 = tf.placeholder(tf.types.float32)\n",
    "input2 = tf.placeholder(tf.types.float32)\n",
    "output = tf.mul(input1, input2)\n",
    "\n",
    "with tf.Session() as sess:\n",
    "  print sess.run([output], feed_dict={input1:[7.], input2:[2.]})\n",
    "\n",
    "# output:\n",
    "# [array([ 14.], dtype=float32)]"
   ]
  }
 ],
 "metadata": {
  "kernelspec": {
   "display_name": "Python 2",
   "language": "python",
   "name": "python2"
  },
  "language_info": {
   "codemirror_mode": {
    "name": "ipython",
    "version": 2
   },
   "file_extension": ".py",
   "mimetype": "text/x-python",
   "name": "python",
   "nbconvert_exporter": "python",
   "pygments_lexer": "ipython2",
   "version": "2.7.10"
  }
 },
 "nbformat": 4,
 "nbformat_minor": 0
}
