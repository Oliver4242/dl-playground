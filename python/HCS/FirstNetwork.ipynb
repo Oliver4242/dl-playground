{
 "cells": [
  {
   "cell_type": "code",
   "execution_count": 8,
   "metadata": {
    "collapsed": false
   },
   "outputs": [
    {
     "name": "stdout",
     "output_type": "stream",
     "text": [
      "total 2.3G\r\n",
      "-rw-r--r-- 1 dueo dueo 1.6M Jul 28 20:14 DataHandling.ipynb\r\n",
      "-rw-r--r-- 1 dueo dueo 2.3G Jul 28 20:17 HCS_48x48.npz\r\n",
      "-rw-r--r-- 1 dueo dueo 2.3K Jul 28 20:24 FirstNetwork.ipynb\r\n"
     ]
    }
   ],
   "source": [
    "%ls -rlth"
   ]
  },
  {
   "cell_type": "code",
   "execution_count": 25,
   "metadata": {
    "collapsed": true
   },
   "outputs": [],
   "source": [
    "import gzip\n",
    "import numpy as np\n",
    "from sklearn.cross_validation import KFold\n",
    "from sklearn.cross_validation import StratifiedKFold\n",
    "import matplotlib.pyplot as plt\n",
    "import matplotlib.image as imgplot\n",
    "import time\n",
    "%matplotlib inline"
   ]
  },
  {
   "cell_type": "code",
   "execution_count": 15,
   "metadata": {
    "collapsed": false
   },
   "outputs": [
    {
     "name": "stdout",
     "output_type": "stream",
     "text": [
      "Loaded data in 0.000633001327515\n"
     ]
    }
   ],
   "source": [
    "start = time.time()\n",
    "#with open('HCS_48x48.npz') as f:\n",
    "npzfile = np.load('HCS_48x48.npz')\n",
    "print (\"Loaded data in \" + str(time.time() - start))"
   ]
  },
  {
   "cell_type": "code",
   "execution_count": 16,
   "metadata": {
    "collapsed": false
   },
   "outputs": [
    {
     "data": {
      "text/plain": [
       "['arr_1', 'arr_0', 'arr_2']"
      ]
     },
     "execution_count": 16,
     "metadata": {},
     "output_type": "execute_result"
    }
   ],
   "source": [
    "npzfile.files"
   ]
  },
  {
   "cell_type": "code",
   "execution_count": 19,
   "metadata": {
    "collapsed": false
   },
   "outputs": [],
   "source": [
    "start = time.time()\n",
    "cell_rows = npzfile['arr_0']\n",
    "X = npzfile['arr_1']\n",
    "Y = npzfile['arr_2']\n",
    "print (\"Loaded data in \" + str(time.time() - start))"
   ]
  },
  {
   "cell_type": "code",
   "execution_count": 32,
   "metadata": {
    "collapsed": false
   },
   "outputs": [
    {
     "data": {
      "text/plain": [
       "((52950,), (52950,), (52950, 5, 48, 48), numpy.ndarray)"
      ]
     },
     "execution_count": 32,
     "metadata": {},
     "output_type": "execute_result"
    }
   ],
   "source": [
    "np.shape(cell_rows), np.shape(Y), np.shape(X), type(X)"
   ]
  },
  {
   "cell_type": "code",
   "execution_count": 43,
   "metadata": {
    "collapsed": false
   },
   "outputs": [
    {
     "data": {
      "image/png": "[encoded data removed]",
      "text/plain": [
       "<matplotlib.figure.Figure at 0x3643d50>"
      ]
     },
     "metadata": {},
     "output_type": "display_data"
    }
   ],
   "source": [
    "from skimage import data, io, draw\n",
    "import matplotlib.pyplot as plt\n",
    "io.imshow(X[2132,4,:,:]) "
   ]
  },
  {
   "cell_type": "code",
   "execution_count": 36,
   "metadata": {
    "collapsed": false
   },
   "outputs": [
    {
     "data": {
      "text/plain": [
       "(-0.5, 3.5)"
      ]
     },
     "execution_count": 36,
     "metadata": {},
     "output_type": "execute_result"
    },
    {
     "data": {
      "image/png": "[encoded data removed]",
      "text/plain": [
       "<matplotlib.figure.Figure at 0x36cdf10>"
      ]
     },
     "metadata": {},
     "output_type": "display_data"
    }
   ],
   "source": [
    "plt.plot(Y)\n",
    "plt.ylim(-0.5,3.5)"
   ]
  },
  {
   "cell_type": "markdown",
   "metadata": {},
   "source": [
    "### Normalization"
   ]
  },
  {
   "cell_type": "code",
   "execution_count": 40,
   "metadata": {
    "collapsed": true
   },
   "outputs": [],
   "source": [
    "Xmean = X.mean(axis = 0)\n",
    "XStd = np.sqrt(X.var(axis=0))\n",
    "X = (X-Xmean)/(XStd + 0.01)"
   ]
  },
  {
   "cell_type": "code",
   "execution_count": 42,
   "metadata": {
    "collapsed": false
   },
   "outputs": [
    {
     "data": {
      "text/plain": [
       "(-2.5230029, 55.53228, 1.3684561e-07)"
      ]
     },
     "execution_count": 42,
     "metadata": {},
     "output_type": "execute_result"
    }
   ],
   "source": [
    "np.min(X), np.max(X), np.mean(X)"
   ]
  },
  {
   "cell_type": "code",
   "execution_count": 44,
   "metadata": {
    "collapsed": true
   },
   "outputs": [],
   "source": [
    "Y = np.asarray(Y,dtype='int32')"
   ]
  },
  {
   "cell_type": "markdown",
   "metadata": {},
   "source": [
    "### Splitting in training and test-set\n",
    "We take all, which is  below 40000 for training and validation and images above for testing."
   ]
  },
  {
   "cell_type": "code",
   "execution_count": 46,
   "metadata": {
    "collapsed": true
   },
   "outputs": [],
   "source": [
    "split = 40000\n",
    "X_train = X[0:split,:,:,:]\n",
    "Y_train = Y[0:split]\n",
    "X_test = X[split:,:,:,:]\n",
    "Y_test = Y[split:]"
   ]
  },
  {
   "cell_type": "markdown",
   "metadata": {},
   "source": [
    "#### Permuting the training set\n"
   ]
  },
  {
   "cell_type": "code",
   "execution_count": 47,
   "metadata": {
    "collapsed": true
   },
   "outputs": [],
   "source": [
    "perm = np.random.permutation(len(Y_train))\n",
    "XX = X_train[perm,:,:,:]\n",
    "YY = Y_train[perm]"
   ]
  },
  {
   "cell_type": "code",
   "execution_count": 49,
   "metadata": {
    "collapsed": false
   },
   "outputs": [],
   "source": [
    "PIXELS = 48\n",
    "\n",
    "from lasagne import layers\n",
    "from lasagne import nonlinearities\n",
    "from nolearn.lasagne import NeuralNet\n",
    "\n",
    "net1 = NeuralNet(\n",
    "    # Geometry of the network\n",
    "    layers=[\n",
    "        ('input', layers.InputLayer),\n",
    "        \n",
    "        ('conv1', layers.Conv2DLayer),\n",
    "        ('pool1', layers.MaxPool2DLayer),\n",
    "        ('dropout1', layers.DropoutLayer),\n",
    "        \n",
    "        ('conv2', layers.Conv2DLayer),\n",
    "        ('pool2', layers.MaxPool2DLayer),\n",
    "        ('dropout2', layers.DropoutLayer),\n",
    "        \n",
    "        ('hidden3', layers.DenseLayer),\n",
    "        ('dropout3', layers.DropoutLayer),\n",
    "        \n",
    "        ('hidden4', layers.DenseLayer),\n",
    "        ('dropout4', layers.DropoutLayer),\n",
    "        \n",
    "        ('output', layers.DenseLayer),\n",
    "        ],\n",
    "    input_shape=(None, 5, PIXELS, PIXELS), #None in the first axis indicates that the batch size can be set later\n",
    "    conv1_num_filters=32, conv1_filter_size=(5, 5), pool1_pool_size=(2, 2), #pool_size used to be called ds in old versions of lasagne\n",
    "    dropout1_p=0.0,\n",
    "    \n",
    "    conv2_num_filters=64, conv2_filter_size=(3, 3), pool2_pool_size=(2, 2),\n",
    "    dropout2_p=0.3,\n",
    "    \n",
    "    hidden3_num_units=100,\n",
    "    dropout3_p=0.3,\n",
    "    \n",
    "    hidden4_num_units=20,\n",
    "    dropout4_p=0.3,\n",
    "    \n",
    "    output_num_units=5, output_nonlinearity=nonlinearities.softmax,\n",
    "\n",
    "    # learning rate parameters\n",
    "    update_learning_rate=0.01,\n",
    "    update_momentum=0.9,\n",
    "    regression=False,\n",
    "    # We only train for 10 epochs\n",
    "    max_epochs=200,\n",
    "    verbose=1,\n",
    "\n",
    "    # Training test-set split\n",
    "    eval_size = 0.2\n",
    "    )"
   ]
  },
  {
   "cell_type": "code",
   "execution_count": 50,
   "metadata": {
    "collapsed": false
   },
   "outputs": [
    {
     "name": "stdout",
     "output_type": "stream",
     "text": [
      "# Neural Network with 664753 learnable parameters\n",
      "\n",
      "## Layer information\n",
      "\n",
      "|   # | name     | size     |\n",
      "|----:|:---------|:---------|\n",
      "|   0 | input    | 5x48x48  |\n",
      "|   1 | conv1    | 32x44x44 |\n",
      "|   2 | pool1    | 32x22x22 |\n",
      "|   3 | dropout1 | 32x22x22 |\n",
      "|   4 | conv2    | 64x20x20 |\n",
      "|   5 | pool2    | 64x10x10 |\n",
      "|   6 | dropout2 | 64x10x10 |\n",
      "|   7 | hidden3  | 100      |\n",
      "|   8 | dropout3 | 100      |\n",
      "|   9 | hidden4  | 20       |\n",
      "|  10 | dropout4 | 20       |\n",
      "|  11 | output   | 5        |\n",
      "\n",
      "  epoch    train loss    valid loss    train/val    valid acc  dur\n",
      "-------  ------------  ------------  -----------  -----------  ------\n",
      "      1       \u001b[36m0.55477\u001b[0m       \u001b[32m0.41385\u001b[0m      1.34051      0.85511  13.17s\n",
      "      2       \u001b[36m0.42584\u001b[0m       \u001b[32m0.34880\u001b[0m      1.22088      0.87606  13.14s\n",
      "      3       \u001b[36m0.37707\u001b[0m       \u001b[32m0.32226\u001b[0m      1.17008      0.88511  13.14s\n",
      "      4       \u001b[36m0.34765\u001b[0m       \u001b[32m0.30892\u001b[0m      1.12539      0.88895  13.14s\n",
      "      5       \u001b[36m0.32800\u001b[0m       \u001b[32m0.29644\u001b[0m      1.10643      0.89391  13.14s\n",
      "      6       \u001b[36m0.30388\u001b[0m       \u001b[32m0.28984\u001b[0m      1.04842      0.89714  13.14s\n",
      "      7       \u001b[36m0.29708\u001b[0m       \u001b[32m0.28354\u001b[0m      1.04774      0.90023  13.14s\n",
      "      8       \u001b[36m0.28476\u001b[0m       0.28844      0.98725      0.89901  13.14s\n",
      "      9       \u001b[36m0.27514\u001b[0m       0.30589      0.89947      0.89216  13.14s\n",
      "     10       \u001b[36m0.26911\u001b[0m       \u001b[32m0.27626\u001b[0m      0.97411      0.90173  13.02s\n",
      "     11       \u001b[36m0.25846\u001b[0m       \u001b[32m0.27353\u001b[0m      0.94489      0.90309  13.14s\n",
      "     12       \u001b[36m0.25001\u001b[0m       0.27498      0.90917      0.90136  13.16s\n",
      "     13       \u001b[36m0.23753\u001b[0m       0.27507      0.86352      0.90695  13.14s\n",
      "     14       \u001b[36m0.23321\u001b[0m       0.28418      0.82065      0.89727  13.15s\n",
      "     15       \u001b[36m0.22925\u001b[0m       0.27490      0.83392      0.90371  13.14s\n",
      "     16       \u001b[36m0.21726\u001b[0m       \u001b[32m0.26819\u001b[0m      0.81009      0.90620  13.18s\n",
      "     17       \u001b[36m0.20937\u001b[0m       0.28928      0.72377      0.90445  13.25s\n",
      "     18       \u001b[36m0.20932\u001b[0m       0.27562      0.75947      0.90681  13.25s\n",
      "     19       \u001b[36m0.19946\u001b[0m       0.27355      0.72913      0.91140  13.26s\n",
      "     20       \u001b[36m0.19128\u001b[0m       0.27790      0.68831      0.90595  13.25s\n"
     ]
    },
    {
     "name": "stderr",
     "output_type": "stream",
     "text": [
      "/usr/local/lib/python2.7/dist-packages/Lasagne-0.1dev-py2.7.egg/lasagne/init.py:86: UserWarning: The uniform initializer no longer uses Glorot et al.'s approach to determine the bounds, but defaults to the range (-0.01, 0.01) instead. Please use the new GlorotUniform initializer to get the old behavior. GlorotUniform is now the default for all layers.\n",
      "  warnings.warn(\"The uniform initializer no longer uses Glorot et al.'s \"\n",
      "/usr/local/lib/python2.7/dist-packages/Lasagne-0.1dev-py2.7.egg/lasagne/layers/helper.py:69: UserWarning: get_all_layers() has been changed to return layers in topological order. The former implementation is still available as get_all_layers_old(), but will be removed before the first release of Lasagne. To ignore this warning, use `warnings.filterwarnings('ignore', '.*topo.*')`.\n",
      "  warnings.warn(\"get_all_layers() has been changed to return layers in \"\n"
     ]
    }
   ],
   "source": [
    "net = net1.fit(XX,YY)"
   ]
  },
  {
   "cell_type": "code",
   "execution_count": 54,
   "metadata": {
    "collapsed": false
   },
   "outputs": [
    {
     "data": {
      "text/plain": [
       "<matplotlib.axes.AxesSubplot at 0xb56b490>"
      ]
     },
     "execution_count": 54,
     "metadata": {},
     "output_type": "execute_result"
    },
    {
     "data": {
      "image/png": "[encoded data removed]",
      "text/plain": [
       "<matplotlib.figure.Figure at 0xb56b110>"
      ]
     },
     "metadata": {},
     "output_type": "display_data"
    }
   ],
   "source": [
    "%matplotlib inline\n",
    "import pandas as pd\n",
    "dfNoAug = pd.DataFrame(net.train_history_)\n",
    "dfNoAug[['train_loss','valid_loss','valid_accuracy']].plot(title='No Augmentation', ylim=(0,1))"
   ]
  },
  {
   "cell_type": "code",
   "execution_count": 55,
   "metadata": {
    "collapsed": true
   },
   "outputs": [],
   "source": [
    "pred = net.predict(X_test)"
   ]
  },
  {
   "cell_type": "code",
   "execution_count": 60,
   "metadata": {
    "collapsed": false
   },
   "outputs": [
    {
     "data": {
      "text/plain": [
       "0.80633204633204636"
      ]
     },
     "execution_count": 60,
     "metadata": {},
     "output_type": "execute_result"
    }
   ],
   "source": [
    "sum(pred == Y_test)/float(len(Y_test))"
   ]
  },
  {
   "cell_type": "markdown",
   "metadata": {},
   "source": [
    "### Calucation of the confusion matrix"
   ]
  },
  {
   "cell_type": "code",
   "execution_count": 73,
   "metadata": {
    "collapsed": false
   },
   "outputs": [
    {
     "data": {
      "text/html": [
       "<div style=\"max-height:1000px;max-width:1500px;overflow:auto;\">\n",
       "<table border=\"1\" class=\"dataframe\">\n",
       "  <thead>\n",
       "    <tr style=\"text-align: right;\">\n",
       "      <th></th>\n",
       "      <th>DMSO</th>\n",
       "      <th>PACLITAXEL</th>\n",
       "      <th>METOCLOPRAMIDE</th>\n",
       "      <th>DIGOXIN</th>\n",
       "    </tr>\n",
       "  </thead>\n",
       "  <tbody>\n",
       "    <tr>\n",
       "      <th>DMSO</th>\n",
       "      <td> 8773</td>\n",
       "      <td>  24</td>\n",
       "      <td> 1289</td>\n",
       "      <td>   0</td>\n",
       "    </tr>\n",
       "    <tr>\n",
       "      <th>PACLITAXEL</th>\n",
       "      <td>  323</td>\n",
       "      <td> 240</td>\n",
       "      <td>  119</td>\n",
       "      <td>   1</td>\n",
       "    </tr>\n",
       "    <tr>\n",
       "      <th>METOCLOPRAMIDE</th>\n",
       "      <td>  630</td>\n",
       "      <td>  51</td>\n",
       "      <td> 1303</td>\n",
       "      <td>   0</td>\n",
       "    </tr>\n",
       "    <tr>\n",
       "      <th>DIGOXIN</th>\n",
       "      <td>    9</td>\n",
       "      <td>  62</td>\n",
       "      <td>    0</td>\n",
       "      <td> 126</td>\n",
       "    </tr>\n",
       "  </tbody>\n",
       "</table>\n",
       "</div>"
      ],
      "text/plain": [
       "                DMSO  PACLITAXEL  METOCLOPRAMIDE  DIGOXIN\n",
       "DMSO            8773          24            1289        0\n",
       "PACLITAXEL       323         240             119        1\n",
       "METOCLOPRAMIDE   630          51            1303        0\n",
       "DIGOXIN            9          62               0      126"
      ]
     },
     "execution_count": 73,
     "metadata": {},
     "output_type": "execute_result"
    }
   ],
   "source": [
    "from sklearn.metrics import confusion_matrix\n",
    "import pandas as pd\n",
    "names = ('DMSO', 'PACLITAXEL', 'METOCLOPRAMIDE', 'DIGOXIN')\n",
    "m = confusion_matrix(pred, Y_test)\n",
    "df = pd.DataFrame(m)\n",
    "df.columns = names\n",
    "df.index = names\n",
    "df"
   ]
  }
 ],
 "metadata": {
  "kernelspec": {
   "display_name": "Python 2",
   "language": "python",
   "name": "python2"
  },
  "language_info": {
   "codemirror_mode": {
    "name": "ipython",
    "version": 2
   },
   "file_extension": ".py",
   "mimetype": "text/x-python",
   "name": "python",
   "nbconvert_exporter": "python",
   "pygments_lexer": "ipython2",
   "version": "2.7.3"
  }
 },
 "nbformat": 4,
 "nbformat_minor": 0
}
