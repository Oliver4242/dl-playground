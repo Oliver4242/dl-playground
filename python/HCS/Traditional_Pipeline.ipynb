{
 "cells": [
  {
   "cell_type": "markdown",
   "metadata": {},
   "source": [
    "### Alternative approach using SVM"
   ]
  },
  {
   "cell_type": "code",
   "execution_count": 1,
   "metadata": {
    "collapsed": true
   },
   "outputs": [],
   "source": [
    "import gzip\n",
    "import numpy as np\n",
    "from sklearn.cross_validation import KFold\n",
    "from sklearn.cross_validation import StratifiedKFold\n",
    "from sklearn import svm\n",
    "import pandas as pd\n",
    "import matplotlib.pyplot as plt\n",
    "import matplotlib.image as imgplot\n",
    "import time\n",
    "from sklearn.preprocessing import Imputer\n",
    "from sklearn.metrics import confusion_matrix\n",
    "%matplotlib inline"
   ]
  },
  {
   "cell_type": "code",
   "execution_count": 2,
   "metadata": {
    "collapsed": false
   },
   "outputs": [
    {
     "name": "stdout",
     "output_type": "stream",
     "text": [
      "Loaded data in 0.00041389465332\n"
     ]
    }
   ],
   "source": [
    "start = time.time()\n",
    "npzfile = np.load('HCS_48x48.npz')\n",
    "print (\"Loaded data in \" + str(time.time() - start))"
   ]
  },
  {
   "cell_type": "code",
   "execution_count": 3,
   "metadata": {
    "collapsed": false
   },
   "outputs": [
    {
     "data": {
      "text/plain": [
       "['arr_1', 'arr_0', 'arr_2']"
      ]
     },
     "execution_count": 3,
     "metadata": {},
     "output_type": "execute_result"
    }
   ],
   "source": [
    "npzfile.files"
   ]
  },
  {
   "cell_type": "code",
   "execution_count": 4,
   "metadata": {
    "collapsed": false
   },
   "outputs": [
    {
     "name": "stdout",
     "output_type": "stream",
     "text": [
      "Loaded data in 4.46041202545\n"
     ]
    }
   ],
   "source": [
    "start = time.time()\n",
    "cell_rows = npzfile['arr_0']\n",
    "X = npzfile['arr_1']\n",
    "Y = npzfile['arr_2']\n",
    "print (\"Loaded data in \" + str(time.time() - start))"
   ]
  },
  {
   "cell_type": "code",
   "execution_count": 5,
   "metadata": {
    "collapsed": false
   },
   "outputs": [
    {
     "data": {
      "text/plain": [
       "((52950,), (52950,), (52950, 5, 48, 48), numpy.ndarray)"
      ]
     },
     "execution_count": 5,
     "metadata": {},
     "output_type": "execute_result"
    }
   ],
   "source": [
    "np.shape(cell_rows), np.shape(Y), np.shape(X), type(X)"
   ]
  },
  {
   "cell_type": "markdown",
   "metadata": {},
   "source": [
    "### Loading the features of the cells"
   ]
  },
  {
   "cell_type": "code",
   "execution_count": 6,
   "metadata": {
    "collapsed": false
   },
   "outputs": [],
   "source": [
    "cells = pd.read_csv('/home/dueo/data/Genedata/Cells.csv')"
   ]
  },
  {
   "cell_type": "code",
   "execution_count": 7,
   "metadata": {
    "collapsed": false
   },
   "outputs": [
    {
     "data": {
      "text/html": [
       "<div style=\"max-height:1000px;max-width:1500px;overflow:auto;\">\n",
       "<table border=\"1\" class=\"dataframe\">\n",
       "  <thead>\n",
       "    <tr style=\"text-align: right;\">\n",
       "      <th></th>\n",
       "      <th>ImageNumber</th>\n",
       "      <th>ObjectNumber</th>\n",
       "      <th>Metadata_Channel</th>\n",
       "      <th>Metadata_Compound</th>\n",
       "      <th>Metadata_FileLocation</th>\n",
       "      <th>Metadata_Frame</th>\n",
       "      <th>Metadata_Phenotype</th>\n",
       "      <th>Metadata_Plate</th>\n",
       "      <th>Metadata_Series</th>\n",
       "      <th>Metadata_Site</th>\n",
       "      <th>...</th>\n",
       "      <th>Texture_Variance_ER_3_0</th>\n",
       "      <th>Texture_Variance_ER_5_0</th>\n",
       "      <th>Texture_Variance_Golgi_Actin_3_0</th>\n",
       "      <th>Texture_Variance_Golgi_Actin_5_0</th>\n",
       "      <th>Texture_Variance_Hoechst_3_0</th>\n",
       "      <th>Texture_Variance_Hoechst_5_0</th>\n",
       "      <th>Texture_Variance_Mito_3_0</th>\n",
       "      <th>Texture_Variance_Mito_5_0</th>\n",
       "      <th>Texture_Variance_Nucleoli_3_0</th>\n",
       "      <th>Texture_Variance_Nucleoli_5_0</th>\n",
       "    </tr>\n",
       "  </thead>\n",
       "  <tbody>\n",
       "    <tr>\n",
       "      <th>0</th>\n",
       "      <td> 1</td>\n",
       "      <td>  1</td>\n",
       "      <td>NaN</td>\n",
       "      <td> PACLITAXEL</td>\n",
       "      <td>NaN</td>\n",
       "      <td> 0</td>\n",
       "      <td> 1</td>\n",
       "      <td> 20585</td>\n",
       "      <td> 0</td>\n",
       "      <td> 1</td>\n",
       "      <td>...</td>\n",
       "      <td> 0.963408</td>\n",
       "      <td> 0.942669</td>\n",
       "      <td> 1.432731</td>\n",
       "      <td> 1.470543</td>\n",
       "      <td> 2.608476</td>\n",
       "      <td> 2.653153</td>\n",
       "      <td> 1.357492</td>\n",
       "      <td> 1.328036</td>\n",
       "      <td> 1.516640</td>\n",
       "      <td> 1.495042</td>\n",
       "    </tr>\n",
       "    <tr>\n",
       "      <th>1</th>\n",
       "      <td> 1</td>\n",
       "      <td>  2</td>\n",
       "      <td>NaN</td>\n",
       "      <td> PACLITAXEL</td>\n",
       "      <td>NaN</td>\n",
       "      <td> 0</td>\n",
       "      <td> 1</td>\n",
       "      <td> 20585</td>\n",
       "      <td> 0</td>\n",
       "      <td> 1</td>\n",
       "      <td>...</td>\n",
       "      <td> 1.070573</td>\n",
       "      <td> 1.084703</td>\n",
       "      <td> 1.917686</td>\n",
       "      <td> 1.915602</td>\n",
       "      <td> 2.261544</td>\n",
       "      <td> 2.322472</td>\n",
       "      <td> 1.621720</td>\n",
       "      <td> 1.628327</td>\n",
       "      <td> 1.489087</td>\n",
       "      <td> 1.491358</td>\n",
       "    </tr>\n",
       "    <tr>\n",
       "      <th>2</th>\n",
       "      <td> 1</td>\n",
       "      <td>  3</td>\n",
       "      <td>NaN</td>\n",
       "      <td> PACLITAXEL</td>\n",
       "      <td>NaN</td>\n",
       "      <td> 0</td>\n",
       "      <td> 1</td>\n",
       "      <td> 20585</td>\n",
       "      <td> 0</td>\n",
       "      <td> 1</td>\n",
       "      <td>...</td>\n",
       "      <td> 0.703105</td>\n",
       "      <td> 0.714262</td>\n",
       "      <td> 1.621151</td>\n",
       "      <td> 1.623899</td>\n",
       "      <td> 1.664106</td>\n",
       "      <td> 1.705266</td>\n",
       "      <td> 1.610848</td>\n",
       "      <td> 1.621337</td>\n",
       "      <td> 1.679954</td>\n",
       "      <td> 1.700747</td>\n",
       "    </tr>\n",
       "    <tr>\n",
       "      <th>3</th>\n",
       "      <td> 1</td>\n",
       "      <td>  4</td>\n",
       "      <td>NaN</td>\n",
       "      <td> PACLITAXEL</td>\n",
       "      <td>NaN</td>\n",
       "      <td> 0</td>\n",
       "      <td> 1</td>\n",
       "      <td> 20585</td>\n",
       "      <td> 0</td>\n",
       "      <td> 1</td>\n",
       "      <td>...</td>\n",
       "      <td> 0.878495</td>\n",
       "      <td> 0.893629</td>\n",
       "      <td> 2.028432</td>\n",
       "      <td> 2.033459</td>\n",
       "      <td> 1.902903</td>\n",
       "      <td> 1.943207</td>\n",
       "      <td> 1.805773</td>\n",
       "      <td> 1.814701</td>\n",
       "      <td> 2.316864</td>\n",
       "      <td> 2.325391</td>\n",
       "    </tr>\n",
       "    <tr>\n",
       "      <th>4</th>\n",
       "      <td> 1</td>\n",
       "      <td>  5</td>\n",
       "      <td>NaN</td>\n",
       "      <td> PACLITAXEL</td>\n",
       "      <td>NaN</td>\n",
       "      <td> 0</td>\n",
       "      <td> 1</td>\n",
       "      <td> 20585</td>\n",
       "      <td> 0</td>\n",
       "      <td> 1</td>\n",
       "      <td>...</td>\n",
       "      <td> 1.316787</td>\n",
       "      <td> 1.330969</td>\n",
       "      <td> 1.780373</td>\n",
       "      <td> 1.792182</td>\n",
       "      <td> 1.583360</td>\n",
       "      <td> 1.619792</td>\n",
       "      <td> 2.144978</td>\n",
       "      <td> 2.150522</td>\n",
       "      <td> 2.188546</td>\n",
       "      <td> 2.206693</td>\n",
       "    </tr>\n",
       "    <tr>\n",
       "      <th>5</th>\n",
       "      <td> 1</td>\n",
       "      <td>  6</td>\n",
       "      <td>NaN</td>\n",
       "      <td> PACLITAXEL</td>\n",
       "      <td>NaN</td>\n",
       "      <td> 0</td>\n",
       "      <td> 1</td>\n",
       "      <td> 20585</td>\n",
       "      <td> 0</td>\n",
       "      <td> 1</td>\n",
       "      <td>...</td>\n",
       "      <td> 0.539576</td>\n",
       "      <td> 0.547029</td>\n",
       "      <td> 0.619443</td>\n",
       "      <td> 0.621007</td>\n",
       "      <td> 1.200822</td>\n",
       "      <td> 1.226364</td>\n",
       "      <td> 0.830376</td>\n",
       "      <td> 0.833998</td>\n",
       "      <td> 1.662265</td>\n",
       "      <td> 1.674101</td>\n",
       "    </tr>\n",
       "    <tr>\n",
       "      <th>6</th>\n",
       "      <td> 1</td>\n",
       "      <td>  7</td>\n",
       "      <td>NaN</td>\n",
       "      <td> PACLITAXEL</td>\n",
       "      <td>NaN</td>\n",
       "      <td> 0</td>\n",
       "      <td> 1</td>\n",
       "      <td> 20585</td>\n",
       "      <td> 0</td>\n",
       "      <td> 1</td>\n",
       "      <td>...</td>\n",
       "      <td> 0.963023</td>\n",
       "      <td> 0.979858</td>\n",
       "      <td> 1.829875</td>\n",
       "      <td> 1.830180</td>\n",
       "      <td> 1.448971</td>\n",
       "      <td> 1.480549</td>\n",
       "      <td> 1.988062</td>\n",
       "      <td> 2.009791</td>\n",
       "      <td> 2.049452</td>\n",
       "      <td> 2.074722</td>\n",
       "    </tr>\n",
       "    <tr>\n",
       "      <th>7</th>\n",
       "      <td> 1</td>\n",
       "      <td>  8</td>\n",
       "      <td>NaN</td>\n",
       "      <td> PACLITAXEL</td>\n",
       "      <td>NaN</td>\n",
       "      <td> 0</td>\n",
       "      <td> 1</td>\n",
       "      <td> 20585</td>\n",
       "      <td> 0</td>\n",
       "      <td> 1</td>\n",
       "      <td>...</td>\n",
       "      <td> 1.615376</td>\n",
       "      <td> 1.670367</td>\n",
       "      <td> 1.025157</td>\n",
       "      <td> 1.044319</td>\n",
       "      <td> 1.195368</td>\n",
       "      <td> 1.233132</td>\n",
       "      <td> 1.294517</td>\n",
       "      <td> 1.335664</td>\n",
       "      <td> 1.401528</td>\n",
       "      <td> 1.434296</td>\n",
       "    </tr>\n",
       "    <tr>\n",
       "      <th>8</th>\n",
       "      <td> 1</td>\n",
       "      <td>  9</td>\n",
       "      <td>NaN</td>\n",
       "      <td> PACLITAXEL</td>\n",
       "      <td>NaN</td>\n",
       "      <td> 0</td>\n",
       "      <td> 1</td>\n",
       "      <td> 20585</td>\n",
       "      <td> 0</td>\n",
       "      <td> 1</td>\n",
       "      <td>...</td>\n",
       "      <td> 1.541733</td>\n",
       "      <td> 1.560041</td>\n",
       "      <td> 1.994704</td>\n",
       "      <td> 1.990997</td>\n",
       "      <td> 2.043194</td>\n",
       "      <td> 2.106477</td>\n",
       "      <td> 2.605194</td>\n",
       "      <td> 2.634599</td>\n",
       "      <td> 2.202151</td>\n",
       "      <td> 2.215279</td>\n",
       "    </tr>\n",
       "    <tr>\n",
       "      <th>9</th>\n",
       "      <td> 1</td>\n",
       "      <td> 10</td>\n",
       "      <td>NaN</td>\n",
       "      <td> PACLITAXEL</td>\n",
       "      <td>NaN</td>\n",
       "      <td> 0</td>\n",
       "      <td> 1</td>\n",
       "      <td> 20585</td>\n",
       "      <td> 0</td>\n",
       "      <td> 1</td>\n",
       "      <td>...</td>\n",
       "      <td> 1.178213</td>\n",
       "      <td> 1.190568</td>\n",
       "      <td> 1.406871</td>\n",
       "      <td> 1.418717</td>\n",
       "      <td> 1.183611</td>\n",
       "      <td> 1.203218</td>\n",
       "      <td> 1.903699</td>\n",
       "      <td> 1.914429</td>\n",
       "      <td> 1.672578</td>\n",
       "      <td> 1.693390</td>\n",
       "    </tr>\n",
       "  </tbody>\n",
       "</table>\n",
       "<p>10 rows × 407 columns</p>\n",
       "</div>"
      ],
      "text/plain": [
       "   ImageNumber  ObjectNumber  Metadata_Channel Metadata_Compound  \\\n",
       "0            1             1               NaN        PACLITAXEL   \n",
       "1            1             2               NaN        PACLITAXEL   \n",
       "2            1             3               NaN        PACLITAXEL   \n",
       "3            1             4               NaN        PACLITAXEL   \n",
       "4            1             5               NaN        PACLITAXEL   \n",
       "5            1             6               NaN        PACLITAXEL   \n",
       "6            1             7               NaN        PACLITAXEL   \n",
       "7            1             8               NaN        PACLITAXEL   \n",
       "8            1             9               NaN        PACLITAXEL   \n",
       "9            1            10               NaN        PACLITAXEL   \n",
       "\n",
       "   Metadata_FileLocation  Metadata_Frame  Metadata_Phenotype  Metadata_Plate  \\\n",
       "0                    NaN               0                   1           20585   \n",
       "1                    NaN               0                   1           20585   \n",
       "2                    NaN               0                   1           20585   \n",
       "3                    NaN               0                   1           20585   \n",
       "4                    NaN               0                   1           20585   \n",
       "5                    NaN               0                   1           20585   \n",
       "6                    NaN               0                   1           20585   \n",
       "7                    NaN               0                   1           20585   \n",
       "8                    NaN               0                   1           20585   \n",
       "9                    NaN               0                   1           20585   \n",
       "\n",
       "   Metadata_Series  Metadata_Site              ...                \\\n",
       "0                0              1              ...                 \n",
       "1                0              1              ...                 \n",
       "2                0              1              ...                 \n",
       "3                0              1              ...                 \n",
       "4                0              1              ...                 \n",
       "5                0              1              ...                 \n",
       "6                0              1              ...                 \n",
       "7                0              1              ...                 \n",
       "8                0              1              ...                 \n",
       "9                0              1              ...                 \n",
       "\n",
       "  Texture_Variance_ER_3_0  Texture_Variance_ER_5_0  \\\n",
       "0                0.963408                 0.942669   \n",
       "1                1.070573                 1.084703   \n",
       "2                0.703105                 0.714262   \n",
       "3                0.878495                 0.893629   \n",
       "4                1.316787                 1.330969   \n",
       "5                0.539576                 0.547029   \n",
       "6                0.963023                 0.979858   \n",
       "7                1.615376                 1.670367   \n",
       "8                1.541733                 1.560041   \n",
       "9                1.178213                 1.190568   \n",
       "\n",
       "   Texture_Variance_Golgi_Actin_3_0  Texture_Variance_Golgi_Actin_5_0  \\\n",
       "0                          1.432731                          1.470543   \n",
       "1                          1.917686                          1.915602   \n",
       "2                          1.621151                          1.623899   \n",
       "3                          2.028432                          2.033459   \n",
       "4                          1.780373                          1.792182   \n",
       "5                          0.619443                          0.621007   \n",
       "6                          1.829875                          1.830180   \n",
       "7                          1.025157                          1.044319   \n",
       "8                          1.994704                          1.990997   \n",
       "9                          1.406871                          1.418717   \n",
       "\n",
       "   Texture_Variance_Hoechst_3_0  Texture_Variance_Hoechst_5_0  \\\n",
       "0                      2.608476                      2.653153   \n",
       "1                      2.261544                      2.322472   \n",
       "2                      1.664106                      1.705266   \n",
       "3                      1.902903                      1.943207   \n",
       "4                      1.583360                      1.619792   \n",
       "5                      1.200822                      1.226364   \n",
       "6                      1.448971                      1.480549   \n",
       "7                      1.195368                      1.233132   \n",
       "8                      2.043194                      2.106477   \n",
       "9                      1.183611                      1.203218   \n",
       "\n",
       "   Texture_Variance_Mito_3_0  Texture_Variance_Mito_5_0  \\\n",
       "0                   1.357492                   1.328036   \n",
       "1                   1.621720                   1.628327   \n",
       "2                   1.610848                   1.621337   \n",
       "3                   1.805773                   1.814701   \n",
       "4                   2.144978                   2.150522   \n",
       "5                   0.830376                   0.833998   \n",
       "6                   1.988062                   2.009791   \n",
       "7                   1.294517                   1.335664   \n",
       "8                   2.605194                   2.634599   \n",
       "9                   1.903699                   1.914429   \n",
       "\n",
       "   Texture_Variance_Nucleoli_3_0  Texture_Variance_Nucleoli_5_0  \n",
       "0                       1.516640                       1.495042  \n",
       "1                       1.489087                       1.491358  \n",
       "2                       1.679954                       1.700747  \n",
       "3                       2.316864                       2.325391  \n",
       "4                       2.188546                       2.206693  \n",
       "5                       1.662265                       1.674101  \n",
       "6                       2.049452                       2.074722  \n",
       "7                       1.401528                       1.434296  \n",
       "8                       2.202151                       2.215279  \n",
       "9                       1.672578                       1.693390  \n",
       "\n",
       "[10 rows x 407 columns]"
      ]
     },
     "execution_count": 7,
     "metadata": {},
     "output_type": "execute_result"
    }
   ],
   "source": [
    "cells[0:10]"
   ]
  },
  {
   "cell_type": "markdown",
   "metadata": {},
   "source": [
    "### Extracting the features and imputing NaNs"
   ]
  },
  {
   "cell_type": "code",
   "execution_count": 8,
   "metadata": {
    "collapsed": false
   },
   "outputs": [
    {
     "data": {
      "text/plain": [
       "(52950, 396)"
      ]
     },
     "execution_count": 8,
     "metadata": {},
     "output_type": "execute_result"
    }
   ],
   "source": [
    "X_features = np.asmatrix(cells.ix[cell_rows,11:])\n",
    "np.shape(X_features)"
   ]
  },
  {
   "cell_type": "code",
   "execution_count": 9,
   "metadata": {
    "collapsed": false
   },
   "outputs": [],
   "source": [
    "imp = Imputer(missing_values='NaN', strategy='mean', axis=0)\n",
    "imp.fit(X_features)\n",
    "X_features = imp.transform(X_features)"
   ]
  },
  {
   "cell_type": "markdown",
   "metadata": {},
   "source": [
    "### Normalization"
   ]
  },
  {
   "cell_type": "code",
   "execution_count": 10,
   "metadata": {
    "collapsed": false
   },
   "outputs": [],
   "source": [
    "Xmean = X_features.mean(axis = 0)\n",
    "XStd = np.sqrt(X_features.var(axis=0))\n",
    "X = (X_features-Xmean)/(XStd + 0.1)"
   ]
  },
  {
   "cell_type": "code",
   "execution_count": 11,
   "metadata": {
    "collapsed": false
   },
   "outputs": [
    {
     "data": {
      "text/plain": [
       "1.8164506533032305"
      ]
     },
     "execution_count": 11,
     "metadata": {},
     "output_type": "execute_result"
    }
   ],
   "source": [
    "np.max(X[:,1])"
   ]
  },
  {
   "cell_type": "code",
   "execution_count": 12,
   "metadata": {
    "collapsed": false
   },
   "outputs": [
    {
     "data": {
      "text/plain": [
       "(-9.5833446880979825, 132.67998438665234, -2.6729815147106906e-18)"
      ]
     },
     "execution_count": 12,
     "metadata": {},
     "output_type": "execute_result"
    }
   ],
   "source": [
    "np.min(X), np.max(X), np.mean(X)"
   ]
  },
  {
   "cell_type": "code",
   "execution_count": 13,
   "metadata": {
    "collapsed": true
   },
   "outputs": [],
   "source": [
    "Y = np.asarray(Y,dtype='int32')"
   ]
  },
  {
   "cell_type": "markdown",
   "metadata": {},
   "source": [
    "### Some examples (after normalization)\n",
    "rows are the different compounds"
   ]
  },
  {
   "cell_type": "markdown",
   "metadata": {},
   "source": [
    "### Splitting in training and test-set\n",
    "\n"
   ]
  },
  {
   "cell_type": "markdown",
   "metadata": {},
   "source": [
    "#### Version 2\n",
    "80%, 20% randomly choosen"
   ]
  },
  {
   "cell_type": "code",
   "execution_count": 14,
   "metadata": {
    "collapsed": false
   },
   "outputs": [
    {
     "name": "stdout",
     "output_type": "stream",
     "text": [
      "Sum of permutation 1401824775\n"
     ]
    }
   ],
   "source": [
    "# Currently a Acc. of 0.8976\n",
    "np.random.seed(seed=42)\n",
    "perm1 = np.random.permutation(len(Y))\n",
    "print('Sum of permutation {0}'.format(np.sum(perm1))) #1401824775\n",
    "N_split = int(len(Y) * 0.8)\n",
    "N_split\n",
    "idx_train  = perm1[:N_split]\n",
    "idx_test  = perm1[N_split:]\n",
    "    \n",
    "\n",
    "X_train = X[idx_train,:]\n",
    "Y_train = Y[idx_train]\n",
    "X_test = X[idx_test,:]\n",
    "Y_test = Y[idx_test]"
   ]
  },
  {
   "cell_type": "markdown",
   "metadata": {},
   "source": [
    "#### Permuting the training set"
   ]
  },
  {
   "cell_type": "code",
   "execution_count": 15,
   "metadata": {
    "collapsed": false
   },
   "outputs": [],
   "source": [
    "perm = np.random.permutation(len(Y_train))\n",
    "XX = X_train[perm,:]\n",
    "YY = Y_train[perm]"
   ]
  },
  {
   "cell_type": "markdown",
   "metadata": {},
   "source": [
    "### 10 Fold X-Validation\n",
    "\n",
    "We use a 10 fold crossvalidation on the training set to find the optimal parameters"
   ]
  },
  {
   "cell_type": "markdown",
   "metadata": {},
   "source": [
    "### Sampling \n",
    "\n",
    "For the SVM we sample so that the classes have equal proportions."
   ]
  },
  {
   "cell_type": "code",
   "execution_count": 65,
   "metadata": {
    "collapsed": false
   },
   "outputs": [
    {
     "data": {
      "text/plain": [
       "((array([32566,  1585,  7877,   332]), array([0, 1, 2, 3, 4])), 332)"
      ]
     },
     "execution_count": 65,
     "metadata": {},
     "output_type": "execute_result"
    }
   ],
   "source": [
    "hist = np.histogram(YY, bins=[0, 1, 2, 3,4])\n",
    "NMAX = np.min(hist[0])\n",
    "hist, NMAX"
   ]
  },
  {
   "cell_type": "code",
   "execution_count": 66,
   "metadata": {
    "collapsed": false
   },
   "outputs": [],
   "source": [
    "idx3 = np.argwhere(YY == 3)[0:NMAX]\n",
    "idx2 = np.argwhere(YY == 2)[0:NMAX]\n",
    "idx1 = np.argwhere(YY == 1)[0:NMAX]\n",
    "idx0 = np.argwhere(YY == 0)[0:NMAX]\n",
    "idx_d = np.concatenate((idx0,idx1,idx2,idx3))[:,0] #Orderedness is problem in studip k-fold\n",
    "perm_d = np.random.permutation(len(idx_d))\n",
    "idx = idx_d[perm_d]"
   ]
  },
  {
   "cell_type": "code",
   "execution_count": 67,
   "metadata": {
    "collapsed": false
   },
   "outputs": [
    {
     "data": {
      "text/plain": [
       "((1328, 396), (1328,), (42360, 396), (1328,))"
      ]
     },
     "execution_count": 67,
     "metadata": {},
     "output_type": "execute_result"
    }
   ],
   "source": [
    "XX1 = XX[idx]\n",
    "YY1 = YY[idx]\n",
    "np.shape(XX1), np.shape(YY1),np.shape(XX),np.shape(idx)"
   ]
  },
  {
   "cell_type": "code",
   "execution_count": 68,
   "metadata": {
    "collapsed": false
   },
   "outputs": [
    {
     "data": {
      "text/plain": [
       "(array([332, 332, 332, 332]), array([0, 1, 2, 3, 4]))"
      ]
     },
     "execution_count": 68,
     "metadata": {},
     "output_type": "execute_result"
    }
   ],
   "source": [
    "np.histogram(YY1,  bins=[0, 1, 2, 3,4])"
   ]
  },
  {
   "cell_type": "code",
   "execution_count": 69,
   "metadata": {
    "collapsed": false
   },
   "outputs": [
    {
     "data": {
      "text/plain": [
       "array([0, 0, 2, 0, 3, 2, 0, 1, 0], dtype=int32)"
      ]
     },
     "execution_count": 69,
     "metadata": {},
     "output_type": "execute_result"
    }
   ],
   "source": [
    "YY1[1:10]"
   ]
  },
  {
   "cell_type": "code",
   "execution_count": 70,
   "metadata": {
    "collapsed": false
   },
   "outputs": [],
   "source": [
    "def eval_10_Fold(C = 0.5):\n",
    "    N = len(XX1)\n",
    "    kf = KFold(N, n_folds=10)\n",
    "    acc = 0.0\n",
    "    rounds = 0.0\n",
    "    for train, test in kf:\n",
    "        model = svm.SVC(kernel='linear', C=C).fit(XX1[train,],YY1[train])\n",
    "        res = model.predict(XX1[test])\n",
    "        acc += sum(res == YY1[test])/float(len(test)) #Accuracy\n",
    "        rounds += 1.0\n",
    "        print('round ={0} C={1} acc (cumulated over the faults) ={2}'.format(rounds, C, acc / rounds))\n",
    "    return acc"
   ]
  },
  {
   "cell_type": "code",
   "execution_count": 71,
   "metadata": {
    "collapsed": false
   },
   "outputs": [
    {
     "name": "stdout",
     "output_type": "stream",
     "text": [
      "round =1.0 C=0.001 acc (cumulated over the faults) =0.774436090226\n",
      "round =2.0 C=0.001 acc (cumulated over the faults) =0.796992481203\n",
      "round =3.0 C=0.001 acc (cumulated over the faults) =0.80701754386\n",
      "round =4.0 C=0.001 acc (cumulated over the faults) =0.81954887218\n",
      "round =5.0 C=0.001 acc (cumulated over the faults) =0.816541353383\n",
      "round =6.0 C=0.001 acc (cumulated over the faults) =0.81328320802\n",
      "round =7.0 C=0.001 acc (cumulated over the faults) =0.817400644468\n",
      "round =8.0 C=0.001 acc (cumulated over the faults) =0.812030075188\n",
      "round =9.0 C=0.001 acc (cumulated over the faults) =0.811030100504\n",
      "round =10.0 C=0.001 acc (cumulated over the faults) =0.807199817726\n",
      "round =1.0 C=0.005 acc (cumulated over the faults) =0.812030075188\n",
      "round =2.0 C=0.005 acc (cumulated over the faults) =0.845864661654\n",
      "round =3.0 C=0.005 acc (cumulated over the faults) =0.847117794486\n",
      "round =4.0 C=0.005 acc (cumulated over the faults) =0.851503759398\n",
      "round =5.0 C=0.005 acc (cumulated over the faults) =0.855639097744\n",
      "round =6.0 C=0.005 acc (cumulated over the faults) =0.850877192982\n",
      "round =7.0 C=0.005 acc (cumulated over the faults) =0.852846401719\n",
      "round =8.0 C=0.005 acc (cumulated over the faults) =0.845864661654\n",
      "round =9.0 C=0.005 acc (cumulated over the faults) =0.845314042682\n",
      "round =10.0 C=0.005 acc (cumulated over the faults) =0.84032809296\n",
      "round =1.0 C=0.01 acc (cumulated over the faults) =0.81954887218\n",
      "round =2.0 C=0.01 acc (cumulated over the faults) =0.842105263158\n",
      "round =3.0 C=0.01 acc (cumulated over the faults) =0.84962406015\n",
      "round =4.0 C=0.01 acc (cumulated over the faults) =0.855263157895\n",
      "round =5.0 C=0.01 acc (cumulated over the faults) =0.864661654135\n",
      "round =6.0 C=0.01 acc (cumulated over the faults) =0.862155388471\n",
      "round =7.0 C=0.01 acc (cumulated over the faults) =0.863587540279\n",
      "round =8.0 C=0.01 acc (cumulated over the faults) =0.857142857143\n",
      "round =9.0 C=0.01 acc (cumulated over the faults) =0.858706108706\n",
      "round =10.0 C=0.01 acc (cumulated over the faults) =0.856168831169\n",
      "round =1.0 C=0.05 acc (cumulated over the faults) =0.84962406015\n",
      "round =2.0 C=0.05 acc (cumulated over the faults) =0.872180451128\n",
      "round =3.0 C=0.05 acc (cumulated over the faults) =0.877192982456\n",
      "round =4.0 C=0.05 acc (cumulated over the faults) =0.874060150376\n",
      "round =5.0 C=0.05 acc (cumulated over the faults) =0.873684210526\n",
      "round =6.0 C=0.05 acc (cumulated over the faults) =0.870927318296\n",
      "round =7.0 C=0.05 acc (cumulated over the faults) =0.86895810956\n",
      "round =8.0 C=0.05 acc (cumulated over the faults) =0.862781954887\n",
      "round =9.0 C=0.05 acc (cumulated over the faults) =0.865402141718\n",
      "round =10.0 C=0.05 acc (cumulated over the faults) =0.862952836637\n",
      "round =1.0 C=0.1 acc (cumulated over the faults) =0.84962406015\n",
      "round =2.0 C=0.1 acc (cumulated over the faults) =0.875939849624\n",
      "round =3.0 C=0.1 acc (cumulated over the faults) =0.87969924812\n",
      "round =4.0 C=0.1 acc (cumulated over the faults) =0.87969924812\n",
      "round =5.0 C=0.1 acc (cumulated over the faults) =0.876691729323\n",
      "round =6.0 C=0.1 acc (cumulated over the faults) =0.87343358396\n",
      "round =7.0 C=0.1 acc (cumulated over the faults) =0.867883995704\n",
      "round =8.0 C=0.1 acc (cumulated over the faults) =0.862781954887\n",
      "round =9.0 C=0.1 acc (cumulated over the faults) =0.864560390876\n",
      "round =10.0 C=0.1 acc (cumulated over the faults) =0.863710412395\n",
      "round =1.0 C=1.0 acc (cumulated over the faults) =0.864661654135\n",
      "round =2.0 C=1.0 acc (cumulated over the faults) =0.887218045113\n",
      "round =3.0 C=1.0 acc (cumulated over the faults) =0.867167919799\n",
      "round =4.0 C=1.0 acc (cumulated over the faults) =0.866541353383\n",
      "round =5.0 C=1.0 acc (cumulated over the faults) =0.86015037594\n",
      "round =6.0 C=1.0 acc (cumulated over the faults) =0.857142857143\n",
      "round =7.0 C=1.0 acc (cumulated over the faults) =0.850698174006\n",
      "round =8.0 C=1.0 acc (cumulated over the faults) =0.843984962406\n",
      "round =9.0 C=1.0 acc (cumulated over the faults) =0.846168451432\n",
      "round =10.0 C=1.0 acc (cumulated over the faults) =0.847157666895\n",
      "round =1.0 C=10.0 acc (cumulated over the faults) =0.864661654135\n",
      "round =2.0 C=10.0 acc (cumulated over the faults) =0.868421052632\n",
      "round =3.0 C=10.0 acc (cumulated over the faults) =0.83709273183\n",
      "round =4.0 C=10.0 acc (cumulated over the faults) =0.84022556391\n",
      "round =5.0 C=10.0 acc (cumulated over the faults) =0.831578947368\n",
      "round =6.0 C=10.0 acc (cumulated over the faults) =0.818295739348\n",
      "round =7.0 C=10.0 acc (cumulated over the faults) =0.815252416756\n",
      "round =8.0 C=10.0 acc (cumulated over the faults) =0.811090225564\n",
      "round =9.0 C=10.0 acc (cumulated over the faults) =0.814403432824\n",
      "round =10.0 C=10.0 acc (cumulated over the faults) =0.81478127136\n",
      "round =1.0 C=100.0 acc (cumulated over the faults) =0.834586466165\n",
      "round =2.0 C=100.0 acc (cumulated over the faults) =0.838345864662\n",
      "round =3.0 C=100.0 acc (cumulated over the faults) =0.817042606516\n",
      "round =4.0 C=100.0 acc (cumulated over the faults) =0.81954887218\n",
      "round =5.0 C=100.0 acc (cumulated over the faults) =0.813533834586\n",
      "round =6.0 C=100.0 acc (cumulated over the faults) =0.808270676692\n",
      "round =7.0 C=100.0 acc (cumulated over the faults) =0.803437164339\n",
      "round =8.0 C=100.0 acc (cumulated over the faults) =0.797932330827\n",
      "round =9.0 C=100.0 acc (cumulated over the faults) =0.802707526392\n",
      "round =10.0 C=100.0 acc (cumulated over the faults) =0.80122465254\n",
      "round =1.0 C=1000.0 acc (cumulated over the faults) =0.834586466165\n",
      "round =2.0 C=1000.0 acc (cumulated over the faults) =0.830827067669\n",
      "round =3.0 C=1000.0 acc (cumulated over the faults) =0.809523809524\n",
      "round =4.0 C=1000.0 acc (cumulated over the faults) =0.813909774436\n",
      "round =5.0 C=1000.0 acc (cumulated over the faults) =0.809022556391\n",
      "round =6.0 C=1000.0 acc (cumulated over the faults) =0.804511278195\n",
      "round =7.0 C=1000.0 acc (cumulated over the faults) =0.800214822771\n",
      "round =8.0 C=1000.0 acc (cumulated over the faults) =0.795112781955\n",
      "round =9.0 C=1000.0 acc (cumulated over the faults) =0.800201260728\n",
      "round =10.0 C=1000.0 acc (cumulated over the faults) =0.798969013443\n"
     ]
    }
   ],
   "source": [
    "Cs = (1e-3,5e-3,1e-2,5e-2,1e-1,1e0,1e+1,1e2,1e3)\n",
    "res = np.zeros(len(Cs))\n",
    "for i,C in enumerate(Cs):\n",
    "    res[i] = eval_10_Fold(C)"
   ]
  },
  {
   "cell_type": "code",
   "execution_count": 78,
   "metadata": {
    "collapsed": false
   },
   "outputs": [
    {
     "data": {
      "text/plain": [
       "((0.001, 0.005, 0.01, 0.05, 0.1, 1.0, 10.0, 100.0, 1000.0),\n",
       " array([ 8.07199818,  8.40328093,  8.56168831,  8.62952837,  8.63710412,\n",
       "         8.47157667,  8.14781271,  8.01224653,  7.98969013]))"
      ]
     },
     "execution_count": 78,
     "metadata": {},
     "output_type": "execute_result"
    },
    {
     "data": {
      "image/png": "[encoded data removed]",
      "text/plain": [
       "<matplotlib.figure.Figure at 0xff1e350>"
      ]
     },
     "metadata": {},
     "output_type": "display_data"
    }
   ],
   "source": [
    "plt.semilogx(Cs,res)\n",
    "(Cs,res)"
   ]
  },
  {
   "cell_type": "markdown",
   "metadata": {},
   "source": [
    "### Evaluation on the test set\n",
    "\n",
    "Training the model on the whole training data set"
   ]
  },
  {
   "cell_type": "code",
   "execution_count": 79,
   "metadata": {
    "collapsed": true
   },
   "outputs": [],
   "source": [
    "model = svm.SVC(kernel='linear', C=0.1).fit(XX1,YY1)"
   ]
  },
  {
   "cell_type": "code",
   "execution_count": 82,
   "metadata": {
    "collapsed": true
   },
   "outputs": [],
   "source": [
    "pred = model.predict(X_test)"
   ]
  },
  {
   "cell_type": "code",
   "execution_count": 83,
   "metadata": {
    "collapsed": false
   },
   "outputs": [
    {
     "data": {
      "text/plain": [
       "0.82492917847025493"
      ]
     },
     "execution_count": 83,
     "metadata": {},
     "output_type": "execute_result"
    }
   ],
   "source": [
    "sum(pred == Y_test)/float(len(Y_test))"
   ]
  },
  {
   "cell_type": "markdown",
   "metadata": {},
   "source": [
    "### Calucation of the confusion matrix"
   ]
  },
  {
   "cell_type": "code",
   "execution_count": 87,
   "metadata": {
    "collapsed": false
   },
   "outputs": [
    {
     "data": {
      "text/html": [
       "<div style=\"max-height:1000px;max-width:1500px;overflow:auto;\">\n",
       "<table border=\"1\" class=\"dataframe\">\n",
       "  <thead>\n",
       "    <tr style=\"text-align: right;\">\n",
       "      <th></th>\n",
       "      <th>DMSO True</th>\n",
       "      <th>PACLITAXEL True</th>\n",
       "      <th>METOCLOPRAMIDE True</th>\n",
       "      <th>DIGOXIN True</th>\n",
       "    </tr>\n",
       "  </thead>\n",
       "  <tbody>\n",
       "    <tr>\n",
       "      <th>DMSO Pred</th>\n",
       "      <td> 6898</td>\n",
       "      <td>   9</td>\n",
       "      <td>  388</td>\n",
       "      <td>  0</td>\n",
       "    </tr>\n",
       "    <tr>\n",
       "      <th>PACLITAXEL Pred</th>\n",
       "      <td>   61</td>\n",
       "      <td> 369</td>\n",
       "      <td>  112</td>\n",
       "      <td>  0</td>\n",
       "    </tr>\n",
       "    <tr>\n",
       "      <th>METOCLOPRAMIDE Pred</th>\n",
       "      <td> 1224</td>\n",
       "      <td>  16</td>\n",
       "      <td> 1387</td>\n",
       "      <td>  0</td>\n",
       "    </tr>\n",
       "    <tr>\n",
       "      <th>DIGOXIN Pred</th>\n",
       "      <td>   34</td>\n",
       "      <td>   9</td>\n",
       "      <td>    1</td>\n",
       "      <td> 82</td>\n",
       "    </tr>\n",
       "  </tbody>\n",
       "</table>\n",
       "</div>"
      ],
      "text/plain": [
       "                     DMSO True  PACLITAXEL True  METOCLOPRAMIDE True  \\\n",
       "DMSO Pred                 6898                9                  388   \n",
       "PACLITAXEL Pred             61              369                  112   \n",
       "METOCLOPRAMIDE Pred       1224               16                 1387   \n",
       "DIGOXIN Pred                34                9                    1   \n",
       "\n",
       "                     DIGOXIN True  \n",
       "DMSO Pred                       0  \n",
       "PACLITAXEL Pred                 0  \n",
       "METOCLOPRAMIDE Pred             0  \n",
       "DIGOXIN Pred                   82  "
      ]
     },
     "execution_count": 87,
     "metadata": {},
     "output_type": "execute_result"
    }
   ],
   "source": [
    "names = ('DMSO True', 'PACLITAXEL True', 'METOCLOPRAMIDE True', 'DIGOXIN True')\n",
    "m = confusion_matrix(pred, Y_test)\n",
    "df = pd.DataFrame(m)\n",
    "df.columns = names\n",
    "names = ('DMSO Pred', 'PACLITAXEL Pred', 'METOCLOPRAMIDE Pred', 'DIGOXIN Pred')\n",
    "df.index = names\n",
    "df"
   ]
  },
  {
   "cell_type": "code",
   "execution_count": 88,
   "metadata": {
    "collapsed": false
   },
   "outputs": [
    {
     "name": "stdout",
     "output_type": "stream",
     "text": [
      "Normalized confusion matrix\n"
     ]
    },
    {
     "data": {
      "text/html": [
       "<div style=\"max-height:1000px;max-width:1500px;overflow:auto;\">\n",
       "<table border=\"1\" class=\"dataframe\">\n",
       "  <thead>\n",
       "    <tr style=\"text-align: right;\">\n",
       "      <th></th>\n",
       "      <th>0</th>\n",
       "      <th>1</th>\n",
       "      <th>2</th>\n",
       "      <th>3</th>\n",
       "    </tr>\n",
       "  </thead>\n",
       "  <tbody>\n",
       "    <tr>\n",
       "      <th>0</th>\n",
       "      <td> 0.839479</td>\n",
       "      <td> 0.022333</td>\n",
       "      <td> 0.205508</td>\n",
       "      <td> 0</td>\n",
       "    </tr>\n",
       "    <tr>\n",
       "      <th>1</th>\n",
       "      <td> 0.007424</td>\n",
       "      <td> 0.915633</td>\n",
       "      <td> 0.059322</td>\n",
       "      <td> 0</td>\n",
       "    </tr>\n",
       "    <tr>\n",
       "      <th>2</th>\n",
       "      <td> 0.148959</td>\n",
       "      <td> 0.039702</td>\n",
       "      <td> 0.734640</td>\n",
       "      <td> 0</td>\n",
       "    </tr>\n",
       "    <tr>\n",
       "      <th>3</th>\n",
       "      <td> 0.004138</td>\n",
       "      <td> 0.022333</td>\n",
       "      <td> 0.000530</td>\n",
       "      <td> 1</td>\n",
       "    </tr>\n",
       "  </tbody>\n",
       "</table>\n",
       "</div>"
      ],
      "text/plain": [
       "          0         1         2  3\n",
       "0  0.839479  0.022333  0.205508  0\n",
       "1  0.007424  0.915633  0.059322  0\n",
       "2  0.148959  0.039702  0.734640  0\n",
       "3  0.004138  0.022333  0.000530  1"
      ]
     },
     "execution_count": 88,
     "metadata": {},
     "output_type": "execute_result"
    }
   ],
   "source": [
    "#cm_normalized = m.astype('float') / ((m.sum(axis=1)[:, np.newaxis]))\n",
    "cm_normalized = m.astype('float') / ((m.sum(axis=0)[np.newaxis,:]))\n",
    "print('Normalized confusion matrix')\n",
    "pd.DataFrame(cm_normalized)"
   ]
  },
  {
   "cell_type": "code",
   "execution_count": 89,
   "metadata": {
    "collapsed": false
   },
   "outputs": [
    {
     "data": {
      "text/plain": [
       "0.87243792837166534"
      ]
     },
     "execution_count": 89,
     "metadata": {},
     "output_type": "execute_result"
    }
   ],
   "source": [
    "np.mean(cm_normalized[np.diag_indices(4)])"
   ]
  }
 ],
 "metadata": {
  "kernelspec": {
   "display_name": "Python 2",
   "language": "python",
   "name": "python2"
  },
  "language_info": {
   "codemirror_mode": {
    "name": "ipython",
    "version": 2
   },
   "file_extension": ".py",
   "mimetype": "text/x-python",
   "name": "python",
   "nbconvert_exporter": "python",
   "pygments_lexer": "ipython2",
   "version": "2.7.3"
  }
 },
 "nbformat": 4,
 "nbformat_minor": 0
}
