{
 "cells": [
  {
   "cell_type": "markdown",
   "metadata": {},
   "source": [
    "### Alternative approach using SVM"
   ]
  },
  {
   "cell_type": "code",
   "execution_count": 1,
   "metadata": {
    "collapsed": true
   },
   "outputs": [],
   "source": [
    "import gzip\n",
    "import numpy as np\n",
    "from sklearn.cross_validation import KFold\n",
    "from sklearn.cross_validation import StratifiedKFold\n",
    "from sklearn import svm\n",
    "import pandas as pd\n",
    "import matplotlib.pyplot as plt\n",
    "import matplotlib.image as imgplot\n",
    "import time\n",
    "from sklearn.preprocessing import Imputer\n",
    "from sklearn.metrics import confusion_matrix\n",
    "%matplotlib inline"
   ]
  },
  {
   "cell_type": "code",
   "execution_count": 2,
   "metadata": {
    "collapsed": false
   },
   "outputs": [
    {
     "name": "stdout",
     "output_type": "stream",
     "text": [
      "Loaded data in 0.000427007675171\n"
     ]
    }
   ],
   "source": [
    "start = time.time()\n",
    "npzfile = np.load('HCS_48x48.npz')\n",
    "print (\"Loaded data in \" + str(time.time() - start))"
   ]
  },
  {
   "cell_type": "code",
   "execution_count": 3,
   "metadata": {
    "collapsed": false
   },
   "outputs": [
    {
     "data": {
      "text/plain": [
       "['arr_1', 'arr_0', 'arr_2']"
      ]
     },
     "execution_count": 3,
     "metadata": {},
     "output_type": "execute_result"
    }
   ],
   "source": [
    "npzfile.files"
   ]
  },
  {
   "cell_type": "code",
   "execution_count": 4,
   "metadata": {
    "collapsed": false
   },
   "outputs": [
    {
     "name": "stdout",
     "output_type": "stream",
     "text": [
      "Loaded data in 4.50604486465\n"
     ]
    }
   ],
   "source": [
    "start = time.time()\n",
    "cell_rows = npzfile['arr_0']\n",
    "X = npzfile['arr_1']\n",
    "Y = npzfile['arr_2']\n",
    "print (\"Loaded data in \" + str(time.time() - start))"
   ]
  },
  {
   "cell_type": "code",
   "execution_count": 5,
   "metadata": {
    "collapsed": false
   },
   "outputs": [
    {
     "data": {
      "text/plain": [
       "((52950,), (52950,), (52950, 5, 48, 48), numpy.ndarray)"
      ]
     },
     "execution_count": 5,
     "metadata": {},
     "output_type": "execute_result"
    }
   ],
   "source": [
    "np.shape(cell_rows), np.shape(Y), np.shape(X), type(X)"
   ]
  },
  {
   "cell_type": "markdown",
   "metadata": {},
   "source": [
    "### Loading the features of the cells"
   ]
  },
  {
   "cell_type": "code",
   "execution_count": 6,
   "metadata": {
    "collapsed": false
   },
   "outputs": [],
   "source": [
    "cells = pd.read_csv('/home/dueo/data/Genedata/Cells.csv')"
   ]
  },
  {
   "cell_type": "code",
   "execution_count": 15,
   "metadata": {
    "collapsed": false
   },
   "outputs": [
    {
     "ename": "SyntaxError",
     "evalue": "invalid syntax (<ipython-input-15-0b454546d70a>, line 2)",
     "output_type": "error",
     "traceback": [
      "\u001b[1;36m  File \u001b[1;32m\"<ipython-input-15-0b454546d70a>\"\u001b[1;36m, line \u001b[1;32m2\u001b[0m\n\u001b[1;33m    cells.\u001b[0m\n\u001b[1;37m          ^\u001b[0m\n\u001b[1;31mSyntaxError\u001b[0m\u001b[1;31m:\u001b[0m invalid syntax\n"
     ]
    }
   ],
   "source": [
    "cells[0:10]\n",
    "cells."
   ]
  },
  {
   "cell_type": "markdown",
   "metadata": {},
   "source": [
    "### Extracting the features and imputing NaNs"
   ]
  },
  {
   "cell_type": "code",
   "execution_count": 7,
   "metadata": {
    "collapsed": false
   },
   "outputs": [
    {
     "data": {
      "text/plain": [
       "(52950, 396)"
      ]
     },
     "execution_count": 7,
     "metadata": {},
     "output_type": "execute_result"
    }
   ],
   "source": [
    "X_features = np.asmatrix(cells.ix[cell_rows,11:])\n",
    "np.shape(X_features)"
   ]
  },
  {
   "cell_type": "code",
   "execution_count": 8,
   "metadata": {
    "collapsed": false
   },
   "outputs": [],
   "source": [
    "imp = Imputer(missing_values='NaN', strategy='mean', axis=0)\n",
    "imp.fit(X_features)\n",
    "X_features = imp.transform(X_features)"
   ]
  },
  {
   "cell_type": "markdown",
   "metadata": {},
   "source": [
    "### Normalization"
   ]
  },
  {
   "cell_type": "code",
   "execution_count": 9,
   "metadata": {
    "collapsed": false
   },
   "outputs": [],
   "source": [
    "Xmean = X_features.mean(axis = 0)\n",
    "XStd = np.sqrt(X_features.var(axis=0))\n",
    "X = (X_features-Xmean)/(XStd + 0.1)"
   ]
  },
  {
   "cell_type": "code",
   "execution_count": 10,
   "metadata": {
    "collapsed": false
   },
   "outputs": [
    {
     "data": {
      "text/plain": [
       "1.8164506533032305"
      ]
     },
     "execution_count": 10,
     "metadata": {},
     "output_type": "execute_result"
    }
   ],
   "source": [
    "np.max(X[:,1])"
   ]
  },
  {
   "cell_type": "code",
   "execution_count": 11,
   "metadata": {
    "collapsed": false
   },
   "outputs": [
    {
     "data": {
      "text/plain": [
       "(-9.5833446880979825, 132.67998438665234, -2.6729815147106906e-18)"
      ]
     },
     "execution_count": 11,
     "metadata": {},
     "output_type": "execute_result"
    }
   ],
   "source": [
    "np.min(X), np.max(X), np.mean(X)"
   ]
  },
  {
   "cell_type": "code",
   "execution_count": 12,
   "metadata": {
    "collapsed": true
   },
   "outputs": [],
   "source": [
    "Y = np.asarray(Y,dtype='int32')"
   ]
  },
  {
   "cell_type": "markdown",
   "metadata": {},
   "source": [
    "### Some examples (after normalization)\n",
    "rows are the different compounds"
   ]
  },
  {
   "cell_type": "markdown",
   "metadata": {},
   "source": [
    "### Splitting in training and test-set\n",
    "\n"
   ]
  },
  {
   "cell_type": "markdown",
   "metadata": {},
   "source": [
    "#### Version 2\n",
    "80%, 20% randomly choosen"
   ]
  },
  {
   "cell_type": "code",
   "execution_count": 13,
   "metadata": {
    "collapsed": false
   },
   "outputs": [],
   "source": [
    "# Currently a Acc. of 0.8250\n",
    "split = 40000\n",
    "X_train = X[0:split,:]\n",
    "Y_train = Y[0:split]\n",
    "X_test = X[split:,:]\n",
    "Y_test = Y[split:]"
   ]
  },
  {
   "cell_type": "code",
   "execution_count": 14,
   "metadata": {
    "collapsed": false
   },
   "outputs": [
    {
     "name": "stdout",
     "output_type": "stream",
     "text": [
      "Sum of permutation 1401824775\n"
     ]
    }
   ],
   "source": [
    "# Currently a Acc. of 0.8976\n",
    "np.random.seed(seed=42)\n",
    "perm1 = np.random.permutation(len(Y))\n",
    "print('Sum of permutation {0}'.format(np.sum(perm1))) #1401824775\n",
    "N_split = int(len(Y) * 0.8)\n",
    "N_split\n",
    "idx_train  = perm1[:N_split]\n",
    "idx_test  = perm1[N_split:]\n",
    "    \n",
    "\n",
    "X_train = X[idx_train,:]\n",
    "Y_train = Y[idx_train]\n",
    "X_test = X[idx_test,:]\n",
    "Y_test = Y[idx_test]"
   ]
  },
  {
   "cell_type": "markdown",
   "metadata": {},
   "source": [
    "#### Permuting the training set"
   ]
  },
  {
   "cell_type": "code",
   "execution_count": 15,
   "metadata": {
    "collapsed": false
   },
   "outputs": [],
   "source": [
    "perm = np.random.permutation(len(Y_train))\n",
    "XX = X_train[perm,:]\n",
    "YY = Y_train[perm]"
   ]
  },
  {
   "cell_type": "markdown",
   "metadata": {},
   "source": [
    "### 10 Fold X-Validation\n",
    "\n",
    "We use a 10 fold crossvalidation on the training set to find the optimal parameters"
   ]
  },
  {
   "cell_type": "markdown",
   "metadata": {},
   "source": [
    "### Sampling \n",
    "\n",
    "For the SVM we sample so that the classes have equal proportions."
   ]
  },
  {
   "cell_type": "code",
   "execution_count": 16,
   "metadata": {
    "collapsed": false
   },
   "outputs": [
    {
     "data": {
      "text/plain": [
       "((array([32566,  1585,  7877,   332]), array([0, 1, 2, 3, 4])), 332)"
      ]
     },
     "execution_count": 16,
     "metadata": {},
     "output_type": "execute_result"
    }
   ],
   "source": [
    "hist = np.histogram(YY, bins=[0, 1, 2, 3,4])\n",
    "NMAX = np.min(hist[0])\n",
    "hist, NMAX"
   ]
  },
  {
   "cell_type": "code",
   "execution_count": 17,
   "metadata": {
    "collapsed": false
   },
   "outputs": [],
   "source": [
    "idx3 = np.argwhere(YY == 3)[0:NMAX]\n",
    "idx2 = np.argwhere(YY == 2)[0:NMAX]\n",
    "idx1 = np.argwhere(YY == 1)[0:NMAX]\n",
    "idx0 = np.argwhere(YY == 0)[0:NMAX]\n",
    "idx_d = np.concatenate((idx0,idx1,idx2,idx3))[:,0] #Orderedness is problem in studip k-fold\n",
    "perm_d = np.random.permutation(len(idx_d))\n",
    "idx = idx_d[perm_d]"
   ]
  },
  {
   "cell_type": "code",
   "execution_count": 18,
   "metadata": {
    "collapsed": false
   },
   "outputs": [
    {
     "data": {
      "text/plain": [
       "((1328, 396), (1328,), (42360, 396), (1328,))"
      ]
     },
     "execution_count": 18,
     "metadata": {},
     "output_type": "execute_result"
    }
   ],
   "source": [
    "XX1 = XX[idx]\n",
    "YY1 = YY[idx]\n",
    "np.shape(XX1), np.shape(YY1),np.shape(XX),np.shape(idx)"
   ]
  },
  {
   "cell_type": "code",
   "execution_count": 19,
   "metadata": {
    "collapsed": false
   },
   "outputs": [
    {
     "data": {
      "text/plain": [
       "(array([332, 332, 332, 332]), array([0, 1, 2, 3, 4]))"
      ]
     },
     "execution_count": 19,
     "metadata": {},
     "output_type": "execute_result"
    }
   ],
   "source": [
    "np.histogram(YY1,  bins=[0, 1, 2, 3,4])"
   ]
  },
  {
   "cell_type": "code",
   "execution_count": 20,
   "metadata": {
    "collapsed": false
   },
   "outputs": [
    {
     "data": {
      "text/plain": [
       "array([3, 2, 2, 0, 2, 2, 0, 0, 0], dtype=int32)"
      ]
     },
     "execution_count": 20,
     "metadata": {},
     "output_type": "execute_result"
    }
   ],
   "source": [
    "YY1[1:10]"
   ]
  },
  {
   "cell_type": "code",
   "execution_count": 21,
   "metadata": {
    "collapsed": false
   },
   "outputs": [],
   "source": [
    "def eval_10_Fold(C = 0.5):\n",
    "    N = len(XX1)\n",
    "    kf = KFold(N, n_folds=10)\n",
    "    acc = 0.0\n",
    "    rounds = 0.0\n",
    "    for train, test in kf:\n",
    "        model = svm.SVC(kernel='linear', C=C).fit(XX1[train,],YY1[train])\n",
    "        res = model.predict(XX1[test])\n",
    "        acc += sum(res == YY1[test])/float(len(test)) #Accuracy\n",
    "        rounds += 1.0\n",
    "        print('round ={0} C={1} acc (cumulated over the faults) ={2}'.format(rounds, C, acc / rounds))\n",
    "    return acc"
   ]
  },
  {
   "cell_type": "code",
   "execution_count": 22,
   "metadata": {
    "collapsed": false
   },
   "outputs": [
    {
     "name": "stdout",
     "output_type": "stream",
     "text": [
      "round =1.0 C=0.001 acc (cumulated over the faults) =0.714285714286\n",
      "round =2.0 C=0.001 acc (cumulated over the faults) =0.755639097744\n",
      "round =3.0 C=0.001 acc (cumulated over the faults) =0.764411027569\n",
      "round =4.0 C=0.001 acc (cumulated over the faults) =0.781954887218\n",
      "round =5.0 C=0.001 acc (cumulated over the faults) =0.777443609023\n",
      "round =6.0 C=0.001 acc (cumulated over the faults) =0.770676691729\n",
      "round =7.0 C=0.001 acc (cumulated over the faults) =0.780880773362\n",
      "round =8.0 C=0.001 acc (cumulated over the faults) =0.792293233083\n",
      "round =9.0 C=0.001 acc (cumulated over the faults) =0.791802739171\n",
      "round =10.0 C=0.001 acc (cumulated over the faults) =0.80125882889\n",
      "round =1.0 C=0.005 acc (cumulated over the faults) =0.774436090226\n",
      "round =2.0 C=0.005 acc (cumulated over the faults) =0.804511278195\n",
      "round =3.0 C=0.005 acc (cumulated over the faults) =0.812030075188\n",
      "round =4.0 C=0.005 acc (cumulated over the faults) =0.821428571429\n",
      "round =5.0 C=0.005 acc (cumulated over the faults) =0.81954887218\n",
      "round =6.0 C=0.005 acc (cumulated over the faults) =0.822055137845\n",
      "round =7.0 C=0.005 acc (cumulated over the faults) =0.829215896885\n",
      "round =8.0 C=0.005 acc (cumulated over the faults) =0.835526315789\n",
      "round =9.0 C=0.005 acc (cumulated over the faults) =0.833599149389\n",
      "round =10.0 C=0.005 acc (cumulated over the faults) =0.839633173844\n",
      "round =1.0 C=0.01 acc (cumulated over the faults) =0.796992481203\n",
      "round =2.0 C=0.01 acc (cumulated over the faults) =0.81954887218\n",
      "round =3.0 C=0.01 acc (cumulated over the faults) =0.822055137845\n",
      "round =4.0 C=0.01 acc (cumulated over the faults) =0.828947368421\n",
      "round =5.0 C=0.01 acc (cumulated over the faults) =0.83007518797\n",
      "round =6.0 C=0.01 acc (cumulated over the faults) =0.833333333333\n",
      "round =7.0 C=0.01 acc (cumulated over the faults) =0.841031149302\n",
      "round =8.0 C=0.01 acc (cumulated over the faults) =0.845864661654\n",
      "round =9.0 C=0.01 acc (cumulated over the faults) =0.842788790157\n",
      "round =10.0 C=0.01 acc (cumulated over the faults) =0.847903850535\n",
      "round =1.0 C=0.05 acc (cumulated over the faults) =0.812030075188\n",
      "round =2.0 C=0.05 acc (cumulated over the faults) =0.842105263158\n",
      "round =3.0 C=0.05 acc (cumulated over the faults) =0.827067669173\n",
      "round =4.0 C=0.05 acc (cumulated over the faults) =0.834586466165\n",
      "round =5.0 C=0.05 acc (cumulated over the faults) =0.839097744361\n",
      "round =6.0 C=0.05 acc (cumulated over the faults) =0.842105263158\n",
      "round =7.0 C=0.05 acc (cumulated over the faults) =0.851772287863\n",
      "round =8.0 C=0.05 acc (cumulated over the faults) =0.859022556391\n",
      "round =9.0 C=0.05 acc (cumulated over the faults) =0.85953520164\n",
      "round =10.0 C=0.05 acc (cumulated over the faults) =0.865248348143\n",
      "round =1.0 C=0.1 acc (cumulated over the faults) =0.834586466165\n",
      "round =2.0 C=0.1 acc (cumulated over the faults) =0.838345864662\n",
      "round =3.0 C=0.1 acc (cumulated over the faults) =0.829573934837\n",
      "round =4.0 C=0.1 acc (cumulated over the faults) =0.834586466165\n",
      "round =5.0 C=0.1 acc (cumulated over the faults) =0.837593984962\n",
      "round =6.0 C=0.1 acc (cumulated over the faults) =0.83709273183\n",
      "round =7.0 C=0.1 acc (cumulated over the faults) =0.841031149302\n",
      "round =8.0 C=0.1 acc (cumulated over the faults) =0.847744360902\n",
      "round =9.0 C=0.1 acc (cumulated over the faults) =0.846984886459\n",
      "round =10.0 C=0.1 acc (cumulated over the faults) =0.851680337207\n",
      "round =1.0 C=1.0 acc (cumulated over the faults) =0.789473684211\n",
      "round =2.0 C=1.0 acc (cumulated over the faults) =0.81954887218\n",
      "round =3.0 C=1.0 acc (cumulated over the faults) =0.804511278195\n",
      "round =4.0 C=1.0 acc (cumulated over the faults) =0.815789473684\n",
      "round =5.0 C=1.0 acc (cumulated over the faults) =0.824060150376\n",
      "round =6.0 C=1.0 acc (cumulated over the faults) =0.828320802005\n",
      "round =7.0 C=1.0 acc (cumulated over the faults) =0.832438238453\n",
      "round =8.0 C=1.0 acc (cumulated over the faults) =0.833646616541\n",
      "round =9.0 C=1.0 acc (cumulated over the faults) =0.83529530898\n",
      "round =10.0 C=1.0 acc (cumulated over the faults) =0.83964456596\n",
      "round =1.0 C=10.0 acc (cumulated over the faults) =0.729323308271\n",
      "round =2.0 C=10.0 acc (cumulated over the faults) =0.774436090226\n",
      "round =3.0 C=10.0 acc (cumulated over the faults) =0.771929824561\n",
      "round =4.0 C=10.0 acc (cumulated over the faults) =0.78007518797\n",
      "round =5.0 C=10.0 acc (cumulated over the faults) =0.796992481203\n",
      "round =6.0 C=10.0 acc (cumulated over the faults) =0.799498746867\n",
      "round =7.0 C=10.0 acc (cumulated over the faults) =0.805585392052\n",
      "round =8.0 C=10.0 acc (cumulated over the faults) =0.811090225564\n",
      "round =9.0 C=10.0 acc (cumulated over the faults) =0.815245183666\n",
      "round =10.0 C=10.0 acc (cumulated over the faults) =0.819326725906\n"
     ]
    }
   ],
   "source": [
    "#Cs = (1e-3,5e-3,1e-2,5e-2,1e-1,1e0,1e+1,1e2,1e3)\n",
    "Cs = (1e-3,5e-3,1e-2,5e-2,1e-1,1e0,1e+1)\n",
    "res = np.zeros(len(Cs))\n",
    "for i,C in enumerate(Cs):\n",
    "    res[i] = eval_10_Fold(C)"
   ]
  },
  {
   "cell_type": "code",
   "execution_count": 23,
   "metadata": {
    "collapsed": false
   },
   "outputs": [
    {
     "data": {
      "text/plain": [
       "((0.001, 0.005, 0.01, 0.05, 0.1, 1.0, 10.0),\n",
       " array([ 8.01258829,  8.39633174,  8.47903851,  8.65248348,  8.51680337,\n",
       "         8.39644566,  8.19326726]))"
      ]
     },
     "execution_count": 23,
     "metadata": {},
     "output_type": "execute_result"
    },
    {
     "data": {
      "image/png": "[encoded data removed]",
      "text/plain": [
       "<matplotlib.figure.Figure at 0x4d74650>"
      ]
     },
     "metadata": {},
     "output_type": "display_data"
    }
   ],
   "source": [
    "plt.semilogx(Cs,res)\n",
    "(Cs,res)"
   ]
  },
  {
   "cell_type": "markdown",
   "metadata": {},
   "source": [
    "### Evaluation on the test set\n",
    "\n",
    "Training the model on the whole training data set"
   ]
  },
  {
   "cell_type": "code",
   "execution_count": 24,
   "metadata": {
    "collapsed": true
   },
   "outputs": [],
   "source": [
    "model = svm.SVC(kernel='linear', C=0.1).fit(XX1,YY1)"
   ]
  },
  {
   "cell_type": "code",
   "execution_count": 25,
   "metadata": {
    "collapsed": true
   },
   "outputs": [],
   "source": [
    "pred = model.predict(X_test)"
   ]
  },
  {
   "cell_type": "code",
   "execution_count": 26,
   "metadata": {
    "collapsed": false
   },
   "outputs": [
    {
     "data": {
      "text/plain": [
       "0.82502360717658163"
      ]
     },
     "execution_count": 26,
     "metadata": {},
     "output_type": "execute_result"
    }
   ],
   "source": [
    "sum(pred == Y_test)/float(len(Y_test))"
   ]
  },
  {
   "cell_type": "markdown",
   "metadata": {},
   "source": [
    "### Calucation of the confusion matrix"
   ]
  },
  {
   "cell_type": "code",
   "execution_count": 28,
   "metadata": {
    "collapsed": false
   },
   "outputs": [
    {
     "data": {
      "text/html": [
       "<div style=\"max-height:1000px;max-width:1500px;overflow:auto;\">\n",
       "<table border=\"1\" class=\"dataframe\">\n",
       "  <thead>\n",
       "    <tr style=\"text-align: right;\">\n",
       "      <th></th>\n",
       "      <th>DMSO True</th>\n",
       "      <th>PACLITAXEL True</th>\n",
       "      <th>METOCLOPRAMIDE True</th>\n",
       "      <th>DIGOXIN True</th>\n",
       "    </tr>\n",
       "  </thead>\n",
       "  <tbody>\n",
       "    <tr>\n",
       "      <th>DMSO Pred</th>\n",
       "      <td> 6899</td>\n",
       "      <td>   9</td>\n",
       "      <td>  388</td>\n",
       "      <td>  0</td>\n",
       "    </tr>\n",
       "    <tr>\n",
       "      <th>PACLITAXEL Pred</th>\n",
       "      <td>   62</td>\n",
       "      <td> 369</td>\n",
       "      <td>  112</td>\n",
       "      <td>  0</td>\n",
       "    </tr>\n",
       "    <tr>\n",
       "      <th>METOCLOPRAMIDE Pred</th>\n",
       "      <td> 1222</td>\n",
       "      <td>  16</td>\n",
       "      <td> 1387</td>\n",
       "      <td>  0</td>\n",
       "    </tr>\n",
       "    <tr>\n",
       "      <th>DIGOXIN Pred</th>\n",
       "      <td>   34</td>\n",
       "      <td>   9</td>\n",
       "      <td>    1</td>\n",
       "      <td> 82</td>\n",
       "    </tr>\n",
       "  </tbody>\n",
       "</table>\n",
       "</div>"
      ],
      "text/plain": [
       "                     DMSO True  PACLITAXEL True  METOCLOPRAMIDE True  \\\n",
       "DMSO Pred                 6899                9                  388   \n",
       "PACLITAXEL Pred             62              369                  112   \n",
       "METOCLOPRAMIDE Pred       1222               16                 1387   \n",
       "DIGOXIN Pred                34                9                    1   \n",
       "\n",
       "                     DIGOXIN True  \n",
       "DMSO Pred                       0  \n",
       "PACLITAXEL Pred                 0  \n",
       "METOCLOPRAMIDE Pred             0  \n",
       "DIGOXIN Pred                   82  "
      ]
     },
     "execution_count": 28,
     "metadata": {},
     "output_type": "execute_result"
    }
   ],
   "source": [
    "names_col = ('DMSO True', 'PACLITAXEL True', 'METOCLOPRAMIDE True', 'DIGOXIN True')\n",
    "m = confusion_matrix(pred, Y_test)\n",
    "df = pd.DataFrame(m)\n",
    "df.columns = names_col\n",
    "names = ('DMSO Pred', 'PACLITAXEL Pred', 'METOCLOPRAMIDE Pred', 'DIGOXIN Pred')\n",
    "df.index = names\n",
    "df"
   ]
  },
  {
   "cell_type": "code",
   "execution_count": 33,
   "metadata": {
    "collapsed": false
   },
   "outputs": [
    {
     "name": "stdout",
     "output_type": "stream",
     "text": [
      "Normalized confusion matrix\n"
     ]
    },
    {
     "data": {
      "text/html": [
       "<div style=\"max-height:1000px;max-width:1500px;overflow:auto;\">\n",
       "<table border=\"1\" class=\"dataframe\">\n",
       "  <thead>\n",
       "    <tr style=\"text-align: right;\">\n",
       "      <th></th>\n",
       "      <th>DMSO True</th>\n",
       "      <th>PACLITAXEL True</th>\n",
       "      <th>METOCLOPRAMIDE True</th>\n",
       "      <th>DIGOXIN True</th>\n",
       "    </tr>\n",
       "  </thead>\n",
       "  <tbody>\n",
       "    <tr>\n",
       "      <th>DMSO Pred</th>\n",
       "      <td> 0.839601</td>\n",
       "      <td> 0.022333</td>\n",
       "      <td> 0.205508</td>\n",
       "      <td> 0</td>\n",
       "    </tr>\n",
       "    <tr>\n",
       "      <th>PACLITAXEL Pred</th>\n",
       "      <td> 0.007545</td>\n",
       "      <td> 0.915633</td>\n",
       "      <td> 0.059322</td>\n",
       "      <td> 0</td>\n",
       "    </tr>\n",
       "    <tr>\n",
       "      <th>METOCLOPRAMIDE Pred</th>\n",
       "      <td> 0.148716</td>\n",
       "      <td> 0.039702</td>\n",
       "      <td> 0.734640</td>\n",
       "      <td> 0</td>\n",
       "    </tr>\n",
       "    <tr>\n",
       "      <th>DIGOXIN Pred</th>\n",
       "      <td> 0.004138</td>\n",
       "      <td> 0.022333</td>\n",
       "      <td> 0.000530</td>\n",
       "      <td> 1</td>\n",
       "    </tr>\n",
       "  </tbody>\n",
       "</table>\n",
       "</div>"
      ],
      "text/plain": [
       "                     DMSO True  PACLITAXEL True  METOCLOPRAMIDE True  \\\n",
       "DMSO Pred             0.839601         0.022333             0.205508   \n",
       "PACLITAXEL Pred       0.007545         0.915633             0.059322   \n",
       "METOCLOPRAMIDE Pred   0.148716         0.039702             0.734640   \n",
       "DIGOXIN Pred          0.004138         0.022333             0.000530   \n",
       "\n",
       "                     DIGOXIN True  \n",
       "DMSO Pred                       0  \n",
       "PACLITAXEL Pred                 0  \n",
       "METOCLOPRAMIDE Pred             0  \n",
       "DIGOXIN Pred                    1  "
      ]
     },
     "execution_count": 33,
     "metadata": {},
     "output_type": "execute_result"
    }
   ],
   "source": [
    "#cm_normalized = m.astype('float') / ((m.sum(axis=1)[:, np.newaxis]))\n",
    "cm_normalized = m.astype('float') / ((m.sum(axis=0)[np.newaxis,:]))\n",
    "print('Normalized confusion matrix')\n",
    "\n",
    "\n",
    "df = pd.DataFrame(cm_normalized)\n",
    "df.columns = names_col\n",
    "df.index = names\n",
    "df"
   ]
  },
  {
   "cell_type": "code",
   "execution_count": 34,
   "metadata": {
    "collapsed": false
   },
   "outputs": [
    {
     "data": {
      "text/plain": [
       "0.87246835310088522"
      ]
     },
     "execution_count": 34,
     "metadata": {},
     "output_type": "execute_result"
    }
   ],
   "source": [
    "np.mean(cm_normalized[np.diag_indices(4)])"
   ]
  },
  {
   "cell_type": "code",
   "execution_count": 124,
   "metadata": {
    "collapsed": false
   },
   "outputs": [
    {
     "data": {
      "text/plain": [
       "0.1640837792028218"
      ]
     },
     "execution_count": 124,
     "metadata": {},
     "output_type": "execute_result"
    }
   ],
   "source": [
    "1-np.mean(cm_normalized[np.diag_indices(4)])"
   ]
  }
 ],
 "metadata": {
  "kernelspec": {
   "display_name": "Python 2",
   "language": "python",
   "name": "python2"
  },
  "language_info": {
   "codemirror_mode": {
    "name": "ipython",
    "version": 2
   },
   "file_extension": ".py",
   "mimetype": "text/x-python",
   "name": "python",
   "nbconvert_exporter": "python",
   "pygments_lexer": "ipython2",
   "version": "2.7.3"
  }
 },
 "nbformat": 4,
 "nbformat_minor": 0
}
