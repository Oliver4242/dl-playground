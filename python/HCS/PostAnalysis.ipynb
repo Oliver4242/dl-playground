{
 "cells": [
  {
   "cell_type": "markdown",
   "metadata": {
    "collapsed": true
   },
   "source": [
    "### Analysis with the trained network\n",
    "\n",
    "This analysis uses the pretrained network"
   ]
  },
  {
   "cell_type": "code",
   "execution_count": 10,
   "metadata": {
    "collapsed": false
   },
   "outputs": [
    {
     "name": "stderr",
     "output_type": "stream",
     "text": [
      "/usr/local/lib/python2.7/dist-packages/Lasagne-0.1dev-py2.7.egg/lasagne/layers/helper.py:69: UserWarning: get_all_layers() has been changed to return layers in topological order. The former implementation is still available as get_all_layers_old(), but will be removed before the first release of Lasagne. To ignore this warning, use `warnings.filterwarnings('ignore', '.*topo.*')`.\n",
      "  warnings.warn(\"get_all_layers() has been changed to return layers in \"\n"
     ]
    }
   ],
   "source": [
    "import skimage\n",
    "skimage.__version__\n",
    "import gzip\n",
    "import numpy as np\n",
    "from sklearn.cross_validation import KFold\n",
    "from sklearn.cross_validation import StratifiedKFold\n",
    "import matplotlib.pyplot as plt\n",
    "import matplotlib.image as imgplot\n",
    "import time\n",
    "%matplotlib inline\n",
    "import cPickle as pickle\n",
    "from lasagne import layers\n",
    "from lasagne import nonlinearities\n",
    "from nolearn.lasagne import NeuralNet\n",
    "\n",
    "from nolearn.lasagne import BatchIterator\n",
    "\n",
    "class SimpleBatchIterator(BatchIterator):\n",
    "\n",
    "    def transform(self, Xb, yb):\n",
    "        Xb, yb = super(SimpleBatchIterator, self).transform(Xb, yb)\n",
    "        #return Xb[:,:,:,::-1], yb #<--- Here we do the flipping of the images\n",
    "        return manipulateTrainingData(Xb), yb\n",
    "\n",
    "\n",
    "with open('net_PAPER_aug_epoch512_72x72large_net.pickle', 'rb') as f:\n",
    "    net_pretrain = pickle.load(f)"
   ]
  },
  {
   "cell_type": "markdown",
   "metadata": {},
   "source": [
    "## The training history"
   ]
  },
  {
   "cell_type": "code",
   "execution_count": 12,
   "metadata": {
    "collapsed": false
   },
   "outputs": [
    {
     "data": {
      "image/png": "[encoded data removed]",
      "text/plain": [
       "<matplotlib.figure.Figure at 0xef7c150>"
      ]
     },
     "metadata": {},
     "output_type": "display_data"
    }
   ],
   "source": [
    "import pandas as pd\n",
    "dfAug = pd.DataFrame(net_pretrain.train_history_)\n",
    "dfAug[['train_loss','valid_loss','valid_accuracy']].plot(title='No Augmentation', ylim=(0,1))\n",
    "dfAug.to_csv(\"complex_network_no_aug.txt\")"
   ]
  },
  {
   "cell_type": "code",
   "execution_count": 37,
   "metadata": {
    "collapsed": false
   },
   "outputs": [
    {
     "data": {
      "text/plain": [
       "19.17785088347064"
      ]
     },
     "execution_count": 37,
     "metadata": {},
     "output_type": "execute_result"
    }
   ],
   "source": [
    "np.sum(dfAug['dur']) / (60*60) #Total Training Time"
   ]
  },
  {
   "cell_type": "markdown",
   "metadata": {},
   "source": [
    "The average validation accurracy over the last 100 runs was:"
   ]
  },
  {
   "cell_type": "code",
   "execution_count": 43,
   "metadata": {
    "collapsed": false
   },
   "outputs": [
    {
     "data": {
      "text/plain": [
       "0.9313015824095161"
      ]
     },
     "execution_count": 43,
     "metadata": {},
     "output_type": "execute_result"
    }
   ],
   "source": [
    "np.mean(dfAug['valid_accuracy'][451:])"
   ]
  },
  {
   "cell_type": "markdown",
   "metadata": {},
   "source": [
    "## Evaluation on the test set\n",
    "### Loading and preprocessing the data"
   ]
  },
  {
   "cell_type": "code",
   "execution_count": 23,
   "metadata": {
    "collapsed": false
   },
   "outputs": [
    {
     "name": "stdout",
     "output_type": "stream",
     "text": [
      "Loaded data in 10.0489351749\n"
     ]
    }
   ],
   "source": [
    "start = time.time()\n",
    "npzfile = np.load('HCS_72x72.npz')\n",
    "cell_rows = npzfile['arr_0']\n",
    "X = npzfile['arr_1']\n",
    "Y = npzfile['arr_2']\n",
    "print (\"Loaded data in \" + str(time.time() - start))"
   ]
  },
  {
   "cell_type": "code",
   "execution_count": 24,
   "metadata": {
    "collapsed": true
   },
   "outputs": [],
   "source": [
    "Xmean = X.mean(axis = 0)\n",
    "XStd = np.sqrt(X.var(axis=0))\n",
    "X = (X-Xmean)/(XStd + 0.01)"
   ]
  },
  {
   "cell_type": "code",
   "execution_count": 25,
   "metadata": {
    "collapsed": false
   },
   "outputs": [
    {
     "data": {
      "text/plain": [
       "(-2.5272908, 58.301613, -3.3162789e-07)"
      ]
     },
     "execution_count": 25,
     "metadata": {},
     "output_type": "execute_result"
    }
   ],
   "source": [
    "np.min(X), np.max(X), np.mean(X) #(-2.5272908, 58.301613, -3.3162789e-07)"
   ]
  },
  {
   "cell_type": "code",
   "execution_count": 27,
   "metadata": {
    "collapsed": true
   },
   "outputs": [],
   "source": [
    "Y = np.asarray(Y,dtype='int32')"
   ]
  },
  {
   "cell_type": "code",
   "execution_count": 32,
   "metadata": {
    "collapsed": false
   },
   "outputs": [
    {
     "name": "stdout",
     "output_type": "stream",
     "text": [
      "Sum of permutation 1401824775\n"
     ]
    }
   ],
   "source": [
    "np.random.seed(seed=42)\n",
    "perm1 = np.random.permutation(len(Y))\n",
    "print('Sum of permutation {0}'.format(np.sum(perm1))) #1401824775\n",
    "#np.save('premutations.np', perm1)\n",
    "N_split = int(len(Y) * 0.8)\n",
    "N_split\n",
    "idx_train  = perm1[:N_split]\n",
    "idx_test  = perm1[N_split:]\n",
    "\n",
    "\n",
    "X_train = X[idx_train,:,:,:]\n",
    "Y_train = Y[idx_train]\n",
    "X_test = X[idx_test,:,:,:]\n",
    "Y_test = Y[idx_test]"
   ]
  },
  {
   "cell_type": "markdown",
   "metadata": {},
   "source": [
    "### Prediction on the test set"
   ]
  },
  {
   "cell_type": "code",
   "execution_count": 31,
   "metadata": {
    "collapsed": false
   },
   "outputs": [
    {
     "name": "stdout",
     "output_type": "stream",
     "text": [
      "The prediction of on 10590 cells took 6.92520523071\n"
     ]
    }
   ],
   "source": [
    "start = time.time()\n",
    "pred = net_pretrain.predict(X_test)\n",
    "print (\"The prediction of on {} cells took {}\".format(len(X_test), str(time.time() - start)))"
   ]
  },
  {
   "cell_type": "code",
   "execution_count": 35,
   "metadata": {
    "collapsed": false
   },
   "outputs": [
    {
     "name": "stdout",
     "output_type": "stream",
     "text": [
      "Total Time 0.934372049103\n"
     ]
    },
    {
     "data": {
      "text/html": [
       "<div style=\"max-height:1000px;max-width:1500px;overflow:auto;\">\n",
       "<table border=\"1\" class=\"dataframe\">\n",
       "  <thead>\n",
       "    <tr style=\"text-align: right;\">\n",
       "      <th></th>\n",
       "      <th>DMSO True</th>\n",
       "      <th>PACLITAXEL True</th>\n",
       "      <th>METOCLOPRAMIDE True</th>\n",
       "      <th>DIGOXIN True</th>\n",
       "    </tr>\n",
       "  </thead>\n",
       "  <tbody>\n",
       "    <tr>\n",
       "      <th>DMSO Pred</th>\n",
       "      <td> 7775</td>\n",
       "      <td>  13</td>\n",
       "      <td>  208</td>\n",
       "      <td>  0</td>\n",
       "    </tr>\n",
       "    <tr>\n",
       "      <th>PACLITAXEL Pred</th>\n",
       "      <td>   28</td>\n",
       "      <td> 382</td>\n",
       "      <td>   23</td>\n",
       "      <td>  1</td>\n",
       "    </tr>\n",
       "    <tr>\n",
       "      <th>METOCLOPRAMIDE Pred</th>\n",
       "      <td>  414</td>\n",
       "      <td>   8</td>\n",
       "      <td> 1657</td>\n",
       "      <td>  0</td>\n",
       "    </tr>\n",
       "    <tr>\n",
       "      <th>DIGOXIN Pred</th>\n",
       "      <td>    0</td>\n",
       "      <td>   0</td>\n",
       "      <td>    0</td>\n",
       "      <td> 81</td>\n",
       "    </tr>\n",
       "  </tbody>\n",
       "</table>\n",
       "</div>"
      ],
      "text/plain": [
       "                     DMSO True  PACLITAXEL True  METOCLOPRAMIDE True  \\\n",
       "DMSO Pred                 7775               13                  208   \n",
       "PACLITAXEL Pred             28              382                   23   \n",
       "METOCLOPRAMIDE Pred        414                8                 1657   \n",
       "DIGOXIN Pred                 0                0                    0   \n",
       "\n",
       "                     DIGOXIN True  \n",
       "DMSO Pred                       0  \n",
       "PACLITAXEL Pred                 1  \n",
       "METOCLOPRAMIDE Pred             0  \n",
       "DIGOXIN Pred                   81  "
      ]
     },
     "execution_count": 35,
     "metadata": {},
     "output_type": "execute_result"
    }
   ],
   "source": [
    "from sklearn.metrics import confusion_matrix\n",
    "import pandas as pd\n",
    "names = ('DMSO True', 'PACLITAXEL True', 'METOCLOPRAMIDE True', 'DIGOXIN True')\n",
    "m = confusion_matrix(pred, Y_test)\n",
    "df = pd.DataFrame(m)\n",
    "df.columns = names\n",
    "names = ('DMSO Pred', 'PACLITAXEL Pred', 'METOCLOPRAMIDE Pred', 'DIGOXIN Pred')\n",
    "df.index = names\n",
    "print(\"Total Time {}\".format(1.0*np.sum(m[np.diag_indices(4)]) / np.sum(m)))\n",
    "df"
   ]
  },
  {
   "cell_type": "code",
   "execution_count": 36,
   "metadata": {
    "collapsed": false
   },
   "outputs": [
    {
     "name": "stdout",
     "output_type": "stream",
     "text": [
      "Normalized confusion matrix\n"
     ]
    },
    {
     "data": {
      "text/html": [
       "<div style=\"max-height:1000px;max-width:1500px;overflow:auto;\">\n",
       "<table border=\"1\" class=\"dataframe\">\n",
       "  <thead>\n",
       "    <tr style=\"text-align: right;\">\n",
       "      <th></th>\n",
       "      <th>DMSO True</th>\n",
       "      <th>PACLITAXEL True</th>\n",
       "      <th>METOCLOPRAMIDE True</th>\n",
       "      <th>DIGOXIN True</th>\n",
       "    </tr>\n",
       "  </thead>\n",
       "  <tbody>\n",
       "    <tr>\n",
       "      <th>DMSO Pred</th>\n",
       "      <td> 0.946209</td>\n",
       "      <td> 0.032258</td>\n",
       "      <td> 0.110169</td>\n",
       "      <td> 0.000000</td>\n",
       "    </tr>\n",
       "    <tr>\n",
       "      <th>PACLITAXEL Pred</th>\n",
       "      <td> 0.003408</td>\n",
       "      <td> 0.947891</td>\n",
       "      <td> 0.012182</td>\n",
       "      <td> 0.012195</td>\n",
       "    </tr>\n",
       "    <tr>\n",
       "      <th>METOCLOPRAMIDE Pred</th>\n",
       "      <td> 0.050383</td>\n",
       "      <td> 0.019851</td>\n",
       "      <td> 0.877648</td>\n",
       "      <td> 0.000000</td>\n",
       "    </tr>\n",
       "    <tr>\n",
       "      <th>DIGOXIN Pred</th>\n",
       "      <td> 0.000000</td>\n",
       "      <td> 0.000000</td>\n",
       "      <td> 0.000000</td>\n",
       "      <td> 0.987805</td>\n",
       "    </tr>\n",
       "  </tbody>\n",
       "</table>\n",
       "</div>"
      ],
      "text/plain": [
       "                     DMSO True  PACLITAXEL True  METOCLOPRAMIDE True  \\\n",
       "DMSO Pred             0.946209         0.032258             0.110169   \n",
       "PACLITAXEL Pred       0.003408         0.947891             0.012182   \n",
       "METOCLOPRAMIDE Pred   0.050383         0.019851             0.877648   \n",
       "DIGOXIN Pred          0.000000         0.000000             0.000000   \n",
       "\n",
       "                     DIGOXIN True  \n",
       "DMSO Pred                0.000000  \n",
       "PACLITAXEL Pred          0.012195  \n",
       "METOCLOPRAMIDE Pred      0.000000  \n",
       "DIGOXIN Pred             0.987805  "
      ]
     },
     "execution_count": 36,
     "metadata": {},
     "output_type": "execute_result"
    }
   ],
   "source": [
    "cm_normalized = m.astype('float') / ((m.sum(axis=0)[np.newaxis,:])[0])\n",
    "print('Normalized confusion matrix')\n",
    "names = ('DMSO True', 'PACLITAXEL True', 'METOCLOPRAMIDE True', 'DIGOXIN True')\n",
    "#m = confusion_matrix(pred, Y_test)\n",
    "df = pd.DataFrame(cm_normalized)\n",
    "df.columns = names\n",
    "names = ('DMSO Pred', 'PACLITAXEL Pred', 'METOCLOPRAMIDE Pred', 'DIGOXIN Pred')\n",
    "df.index = names\n",
    "df"
   ]
  },
  {
   "cell_type": "markdown",
   "metadata": {},
   "source": [
    "## Analysis of the wrongly predicted cells"
   ]
  },
  {
   "cell_type": "code",
   "execution_count": 46,
   "metadata": {
    "collapsed": true
   },
   "outputs": [],
   "source": [
    "pred_prob = net_pretrain.predict_proba(X_test)"
   ]
  },
  {
   "cell_type": "code",
   "execution_count": 54,
   "metadata": {
    "collapsed": false
   },
   "outputs": [],
   "source": [
    "pred_prob = pred_prob[:0:3]"
   ]
  },
  {
   "cell_type": "code",
   "execution_count": null,
   "metadata": {
    "collapsed": true
   },
   "outputs": [],
   "source": []
  }
 ],
 "metadata": {
  "kernelspec": {
   "display_name": "Python 2",
   "language": "python",
   "name": "python2"
  },
  "language_info": {
   "codemirror_mode": {
    "name": "ipython",
    "version": 2
   },
   "file_extension": ".py",
   "mimetype": "text/x-python",
   "name": "python",
   "nbconvert_exporter": "python",
   "pygments_lexer": "ipython2",
   "version": "2.7.3"
  }
 },
 "nbformat": 4,
 "nbformat_minor": 0
}
