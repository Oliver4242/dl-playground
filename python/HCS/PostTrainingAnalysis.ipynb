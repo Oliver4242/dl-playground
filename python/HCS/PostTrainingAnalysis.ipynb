{
 "cells": [
  {
   "cell_type": "markdown",
   "metadata": {
    "collapsed": true
   },
   "source": [
    "### Analysis with the trained network\n",
    "\n",
    "This analysis uses the pretrained network. The important files are stored in"
   ]
  },
  {
   "cell_type": "code",
   "execution_count": 1,
   "metadata": {
    "collapsed": false
   },
   "outputs": [
    {
     "name": "stdout",
     "output_type": "stream",
     "text": [
      "total 5.2G\r\n",
      "-rw-r--r-- 1 dueo dueo 4.9M Oct  3 17:03 net_PAPER_aug_epoch512_72x72large_net.pickle\r\n",
      "-rw-r--r-- 1 dueo dueo 5.2G Oct  3 17:04 HCS_72x72.npz\r\n",
      "-rw-r--r-- 1 dueo dueo 414K Oct  3 17:12 permutations.np.npy\r\n",
      "-rw-r--r-- 1 dueo dueo 278K Oct  4 11:02 Test.Rdata\r\n",
      "-rw-r--r-- 1 dueo dueo 278K Oct  4 11:21 Test_with_row_index.Rdata\r\n"
     ]
    }
   ],
   "source": [
    "!ls -rtlh ~/Dropbox/Server/dl_hcs/"
   ]
  },
  {
   "cell_type": "code",
   "execution_count": 73,
   "metadata": {
    "collapsed": true
   },
   "outputs": [],
   "source": [
    "pretrained_net = 'net_PAPER_aug_epoch512_72x72large_net.pickle'\n",
    "pretrained_net = 'net_PAPER_aug_epoch100_72x72large_net.pickle'\n",
    "pretrained_net = 'net_PAPER_aug_epoch100_3Classes_72x72large_net.pickle'\n",
    "#pretrained_net = '/home/dueo/dl-playground/python/HCS/net_PAPER_Reviewer_aug_epoch200_4Classes_72x72large_net_it255.pickle'\n",
    "\n",
    "pretrained_net = '/home/dueo/dl-playground/python/HCS/net_PAPER_Reviewer_NO_DMSO_aug_epoch200_4Classes_72x72large_net_it500.pickle'\n",
    "\n",
    "blob4 = 'HCS_72x72.npz' #The Scaled and cut images in the right format"
   ]
  },
  {
   "cell_type": "code",
   "execution_count": 74,
   "metadata": {
    "collapsed": false
   },
   "outputs": [],
   "source": [
    "import skimage\n",
    "skimage.__version__\n",
    "import gzip\n",
    "import numpy as np\n",
    "from sklearn.cross_validation import KFold\n",
    "from sklearn.cross_validation import StratifiedKFold\n",
    "import matplotlib.pyplot as plt\n",
    "import matplotlib.image as imgplot\n",
    "import time\n",
    "%matplotlib inline\n",
    "import cPickle as pickle\n",
    "from lasagne import layers\n",
    "from lasagne import nonlinearities\n",
    "from nolearn.lasagne import NeuralNet\n",
    "\n",
    "from nolearn.lasagne import BatchIterator\n",
    "\n",
    "class SimpleBatchIterator(BatchIterator):\n",
    "\n",
    "    def transform(self, Xb, yb):\n",
    "        Xb, yb = super(SimpleBatchIterator, self).transform(Xb, yb)\n",
    "        #return Xb[:,:,:,::-1], yb #<--- Here we do the flipping of the images\n",
    "        return manipulateTrainingData(Xb), yb\n",
    "\n",
    "\n",
    "with open(pretrained_net, 'rb') as f:\n",
    "    net_pretrain = pickle.load(f)"
   ]
  },
  {
   "cell_type": "markdown",
   "metadata": {},
   "source": [
    "## The training history"
   ]
  },
  {
   "cell_type": "code",
   "execution_count": 79,
   "metadata": {
    "collapsed": false
   },
   "outputs": [
    {
     "data": {
      "text/plain": [
       "<bound method NeuralNet.get_all_params_values of NeuralNet(X_tensor_type=<function tensor4 at 0x58cded8>,\n",
       "     batch_iterator_test=<nolearn.lasagne.base.BatchIterator object at 0xf4e6150>,\n",
       "     batch_iterator_train=<__main__.SimpleBatchIterator object at 0xf3d6c50>,\n",
       "     conv11_filter_size=(3, 3), conv11_num_filters=32,\n",
       "     conv11_stride=(1, 1), conv1_filter_size=(3, 3), conv1_num_filters=32,\n",
       "     conv1_stride=(1, 1), conv22_filter_size=(3, 3), conv22_num_filters=64,\n",
       "     conv22_stride=(1, 1), conv2_filter_size=(3, 3), conv2_num_filters=64,\n",
       "     conv2_stride=(1, 1), conv33_filter_size=(3, 3),\n",
       "     conv33_num_filters=128, conv33_stride=(1, 1),\n",
       "     conv3_filter_size=(3, 3), conv3_num_filters=128, conv3_stride=(1, 1),\n",
       "     custom_score=None, dropout1_p=0.3, dropout2_p=0.3, dropout3_p=0.3,\n",
       "     eval_size=0.2, hidden1_num_units=200, hidden2_num_units=200,\n",
       "     hidden3_num_units=50, input_shape=(None, 5, 72, 72),\n",
       "     layers=[('input', <class 'lasagne.layers.input.InputLayer'>), ('conv1', <class 'lasagne.layers.conv.Conv2DLayer'>), ('conv11', <class 'lasagne.layers.conv.Conv2DLayer'>), ('pool1', <class 'lasagne.layers.pool.MaxPool2DLayer'>), ('conv2', <class 'lasagne.layers.conv.Conv2DLayer'>), ('conv22', <class ...<class 'lasagne.layers.noise.DropoutLayer'>), ('output', <class 'lasagne.layers.dense.DenseLayer'>)],\n",
       "     loss=None, max_epochs=10, more_params={},\n",
       "     objective=<class 'lasagne.objectives.Objective'>,\n",
       "     objective_loss_function=<function categorical_crossentropy at 0x5bdbd70>,\n",
       "     on_epoch_finished=[<nolearn.lasagne.handlers.PrintLog instance at 0xe92cea8>],\n",
       "     on_training_finished=[],\n",
       "     on_training_started=[<nolearn.lasagne.handlers.PrintLayerInfo instance at 0xaf25050>],\n",
       "     output_nonlinearity=<function softmax at 0xa8841b8>,\n",
       "     output_num_units=3, pool1_pool_size=(2, 2), pool2_pool_size=(2, 2),\n",
       "     pool3_pool_size=(2, 2), regression=False,\n",
       "     update=<function nesterov_momentum at 0xa926320>,\n",
       "     update_learning_rate=0.01, update_momentum=0.9,\n",
       "     use_label_encoder=False, verbose=1,\n",
       "     y_tensor_type=TensorType(int32, vector))>"
      ]
     },
     "execution_count": 79,
     "metadata": {},
     "output_type": "execute_result"
    }
   ],
   "source": [
    "net_pretrain.get_all_params_values"
   ]
  },
  {
   "cell_type": "code",
   "execution_count": 57,
   "metadata": {
    "collapsed": false
   },
   "outputs": [
    {
     "data": {
      "text/plain": [
       "3"
      ]
     },
     "execution_count": 57,
     "metadata": {},
     "output_type": "execute_result"
    }
   ],
   "source": [
    "net_pretrain.output_num_units"
   ]
  },
  {
   "cell_type": "code",
   "execution_count": 75,
   "metadata": {
    "collapsed": false
   },
   "outputs": [
    {
     "data": {
      "image/png": "[encoded data removed]",
      "text/plain": [
       "<matplotlib.figure.Figure at 0xbb77690>"
      ]
     },
     "metadata": {},
     "output_type": "display_data"
    }
   ],
   "source": [
    "import pandas as pd\n",
    "dfAug = pd.DataFrame(net_pretrain.train_history_)\n",
    "dfAug[['train_loss','valid_loss','valid_accuracy']].plot(title='No Augmentation', ylim=(0,1))\n",
    "dfAug.to_csv(\"complex_network_aug.txt\")"
   ]
  },
  {
   "cell_type": "code",
   "execution_count": 116,
   "metadata": {
    "collapsed": false
   },
   "outputs": [
    {
     "data": {
      "text/plain": [
       "5.5353219576676684"
      ]
     },
     "execution_count": 116,
     "metadata": {},
     "output_type": "execute_result"
    }
   ],
   "source": [
    "np.sum(dfAug['dur']) / (60*60) #Total Training Time"
   ]
  },
  {
   "cell_type": "markdown",
   "metadata": {},
   "source": [
    "The average validation accurracy over the last 100 runs was:"
   ]
  },
  {
   "cell_type": "markdown",
   "metadata": {},
   "source": [
    "## Evaluation on the test set\n",
    "### Loading and preprocessing the data"
   ]
  },
  {
   "cell_type": "code",
   "execution_count": 60,
   "metadata": {
    "collapsed": false
   },
   "outputs": [
    {
     "name": "stdout",
     "output_type": "stream",
     "text": [
      "Loaded data in 10.4521279335\n"
     ]
    }
   ],
   "source": [
    "start = time.time()\n",
    "npzfile = np.load(blob4)\n",
    "cell_rows = npzfile['arr_0']\n",
    "X = npzfile['arr_1']\n",
    "Y = npzfile['arr_2']\n",
    "#Y = Y - 1#no dmso\n",
    "Y = Y    #With DMSO\n",
    "print (\"Loaded data in \" + str(time.time() - start))"
   ]
  },
  {
   "cell_type": "code",
   "execution_count": 61,
   "metadata": {
    "collapsed": false
   },
   "outputs": [],
   "source": [
    "Xmean = X.mean(axis = 0)\n",
    "XStd = np.sqrt(X.var(axis=0))\n",
    "X = (X-Xmean)/(XStd + 0.01)"
   ]
  },
  {
   "cell_type": "code",
   "execution_count": 62,
   "metadata": {
    "collapsed": false
   },
   "outputs": [
    {
     "data": {
      "text/plain": [
       "(-2.5272908, 58.301613, -3.3162789e-07)"
      ]
     },
     "execution_count": 62,
     "metadata": {},
     "output_type": "execute_result"
    }
   ],
   "source": [
    "np.min(X), np.max(X), np.mean(X) #(-2.5272908, 58.301613, -3.3162789e-07)"
   ]
  },
  {
   "cell_type": "code",
   "execution_count": 63,
   "metadata": {
    "collapsed": true
   },
   "outputs": [],
   "source": [
    "Y = np.asarray(Y,dtype='int32')"
   ]
  },
  {
   "cell_type": "code",
   "execution_count": 18,
   "metadata": {
    "collapsed": false
   },
   "outputs": [
    {
     "name": "stdout",
     "output_type": "stream",
     "text": [
      "Sum of permutation 1401824775\n"
     ]
    }
   ],
   "source": [
    "np.random.seed(seed=42)\n",
    "perm1 = np.random.permutation(len(Y))\n",
    "print('Sum of permutation {0}'.format(np.sum(perm1))) #1401824775\n",
    "#np.save('permutations.np', perm1)\n",
    "N_split = int(len(Y) * 0.8)\n",
    "N_split\n",
    "idx_train  = perm1[:N_split]\n",
    "idx_test  = perm1[N_split:]\n",
    "\n",
    "\n",
    "X_train = X[idx_train,:,:,:]\n",
    "Y_train = Y[idx_train]\n",
    "X_test = X[idx_test,:,:,:]\n",
    "Y_test = Y[idx_test]\n",
    "cell_rows_test = cell_rows[idx_test]"
   ]
  },
  {
   "cell_type": "code",
   "execution_count": 10,
   "metadata": {
    "collapsed": true
   },
   "outputs": [],
   "source": [
    "idx_test = np.asarray(np.recfromtxt ('test_set_data.csv'))\n",
    "idx_test\n",
    "X_train = X[idx_test== False]\n",
    "X_test = X[idx_test]\n",
    "Y_train = Y[idx_test== False]\n",
    "Y_test = Y[idx_test]\n",
    "X_test.shape, Y_test.shape, X_train.shape, Y_train.shape\n",
    "cell_rows_test = cell_rows[idx_test]"
   ]
  },
  {
   "cell_type": "markdown",
   "metadata": {},
   "source": [
    "#### As Suggested by the reviewer"
   ]
  },
  {
   "cell_type": "code",
   "execution_count": 64,
   "metadata": {
    "collapsed": true
   },
   "outputs": [],
   "source": [
    "idx_test = np.asarray(np.recfromtxt ('test_set_data_without_one_compound.csv'))\n",
    "idx_test\n",
    "X_train = X[idx_test== False]\n",
    "X_test = X[idx_test]\n",
    "Y_train = Y[idx_test== False]\n",
    "Y_test = Y[idx_test]\n",
    "X_test.shape, Y_test.shape, X_train.shape, Y_train.shape\n",
    "cell_rows_test = cell_rows[idx_test]"
   ]
  },
  {
   "cell_type": "markdown",
   "metadata": {},
   "source": [
    "### No DMSO as suggested by reviewer"
   ]
  },
  {
   "cell_type": "code",
   "execution_count": 80,
   "metadata": {
    "collapsed": false
   },
   "outputs": [
    {
     "name": "stdout",
     "output_type": "stream",
     "text": [
      "Number of DMSO 40783\n"
     ]
    },
    {
     "data": {
      "text/plain": [
       "((2223, 5, 72, 72), (2223,), (9944, 5, 72, 72), (9944,), (2223,), 1)"
      ]
     },
     "execution_count": 80,
     "metadata": {},
     "output_type": "execute_result"
    }
   ],
   "source": [
    "idx_DMSO = np.asarray(np.recfromtxt ('DMSO_data.csv'))\n",
    "print('Number of DMSO {}'.format(np.sum(idx_DMSO)))\n",
    "idx_test = np.asarray(np.recfromtxt ('test_set_data_without_one_compound.csv'))\n",
    "idx_test\n",
    "X_train = X[(idx_test == False) & (idx_DMSO == False)]\n",
    "X_test = X[idx_test & (idx_DMSO == False)]\n",
    "Y_train = Y[(idx_test == False) & (idx_DMSO == False)]\n",
    "Y_test = Y[idx_test & (idx_DMSO == False)]\n",
    "cell_rows_test = cell_rows[idx_test & (idx_DMSO == False)]\n",
    "X_test.shape, Y_test.shape, X_train.shape, Y_train.shape, cell_rows_test.shape, Y_test.min() #1964 and 10203"
   ]
  },
  {
   "cell_type": "code",
   "execution_count": 81,
   "metadata": {
    "collapsed": false
   },
   "outputs": [
    {
     "data": {
      "text/plain": [
       "(52950,)"
      ]
     },
     "execution_count": 81,
     "metadata": {},
     "output_type": "execute_result"
    }
   ],
   "source": [
    "cell_rows.shape"
   ]
  },
  {
   "cell_type": "code",
   "execution_count": 82,
   "metadata": {
    "collapsed": false
   },
   "outputs": [
    {
     "data": {
      "text/plain": [
       "((2223,), (2223, 5, 72, 72), (2223,))"
      ]
     },
     "execution_count": 82,
     "metadata": {},
     "output_type": "execute_result"
    }
   ],
   "source": [
    "cell_rows_test.shape, X_test.shape, Y_test.shape"
   ]
  },
  {
   "cell_type": "code",
   "execution_count": 102,
   "metadata": {
    "collapsed": true
   },
   "outputs": [],
   "source": [
    "with open('HCS_Test_no_dmso_reviewer_78x78.npz', 'wb') as f:\n",
    "    np.savez(f, cell_rows_test,X_test,Y_test)"
   ]
  },
  {
   "cell_type": "markdown",
   "metadata": {},
   "source": [
    "### Prediction on the test set"
   ]
  },
  {
   "cell_type": "code",
   "execution_count": 103,
   "metadata": {
    "collapsed": false
   },
   "outputs": [
    {
     "name": "stdout",
     "output_type": "stream",
     "text": [
      "The prediction of on 2223 cells took 7.0039088726\n"
     ]
    }
   ],
   "source": [
    "start = time.time()\n",
    "pred = net_pretrain.predict(X_test)\n",
    "ps = net_pretrain.predict_proba(X_test)\n",
    "print (\"The prediction of on {} cells took {}\".format(len(X_test), str(time.time() - start)))"
   ]
  },
  {
   "cell_type": "code",
   "execution_count": 107,
   "metadata": {
    "collapsed": false
   },
   "outputs": [
    {
     "data": {
      "text/plain": [
       "(2, 0, 2)"
      ]
     },
     "execution_count": 107,
     "metadata": {},
     "output_type": "execute_result"
    }
   ],
   "source": [
    "if Y_test.max() > 2: #NO_DMSO\n",
    "    Y_test = Y_test - 1\n",
    "np.max(pred),np.min(Y_test), np.max(Y_test)"
   ]
  },
  {
   "cell_type": "code",
   "execution_count": 112,
   "metadata": {
    "collapsed": false
   },
   "outputs": [
    {
     "name": "stdout",
     "output_type": "stream",
     "text": [
      "Total Accuracy 0.973009446694\n"
     ]
    },
    {
     "data": {
      "text/html": [
       "<div style=\"max-height:1000px;max-width:1500px;overflow:auto;\">\n",
       "<table border=\"1\" class=\"dataframe\">\n",
       "  <thead>\n",
       "    <tr style=\"text-align: right;\">\n",
       "      <th></th>\n",
       "      <th>PACLITAXEL True</th>\n",
       "      <th>METOCLOPRAMIDE True</th>\n",
       "      <th>DIGOXIN True</th>\n",
       "    </tr>\n",
       "  </thead>\n",
       "  <tbody>\n",
       "    <tr>\n",
       "      <th>PACLITAXEL Pred</th>\n",
       "      <td> 416</td>\n",
       "      <td>   26</td>\n",
       "      <td>  2</td>\n",
       "    </tr>\n",
       "    <tr>\n",
       "      <th>METOCLOPRAMIDE Pred</th>\n",
       "      <td>  30</td>\n",
       "      <td> 1682</td>\n",
       "      <td>  1</td>\n",
       "    </tr>\n",
       "    <tr>\n",
       "      <th>DIGOXIN Pred</th>\n",
       "      <td>   1</td>\n",
       "      <td>    0</td>\n",
       "      <td> 65</td>\n",
       "    </tr>\n",
       "  </tbody>\n",
       "</table>\n",
       "</div>"
      ],
      "text/plain": [
       "                     PACLITAXEL True  METOCLOPRAMIDE True  DIGOXIN True\n",
       "PACLITAXEL Pred                  416                   26             2\n",
       "METOCLOPRAMIDE Pred               30                 1682             1\n",
       "DIGOXIN Pred                       1                    0            65"
      ]
     },
     "execution_count": 112,
     "metadata": {},
     "output_type": "execute_result"
    }
   ],
   "source": [
    "df = pd.DataFrame(mm)\n",
    "names = ('PACLITAXEL True', 'METOCLOPRAMIDE True', 'DIGOXIN True')\n",
    "df.columns = names\n",
    "#names = ('PACLITAXEL True', 'METOCLOPRAMIDE True', 'DIGOXIN True')\n",
    "names = ('DMSO Pred', 'PACLITAXEL Pred', 'METOCLOPRAMIDE Pred', 'DIGOXIN Pred')\n",
    "names = ('PACLITAXEL Pred', 'METOCLOPRAMIDE Pred', 'DIGOXIN Pred')\n",
    "df.index = names\n",
    "print(\"Total Accuracy {}\".format(1.0*np.sum(m[np.diag_indices(len(names))]) / np.sum(m)))\n",
    "df"
   ]
  },
  {
   "cell_type": "code",
   "execution_count": 113,
   "metadata": {
    "collapsed": false
   },
   "outputs": [
    {
     "name": "stdout",
     "output_type": "stream",
     "text": [
      "Normalized confusion matrix\n"
     ]
    },
    {
     "data": {
      "text/html": [
       "<div style=\"max-height:1000px;max-width:1500px;overflow:auto;\">\n",
       "<table border=\"1\" class=\"dataframe\">\n",
       "  <thead>\n",
       "    <tr style=\"text-align: right;\">\n",
       "      <th></th>\n",
       "      <th>PACLITAXEL Pred</th>\n",
       "      <th>METOCLOPRAMIDE Pred</th>\n",
       "      <th>DIGOXIN Pred</th>\n",
       "    </tr>\n",
       "  </thead>\n",
       "  <tbody>\n",
       "    <tr>\n",
       "      <th>PACLITAXEL Pred</th>\n",
       "      <td> 0.930649</td>\n",
       "      <td> 0.015222</td>\n",
       "      <td> 0.029412</td>\n",
       "    </tr>\n",
       "    <tr>\n",
       "      <th>METOCLOPRAMIDE Pred</th>\n",
       "      <td> 0.067114</td>\n",
       "      <td> 0.984778</td>\n",
       "      <td> 0.014706</td>\n",
       "    </tr>\n",
       "    <tr>\n",
       "      <th>DIGOXIN Pred</th>\n",
       "      <td> 0.002237</td>\n",
       "      <td> 0.000000</td>\n",
       "      <td> 0.955882</td>\n",
       "    </tr>\n",
       "  </tbody>\n",
       "</table>\n",
       "</div>"
      ],
      "text/plain": [
       "                     PACLITAXEL Pred  METOCLOPRAMIDE Pred  DIGOXIN Pred\n",
       "PACLITAXEL Pred             0.930649             0.015222      0.029412\n",
       "METOCLOPRAMIDE Pred         0.067114             0.984778      0.014706\n",
       "DIGOXIN Pred                0.002237             0.000000      0.955882"
      ]
     },
     "execution_count": 113,
     "metadata": {},
     "output_type": "execute_result"
    }
   ],
   "source": [
    "cm_normalized = m.astype('float') / ((m.sum(axis=0)[np.newaxis,:])[0])\n",
    "print('Normalized confusion matrix')\n",
    "df = pd.DataFrame(cm_normalized)\n",
    "df.columns = names\n",
    "df.index = names\n",
    "df"
   ]
  },
  {
   "cell_type": "markdown",
   "metadata": {},
   "source": [
    "## Analysis of the wrongly predicted cells"
   ]
  },
  {
   "cell_type": "code",
   "execution_count": 114,
   "metadata": {
    "collapsed": false
   },
   "outputs": [
    {
     "data": {
      "text/plain": [
       "(2223, 3)"
      ]
     },
     "execution_count": 114,
     "metadata": {},
     "output_type": "execute_result"
    }
   ],
   "source": [
    "pred_prob = net_pretrain.predict_proba(X_test)\n",
    "pred_prob.shape"
   ]
  },
  {
   "cell_type": "markdown",
   "metadata": {},
   "source": [
    "# Global overview"
   ]
  },
  {
   "cell_type": "markdown",
   "metadata": {},
   "source": [
    "How sure is the net"
   ]
  },
  {
   "cell_type": "code",
   "execution_count": 117,
   "metadata": {
    "collapsed": false
   },
   "outputs": [],
   "source": [
    "hist(np.max(pred_prob, axis=1))"
   ]
  },
  {
   "cell_type": "markdown",
   "metadata": {},
   "source": [
    "### PCA"
   ]
  },
  {
   "cell_type": "code",
   "execution_count": 118,
   "metadata": {
    "collapsed": true
   },
   "outputs": [],
   "source": [
    "from sklearn import datasets\n",
    "from sklearn.decomposition import PCA"
   ]
  },
  {
   "cell_type": "code",
   "execution_count": 119,
   "metadata": {
    "collapsed": false
   },
   "outputs": [
    {
     "name": "stdout",
     "output_type": "stream",
     "text": [
      "explained variance ratio (first two components): [ 0.88328195  0.11671802]\n"
     ]
    },
    {
     "data": {
      "image/png": "[encoded data removed]",
      "text/plain": [
       "<matplotlib.figure.Figure at 0xb9d58d0>"
      ]
     },
     "metadata": {},
     "output_type": "display_data"
    }
   ],
   "source": [
    "pca = PCA(n_components=2)\n",
    "X_r = pca.fit(pred_prob).transform(pred_prob)\n",
    "print('explained variance ratio (first two components): %s'\n",
    "      % str(pca.explained_variance_ratio_))\n",
    "plt.figure()\n",
    "target_names = names\n",
    "for c, i, target_name in zip(\"rgby\", [0, 1, 2, 3], target_names):\n",
    "    plt.scatter(X_r[Y_test == i, 0], X_r[Y_test == i, 1], c=c, label=target_name)"
   ]
  },
  {
   "cell_type": "code",
   "execution_count": 120,
   "metadata": {
    "collapsed": true
   },
   "outputs": [],
   "source": [
    "from sklearn.manifold import TSNE"
   ]
  },
  {
   "cell_type": "code",
   "execution_count": 121,
   "metadata": {
    "collapsed": false
   },
   "outputs": [
    {
     "data": {
      "image/png": "[encoded data removed]",
      "text/plain": [
       "<matplotlib.figure.Figure at 0xd772150>"
      ]
     },
     "metadata": {},
     "output_type": "display_data"
    }
   ],
   "source": [
    "plt.figure()\n",
    "target_names = names\n",
    "for c, i, target_name in zip(\"rgby\", [0, 1, 2, 3], target_names):\n",
    "    plt.scatter(X_r[Y_test == i, 0], X_r[Y_test == i, 1], c=c, label=target_name)"
   ]
  },
  {
   "cell_type": "code",
   "execution_count": 125,
   "metadata": {
    "collapsed": false
   },
   "outputs": [
    {
     "data": {
      "text/plain": [
       "(2223,)"
      ]
     },
     "execution_count": 125,
     "metadata": {},
     "output_type": "execute_result"
    }
   ],
   "source": [
    "loss = np.zeros(len(Y_test))\n",
    "for i in range(len(Y_test)):\n",
    "    loss[i] = pred_prob[i,Y_test[i]]\n",
    "loss.shape"
   ]
  },
  {
   "cell_type": "code",
   "execution_count": 126,
   "metadata": {
    "collapsed": false
   },
   "outputs": [
    {
     "data": {
      "text/plain": [
       "(array([   44.,     5.,     3.,     5.,     3.,     4.,     6.,     6.,\n",
       "           12.,  2135.]),\n",
       " array([  3.36674658e-14,   1.00000000e-01,   2.00000000e-01,\n",
       "          3.00000000e-01,   4.00000000e-01,   5.00000000e-01,\n",
       "          6.00000000e-01,   7.00000000e-01,   8.00000000e-01,\n",
       "          9.00000000e-01,   1.00000000e+00]),\n",
       " <a list of 10 Patch objects>)"
      ]
     },
     "execution_count": 126,
     "metadata": {},
     "output_type": "execute_result"
    },
    {
     "data": {
      "image/png": "[encoded data removed]",
      "text/plain": [
       "<matplotlib.figure.Figure at 0xbd75090>"
      ]
     },
     "metadata": {},
     "output_type": "display_data"
    }
   ],
   "source": [
    "plt.hist(loss)"
   ]
  },
  {
   "cell_type": "code",
   "execution_count": 127,
   "metadata": {
    "collapsed": false
   },
   "outputs": [
    {
     "data": {
      "text/plain": [
       "33"
      ]
     },
     "execution_count": 127,
     "metadata": {},
     "output_type": "execute_result"
    }
   ],
   "source": [
    "loss < 0.01\n",
    "sum(loss < 0.01)"
   ]
  },
  {
   "cell_type": "code",
   "execution_count": 129,
   "metadata": {
    "collapsed": false
   },
   "outputs": [],
   "source": [
    "wrong = [loss < 0.01]"
   ]
  },
  {
   "cell_type": "code",
   "execution_count": 130,
   "metadata": {
    "collapsed": false
   },
   "outputs": [
    {
     "data": {
      "text/plain": [
       "((2223,), (2223,))"
      ]
     },
     "execution_count": 130,
     "metadata": {},
     "output_type": "execute_result"
    }
   ],
   "source": [
    "Y_test.shape, cell_rows_test.shape"
   ]
  },
  {
   "cell_type": "code",
   "execution_count": 131,
   "metadata": {
    "collapsed": false
   },
   "outputs": [
    {
     "name": "stdout",
     "output_type": "stream",
     "text": [
      "total 8.9G\r\n",
      "-rw-r--r-- 1 dueo dueo  125K Oct  7 00:31 cell_rows.Rdata\r\n",
      "-rw-r--r-- 1 dueo dueo   48K Dec  5 19:24 complex_network_aug.txt\r\n",
      "-rw-r--r-- 1 dueo dueo  490K Dec  5 11:34 ComplexNetwork.ipynb\r\n",
      "-rw-r--r-- 1 dueo dueo  9.2K Oct  4 21:32 complex_network_no_aug.txt\r\n",
      "-rw-r--r-- 1 dueo dueo  1.7M Oct  3 11:15 DataHandling.ipynb\r\n",
      "-rw-r--r-- 1 dueo dueo  271K Oct  6 20:46 DMSO_data.csv\r\n",
      "-rw-r--r-- 1 dueo dueo    19 Aug 13 17:43 experiment.py\r\n",
      "-rw-r--r-- 1 dueo dueo 1010K Jul 30 13:10 FirstNetwork_dummy.ipynb\r\n",
      "-rw-r--r-- 1 dueo dueo  928K Aug  7 14:06 FirstNetwork.ipynb\r\n",
      "-rw-r--r-- 1 dueo dueo  2.3G Jul 28 20:17 HCS_48x48.npz\r\n",
      "-rw-r--r-- 1 dueo dueo  5.2G Jul 29 21:17 HCS_72x72.npz\r\n",
      "-rw-r--r-- 1 dueo dueo  3.2M Jul 30 12:23 HCS_72x72_small_32.npz\r\n",
      "-rw-r--r-- 1 dueo dueo  1.1G Oct  4 10:12 HCS_Test_78x78.npz\r\n",
      "-rw-r--r-- 1 dueo dueo  195M Oct  7 00:30 HCS_Test_no_dmso_78x78.npz\r\n",
      "-rw-r--r-- 1 dueo dueo  220M Dec  6 14:07 HCS_Test_no_dmso_reviewer_78x78.npz\r\n",
      "-rw-r--r-- 1 dueo dueo   30K Oct  6 13:18 LasagneNet-Concat.ipynb\r\n",
      "-rw-r--r-- 1 dueo dueo   40K Oct  6 23:03 LasagneNet.ipynb\r\n",
      "-rw-r--r-- 1 dueo dueo   19K Oct  6 17:05 LasagneNet_Pretrained.ipynb\r\n",
      "-rw-r--r-- 1 dueo dueo   14M Jul 31 23:47 net_aug_epoch242_72x72large_net.pickle\r\n",
      "-rw-r--r-- 1 dueo dueo  2.6M Jul 30 01:03 net_aug_epoch300_92prec.pickle\r\n",
      "-rw-r--r-- 1 dueo dueo  2.6M Jul 30 11:22 net_aug_epoch400_all_rot_92prec.pickle\r\n",
      "-rw-r--r-- 1 dueo dueo  4.9M Jul 31 09:59 net_aug_epoch400_large_net.pickle\r\n",
      "-rw-r--r-- 1 dueo dueo  2.6M Jul 29 20:43 net_aug_epoch42_91prec.pickle\r\n",
      "-rw-r--r-- 1 dueo dueo  2.6M Jul 29 21:13 net_aug_epoch69_92prec.pickle\r\n",
      "-rw-r--r-- 1 dueo dueo  3.9M Aug  1 13:34 net_aug_epoch800_48x48_all_rot_prec93.pickle\r\n",
      "-rw-r--r-- 1 dueo dueo   14M Aug  3 13:42 net_aug_epoch800_72x72large_net.pickle\r\n",
      "-rw-r--r-- 1 dueo dueo  9.2K Dec  5 19:52 PlottingCells.ipynb\r\n",
      "-rw-r--r-- 1 dueo dueo   93K Dec  6 14:26 PostTrainingAnalysis.ipynb\r\n",
      "-rw-r--r-- 1 dueo dueo  414K Oct  3 10:47 premutations.np.npy\r\n",
      "-rw-r--r-- 1 dueo dueo   453 Aug 13 17:43 README.md\r\n",
      "-rw-r--r-- 1 dueo dueo   70K Dec  6 14:28 Test_3Classes_NO_DMSO_Reviewer.pickle\r\n",
      "-rw-r--r-- 1 dueo dueo   62K Oct  7 21:22 Test_3Classes_Single_Well_no_dmso.pickle\r\n",
      "-rw-r--r-- 1 dueo dueo  379K Oct  9 20:44 Test_Like_SIBS_lda_rf.Rdata\r\n",
      "-rw-r--r-- 1 dueo dueo  694K Oct  9 21:11 Test_Like_SIBS_lda_rf_svm.Rdata\r\n",
      "-rw-r--r-- 1 dueo dueo  414K Oct  4 19:45 Test.pickle\r\n",
      "-rw-r--r-- 1 dueo dueo  278K Oct  4 11:00 Test.Rdata\r\n",
      "-rw-r--r-- 1 dueo dueo  308K Oct  5 16:51 test_set_data.csv\r\n",
      "-rw-r--r-- 1 dueo dueo  308K Dec  3 17:03 test_set_data_without_one_compound.csv\r\n",
      "-rw-r--r-- 1 dueo dueo  267K Dec  5 15:53 test_set_data_without_one_compound_first_no_DMSO.csv\r\n",
      "-rw-r--r-- 1 dueo dueo  266K Dec  5 18:57 test_set_data_without_one_compound_second_no_DMSO.csv\r\n",
      "-rw-r--r-- 1 dueo dueo   33K Oct  7 21:21 Test_Singel_Well_3Classes_no_dmso.Rdata\r\n",
      "-rw-r--r-- 1 dueo dueo   33K Oct  7 00:31 Test_Singel_Well_3Classes.Rdata\r\n",
      "-rw-r--r-- 1 dueo dueo   84K Oct  5 18:49 Test_Singel_Well.Rdata\r\n",
      "-rw-r--r-- 1 dueo dueo   84K Oct  5 18:22 Test_SVM_C0.01.Rdata\r\n",
      "-rw-r--r-- 1 dueo dueo   44K Oct  7 21:25 Test_SVM_C0.01_SingleWell_NODMSO.Rdata\r\n",
      "-rw-r--r-- 1 dueo dueo  278K Oct  4 11:20 Test_with_row_index.Rdata\r\n",
      "drwxr-xr-x 2 dueo dueo   60K Dec  6 14:03 \u001b[0m\u001b[01;34mtmp_models\u001b[0m/\r\n",
      "-rw-r--r-- 1 dueo dueo  4.9M Dec  4 19:31 tmp.pickle\r\n",
      "-rw-r--r-- 1 dueo dueo   54K Dec  6 13:53 Traditional_Pipeline.ipynb\r\n",
      "-rw-r--r-- 1 dueo dueo   51K Oct  9 12:48 Traditional_Pipeline_NO_DMSO.ipynb\r\n",
      "-rw-r--r-- 1 dueo dueo  166K Dec  5 20:02 True_2_1.png\r\n",
      "-rw-r--r-- 1 dueo dueo   41K Dec  4 18:42 Untitled.ipynb\r\n",
      "-rw-r--r-- 1 dueo dueo  180K Dec  5 19:47 Wrong__1.png\r\n",
      "-rw-r--r-- 1 dueo dueo  187K Dec  5 19:47 Wrong__2.png\r\n",
      "-rw-r--r-- 1 dueo dueo  214K Dec  5 19:47 Wrong__3.png\r\n",
      "-rw-r--r-- 1 dueo dueo  217K Dec  5 19:47 Wrong__4.png\r\n"
     ]
    }
   ],
   "source": [
    "with open('Test_3Classes_NO_DMSO_Reviewer.pickle', 'wb') as f:\n",
    "    pickle.dump((pred_prob, Y_test, loss, cell_rows_test), f, -1)\n",
    "%ls -lh"
   ]
  },
  {
   "cell_type": "code",
   "execution_count": 61,
   "metadata": {
    "collapsed": false
   },
   "outputs": [
    {
     "name": "stdout",
     "output_type": "stream",
     "text": [
      "The rpy2.ipython extension is already loaded. To reload it, use:\n",
      "  %reload_ext rpy2.ipython\n"
     ]
    }
   ],
   "source": [
    "%load_ext rpy2.ipython\n",
    "%Rpush pred_prob\n",
    "%Rpush Y_test\n",
    "%Rpush loss\n",
    "%Rpush cell_rows_test\n",
    "%Rpush cell_rows"
   ]
  },
  {
   "cell_type": "code",
   "execution_count": 45,
   "metadata": {
    "collapsed": true
   },
   "outputs": [],
   "source": [
    "%%R\n",
    "save(cell_rows, file='cell_rows.Rdata')"
   ]
  },
  {
   "cell_type": "code",
   "execution_count": 62,
   "metadata": {
    "collapsed": false
   },
   "outputs": [],
   "source": [
    "%%R\n",
    "save(pred_prob, Y_test, loss, cell_rows_test, file='Test_Singel_Well_3Classes_no_dmso.Rdata')"
   ]
  },
  {
   "cell_type": "code",
   "execution_count": 63,
   "metadata": {
    "collapsed": false
   },
   "outputs": [
    {
     "data": {
      "text/plain": [
       "array([  0.00000000e+00,   1.00000000e+00,   2.00000000e+00, ...,\n",
       "         2.54900000e+04,   2.54920000e+04,   2.54930000e+04])"
      ]
     },
     "execution_count": 63,
     "metadata": {},
     "output_type": "execute_result"
    }
   ],
   "source": [
    "cell_rows_test"
   ]
  },
  {
   "cell_type": "code",
   "execution_count": null,
   "metadata": {
    "collapsed": true
   },
   "outputs": [],
   "source": []
  }
 ],
 "metadata": {
  "kernelspec": {
   "display_name": "Python 2",
   "language": "python",
   "name": "python2"
  },
  "language_info": {
   "codemirror_mode": {
    "name": "ipython",
    "version": 2
   },
   "file_extension": ".py",
   "mimetype": "text/x-python",
   "name": "python",
   "nbconvert_exporter": "python",
   "pygments_lexer": "ipython2",
   "version": "2.7.3"
  }
 },
 "nbformat": 4,
 "nbformat_minor": 0
}
