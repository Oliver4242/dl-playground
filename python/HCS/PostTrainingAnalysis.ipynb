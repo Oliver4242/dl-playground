{
 "cells": [
  {
   "cell_type": "markdown",
   "metadata": {
    "collapsed": true
   },
   "source": [
    "### Analysis with the trained network\n",
    "\n",
    "This analysis uses the pretrained network. The important files are stored in"
   ]
  },
  {
   "cell_type": "code",
   "execution_count": 2,
   "metadata": {
    "collapsed": false
   },
   "outputs": [
    {
     "name": "stdout",
     "output_type": "stream",
     "text": [
      "total 5.2G\r\n",
      "-rw-r--r-- 1 dueo dueo 4.9M Oct  3 17:03 net_PAPER_aug_epoch512_72x72large_net.pickle\r\n",
      "-rw-r--r-- 1 dueo dueo 5.2G Oct  3 17:04 HCS_72x72.npz\r\n",
      "-rw-r--r-- 1 dueo dueo 414K Oct  3 17:12 permutations.np.npy\r\n",
      "-rw-r--r-- 1 dueo dueo 278K Oct  4 11:02 Test.Rdata\r\n",
      "-rw-r--r-- 1 dueo dueo 278K Oct  4 11:21 Test_with_row_index.Rdata\r\n"
     ]
    }
   ],
   "source": [
    "!ls -rtlh ~/Dropbox/Server/dl_hcs/"
   ]
  },
  {
   "cell_type": "code",
   "execution_count": 3,
   "metadata": {
    "collapsed": true
   },
   "outputs": [],
   "source": [
    "pretrained_net = 'net_PAPER_aug_epoch512_72x72large_net.pickle'\n",
    "blob4 = 'HCS_72x72.npz' #The Scaled and cut images in the right format"
   ]
  },
  {
   "cell_type": "code",
   "execution_count": 4,
   "metadata": {
    "collapsed": false
   },
   "outputs": [
    {
     "name": "stderr",
     "output_type": "stream",
     "text": [
      "Using gpu device 0: GeForce GTX 780\n",
      "/usr/local/lib/python2.7/dist-packages/Lasagne-0.1dev-py2.7.egg/lasagne/layers/helper.py:69: UserWarning: get_all_layers() has been changed to return layers in topological order. The former implementation is still available as get_all_layers_old(), but will be removed before the first release of Lasagne. To ignore this warning, use `warnings.filterwarnings('ignore', '.*topo.*')`.\n",
      "  warnings.warn(\"get_all_layers() has been changed to return layers in \"\n"
     ]
    },
    {
     "name": "stdout",
     "output_type": "stream",
     "text": [
      "Couldn't import dot_parser, loading of dot files will not be possible.\n"
     ]
    }
   ],
   "source": [
    "import skimage\n",
    "skimage.__version__\n",
    "import gzip\n",
    "import numpy as np\n",
    "from sklearn.cross_validation import KFold\n",
    "from sklearn.cross_validation import StratifiedKFold\n",
    "import matplotlib.pyplot as plt\n",
    "import matplotlib.image as imgplot\n",
    "import time\n",
    "%matplotlib inline\n",
    "import cPickle as pickle\n",
    "from lasagne import layers\n",
    "from lasagne import nonlinearities\n",
    "from nolearn.lasagne import NeuralNet\n",
    "\n",
    "from nolearn.lasagne import BatchIterator\n",
    "\n",
    "class SimpleBatchIterator(BatchIterator):\n",
    "\n",
    "    def transform(self, Xb, yb):\n",
    "        Xb, yb = super(SimpleBatchIterator, self).transform(Xb, yb)\n",
    "        #return Xb[:,:,:,::-1], yb #<--- Here we do the flipping of the images\n",
    "        return manipulateTrainingData(Xb), yb\n",
    "\n",
    "\n",
    "with open(pretrained_net, 'rb') as f:\n",
    "    net_pretrain = pickle.load(f)"
   ]
  },
  {
   "cell_type": "markdown",
   "metadata": {},
   "source": [
    "## The training history"
   ]
  },
  {
   "cell_type": "code",
   "execution_count": 6,
   "metadata": {
    "collapsed": false
   },
   "outputs": [
    {
     "data": {
      "image/png": "[encoded data removed]",
      "text/plain": [
       "<matplotlib.figure.Figure at 0xddd1f90>"
      ]
     },
     "metadata": {},
     "output_type": "display_data"
    }
   ],
   "source": [
    "import pandas as pd\n",
    "dfAug = pd.DataFrame(net_pretrain.train_history_)\n",
    "dfAug[['train_loss','valid_loss','valid_accuracy']].plot(title='No Augmentation', ylim=(0,1))\n",
    "dfAug.to_csv(\"complex_network_aug.txt\")"
   ]
  },
  {
   "cell_type": "code",
   "execution_count": 7,
   "metadata": {
    "collapsed": false
   },
   "outputs": [
    {
     "data": {
      "text/plain": [
       "19.17785088347064"
      ]
     },
     "execution_count": 7,
     "metadata": {},
     "output_type": "execute_result"
    }
   ],
   "source": [
    "np.sum(dfAug['dur']) / (60*60) #Total Training Time"
   ]
  },
  {
   "cell_type": "markdown",
   "metadata": {},
   "source": [
    "The average validation accurracy over the last 100 runs was:"
   ]
  },
  {
   "cell_type": "code",
   "execution_count": 9,
   "metadata": {
    "collapsed": false
   },
   "outputs": [
    {
     "data": {
      "text/plain": [
       "0.0078610355589536184"
      ]
     },
     "execution_count": 9,
     "metadata": {},
     "output_type": "execute_result"
    }
   ],
   "source": [
    "np.std(dfAug['valid_accuracy'][451:])"
   ]
  },
  {
   "cell_type": "markdown",
   "metadata": {},
   "source": [
    "## Evaluation on the test set\n",
    "### Loading and preprocessing the data"
   ]
  },
  {
   "cell_type": "code",
   "execution_count": 14,
   "metadata": {
    "collapsed": false
   },
   "outputs": [
    {
     "name": "stdout",
     "output_type": "stream",
     "text": [
      "Loaded data in 9.9596259594\n"
     ]
    }
   ],
   "source": [
    "start = time.time()\n",
    "npzfile = np.load(blob4)\n",
    "cell_rows = npzfile['arr_0']\n",
    "X = npzfile['arr_1']\n",
    "Y = npzfile['arr_2']\n",
    "print (\"Loaded data in \" + str(time.time() - start))"
   ]
  },
  {
   "cell_type": "code",
   "execution_count": 15,
   "metadata": {
    "collapsed": false
   },
   "outputs": [],
   "source": [
    "Xmean = X.mean(axis = 0)\n",
    "XStd = np.sqrt(X.var(axis=0))\n",
    "X = (X-Xmean)/(XStd + 0.01)"
   ]
  },
  {
   "cell_type": "code",
   "execution_count": 16,
   "metadata": {
    "collapsed": false
   },
   "outputs": [
    {
     "data": {
      "text/plain": [
       "(-2.5272908, 58.301613, -3.3162789e-07)"
      ]
     },
     "execution_count": 16,
     "metadata": {},
     "output_type": "execute_result"
    }
   ],
   "source": [
    "np.min(X), np.max(X), np.mean(X) #(-2.5272908, 58.301613, -3.3162789e-07)"
   ]
  },
  {
   "cell_type": "code",
   "execution_count": 17,
   "metadata": {
    "collapsed": true
   },
   "outputs": [],
   "source": [
    "Y = np.asarray(Y,dtype='int32')"
   ]
  },
  {
   "cell_type": "code",
   "execution_count": 18,
   "metadata": {
    "collapsed": false
   },
   "outputs": [
    {
     "name": "stdout",
     "output_type": "stream",
     "text": [
      "Sum of permutation 1401824775\n"
     ]
    }
   ],
   "source": [
    "np.random.seed(seed=42)\n",
    "perm1 = np.random.permutation(len(Y))\n",
    "print('Sum of permutation {0}'.format(np.sum(perm1))) #1401824775\n",
    "#np.save('permutations.np', perm1)\n",
    "N_split = int(len(Y) * 0.8)\n",
    "N_split\n",
    "idx_train  = perm1[:N_split]\n",
    "idx_test  = perm1[N_split:]\n",
    "\n",
    "\n",
    "X_train = X[idx_train,:,:,:]\n",
    "Y_train = Y[idx_train]\n",
    "X_test = X[idx_test,:,:,:]\n",
    "Y_test = Y[idx_test]\n",
    "cell_rows_test = cell_rows[idx_test]"
   ]
  },
  {
   "cell_type": "code",
   "execution_count": null,
   "metadata": {
    "collapsed": true
   },
   "outputs": [],
   "source": [
    "#with open('HCS_Test_78x78.npz', 'wb') as f:\n",
    "#    np.savez(f, cell_rows_test,X_test,Y_test)"
   ]
  },
  {
   "cell_type": "markdown",
   "metadata": {},
   "source": [
    "### Prediction on the test set"
   ]
  },
  {
   "cell_type": "code",
   "execution_count": 19,
   "metadata": {
    "collapsed": false
   },
   "outputs": [
    {
     "name": "stdout",
     "output_type": "stream",
     "text": [
      "The prediction of on 10590 cells took 11.2508270741\n"
     ]
    }
   ],
   "source": [
    "start = time.time()\n",
    "pred = net_pretrain.predict(X_test)\n",
    "print (\"The prediction of on {} cells took {}\".format(len(X_test), str(time.time() - start)))"
   ]
  },
  {
   "cell_type": "code",
   "execution_count": 20,
   "metadata": {
    "collapsed": false
   },
   "outputs": [
    {
     "name": "stdout",
     "output_type": "stream",
     "text": [
      "Total Time 0.934372049103\n"
     ]
    },
    {
     "data": {
      "text/html": [
       "<div style=\"max-height:1000px;max-width:1500px;overflow:auto;\">\n",
       "<table border=\"1\" class=\"dataframe\">\n",
       "  <thead>\n",
       "    <tr style=\"text-align: right;\">\n",
       "      <th></th>\n",
       "      <th>DMSO True</th>\n",
       "      <th>PACLITAXEL True</th>\n",
       "      <th>METOCLOPRAMIDE True</th>\n",
       "      <th>DIGOXIN True</th>\n",
       "    </tr>\n",
       "  </thead>\n",
       "  <tbody>\n",
       "    <tr>\n",
       "      <th>DMSO Pred</th>\n",
       "      <td> 7775</td>\n",
       "      <td>  13</td>\n",
       "      <td>  208</td>\n",
       "      <td>  0</td>\n",
       "    </tr>\n",
       "    <tr>\n",
       "      <th>PACLITAXEL Pred</th>\n",
       "      <td>   28</td>\n",
       "      <td> 382</td>\n",
       "      <td>   23</td>\n",
       "      <td>  1</td>\n",
       "    </tr>\n",
       "    <tr>\n",
       "      <th>METOCLOPRAMIDE Pred</th>\n",
       "      <td>  414</td>\n",
       "      <td>   8</td>\n",
       "      <td> 1657</td>\n",
       "      <td>  0</td>\n",
       "    </tr>\n",
       "    <tr>\n",
       "      <th>DIGOXIN Pred</th>\n",
       "      <td>    0</td>\n",
       "      <td>   0</td>\n",
       "      <td>    0</td>\n",
       "      <td> 81</td>\n",
       "    </tr>\n",
       "  </tbody>\n",
       "</table>\n",
       "</div>"
      ],
      "text/plain": [
       "                     DMSO True  PACLITAXEL True  METOCLOPRAMIDE True  \\\n",
       "DMSO Pred                 7775               13                  208   \n",
       "PACLITAXEL Pred             28              382                   23   \n",
       "METOCLOPRAMIDE Pred        414                8                 1657   \n",
       "DIGOXIN Pred                 0                0                    0   \n",
       "\n",
       "                     DIGOXIN True  \n",
       "DMSO Pred                       0  \n",
       "PACLITAXEL Pred                 1  \n",
       "METOCLOPRAMIDE Pred             0  \n",
       "DIGOXIN Pred                   81  "
      ]
     },
     "execution_count": 20,
     "metadata": {},
     "output_type": "execute_result"
    }
   ],
   "source": [
    "from sklearn.metrics import confusion_matrix\n",
    "import pandas as pd\n",
    "names = ('DMSO True', 'PACLITAXEL True', 'METOCLOPRAMIDE True', 'DIGOXIN True')\n",
    "m = confusion_matrix(pred, Y_test)\n",
    "df = pd.DataFrame(m)\n",
    "df.columns = names\n",
    "names = ('DMSO Pred', 'PACLITAXEL Pred', 'METOCLOPRAMIDE Pred', 'DIGOXIN Pred')\n",
    "df.index = names\n",
    "print(\"Total Time {}\".format(1.0*np.sum(m[np.diag_indices(4)]) / np.sum(m)))\n",
    "df"
   ]
  },
  {
   "cell_type": "code",
   "execution_count": 21,
   "metadata": {
    "collapsed": false
   },
   "outputs": [
    {
     "name": "stdout",
     "output_type": "stream",
     "text": [
      "Normalized confusion matrix\n"
     ]
    },
    {
     "data": {
      "text/html": [
       "<div style=\"max-height:1000px;max-width:1500px;overflow:auto;\">\n",
       "<table border=\"1\" class=\"dataframe\">\n",
       "  <thead>\n",
       "    <tr style=\"text-align: right;\">\n",
       "      <th></th>\n",
       "      <th>DMSO True</th>\n",
       "      <th>PACLITAXEL True</th>\n",
       "      <th>METOCLOPRAMIDE True</th>\n",
       "      <th>DIGOXIN True</th>\n",
       "    </tr>\n",
       "  </thead>\n",
       "  <tbody>\n",
       "    <tr>\n",
       "      <th>DMSO Pred</th>\n",
       "      <td> 0.946209</td>\n",
       "      <td> 0.032258</td>\n",
       "      <td> 0.110169</td>\n",
       "      <td> 0.000000</td>\n",
       "    </tr>\n",
       "    <tr>\n",
       "      <th>PACLITAXEL Pred</th>\n",
       "      <td> 0.003408</td>\n",
       "      <td> 0.947891</td>\n",
       "      <td> 0.012182</td>\n",
       "      <td> 0.012195</td>\n",
       "    </tr>\n",
       "    <tr>\n",
       "      <th>METOCLOPRAMIDE Pred</th>\n",
       "      <td> 0.050383</td>\n",
       "      <td> 0.019851</td>\n",
       "      <td> 0.877648</td>\n",
       "      <td> 0.000000</td>\n",
       "    </tr>\n",
       "    <tr>\n",
       "      <th>DIGOXIN Pred</th>\n",
       "      <td> 0.000000</td>\n",
       "      <td> 0.000000</td>\n",
       "      <td> 0.000000</td>\n",
       "      <td> 0.987805</td>\n",
       "    </tr>\n",
       "  </tbody>\n",
       "</table>\n",
       "</div>"
      ],
      "text/plain": [
       "                     DMSO True  PACLITAXEL True  METOCLOPRAMIDE True  \\\n",
       "DMSO Pred             0.946209         0.032258             0.110169   \n",
       "PACLITAXEL Pred       0.003408         0.947891             0.012182   \n",
       "METOCLOPRAMIDE Pred   0.050383         0.019851             0.877648   \n",
       "DIGOXIN Pred          0.000000         0.000000             0.000000   \n",
       "\n",
       "                     DIGOXIN True  \n",
       "DMSO Pred                0.000000  \n",
       "PACLITAXEL Pred          0.012195  \n",
       "METOCLOPRAMIDE Pred      0.000000  \n",
       "DIGOXIN Pred             0.987805  "
      ]
     },
     "execution_count": 21,
     "metadata": {},
     "output_type": "execute_result"
    }
   ],
   "source": [
    "cm_normalized = m.astype('float') / ((m.sum(axis=0)[np.newaxis,:])[0])\n",
    "print('Normalized confusion matrix')\n",
    "names = ('DMSO True', 'PACLITAXEL True', 'METOCLOPRAMIDE True', 'DIGOXIN True')\n",
    "#m = confusion_matrix(pred, Y_test)\n",
    "df = pd.DataFrame(cm_normalized)\n",
    "df.columns = names\n",
    "names = ('DMSO Pred', 'PACLITAXEL Pred', 'METOCLOPRAMIDE Pred', 'DIGOXIN Pred')\n",
    "df.index = names\n",
    "df"
   ]
  },
  {
   "cell_type": "markdown",
   "metadata": {},
   "source": [
    "## Analysis of the wrongly predicted cells"
   ]
  },
  {
   "cell_type": "code",
   "execution_count": 22,
   "metadata": {
    "collapsed": true
   },
   "outputs": [],
   "source": [
    "pred_prob_t = net_pretrain.predict_proba(X_test)"
   ]
  },
  {
   "cell_type": "code",
   "execution_count": 23,
   "metadata": {
    "collapsed": false
   },
   "outputs": [
    {
     "data": {
      "text/plain": [
       "array([  1.00000000e+00,   4.48532952e-21,   6.60028787e-09,\n",
       "         7.13604722e-31,   2.59952230e-31], dtype=float32)"
      ]
     },
     "execution_count": 23,
     "metadata": {},
     "output_type": "execute_result"
    }
   ],
   "source": [
    "pred_prob = pred_prob_t[:,0:5]\n",
    "pred_prob.shape\n",
    "pred_prob[1,:]"
   ]
  },
  {
   "cell_type": "markdown",
   "metadata": {},
   "source": [
    "# Global overview"
   ]
  },
  {
   "cell_type": "markdown",
   "metadata": {},
   "source": [
    "How sure is the net"
   ]
  },
  {
   "cell_type": "code",
   "execution_count": 24,
   "metadata": {
    "collapsed": false
   },
   "outputs": [],
   "source": [
    "hist(np.max(pred_prob, axis=1))"
   ]
  },
  {
   "cell_type": "markdown",
   "metadata": {},
   "source": [
    "### PCA"
   ]
  },
  {
   "cell_type": "code",
   "execution_count": 83,
   "metadata": {
    "collapsed": true
   },
   "outputs": [],
   "source": [
    "from sklearn import datasets\n",
    "from sklearn.decomposition import PCA"
   ]
  },
  {
   "cell_type": "code",
   "execution_count": 84,
   "metadata": {
    "collapsed": false
   },
   "outputs": [
    {
     "name": "stdout",
     "output_type": "stream",
     "text": [
      "explained variance ratio (first two components): [ 0.81639427  0.15586208]\n"
     ]
    },
    {
     "data": {
      "image/png": "[encoded data removed]",
      "text/plain": [
       "<matplotlib.figure.Figure at 0x280b3e10>"
      ]
     },
     "metadata": {},
     "output_type": "display_data"
    }
   ],
   "source": [
    "pca = PCA(n_components=2)\n",
    "X_r = pca.fit(pred_prob).transform(pred_prob)\n",
    "print('explained variance ratio (first two components): %s'\n",
    "      % str(pca.explained_variance_ratio_))\n",
    "plt.figure()\n",
    "target_names = names\n",
    "for c, i, target_name in zip(\"rgby\", [0, 1, 2, 3], target_names):\n",
    "    plt.scatter(X_r[Y_test == i, 0], X_r[Y_test == i, 1], c=c, label=target_name)"
   ]
  },
  {
   "cell_type": "code",
   "execution_count": 85,
   "metadata": {
    "collapsed": true
   },
   "outputs": [],
   "source": [
    "from sklearn.manifold import TSNE"
   ]
  },
  {
   "cell_type": "code",
   "execution_count": 86,
   "metadata": {
    "collapsed": false
   },
   "outputs": [
    {
     "data": {
      "image/png": "[encoded data removed]",
      "text/plain": [
       "<matplotlib.figure.Figure at 0x2a82b5d0>"
      ]
     },
     "metadata": {},
     "output_type": "display_data"
    }
   ],
   "source": [
    "plt.figure()\n",
    "target_names = names\n",
    "for c, i, target_name in zip(\"rgby\", [0, 1, 2, 3], target_names):\n",
    "    plt.scatter(X_r[Y_test == i, 0], X_r[Y_test == i, 1], c=c, label=target_name)"
   ]
  },
  {
   "cell_type": "code",
   "execution_count": 87,
   "metadata": {
    "collapsed": false
   },
   "outputs": [
    {
     "data": {
      "text/plain": [
       "(array([[  1.00000000e+00,   1.41917297e-25,   1.52446569e-10,\n",
       "           3.18534647e-36,   1.07202785e-37],\n",
       "        [  1.00000000e+00,   4.48532952e-21,   6.60028787e-09,\n",
       "           7.13604722e-31,   2.59952230e-31],\n",
       "        [  9.98209357e-01,   1.50227194e-07,   1.79057801e-03,\n",
       "           2.19877061e-10,   6.64032579e-11],\n",
       "        ..., \n",
       "        [  1.00000000e+00,   4.09551611e-15,   7.18719617e-09,\n",
       "           7.22068841e-24,   2.26449820e-25],\n",
       "        [  1.00000000e+00,   0.00000000e+00,   1.38954555e-27,\n",
       "           0.00000000e+00,   0.00000000e+00],\n",
       "        [  9.99999881e-01,   2.14198759e-14,   1.04136355e-07,\n",
       "           2.08903272e-21,   1.89385908e-23]], dtype=float32),\n",
       " array([0, 0, 0, ..., 0, 0, 0], dtype=int32))"
      ]
     },
     "execution_count": 87,
     "metadata": {},
     "output_type": "execute_result"
    }
   ],
   "source": [
    "pred_prob, Y_test"
   ]
  },
  {
   "cell_type": "code",
   "execution_count": 29,
   "metadata": {
    "collapsed": false
   },
   "outputs": [
    {
     "data": {
      "text/plain": [
       "(10590,)"
      ]
     },
     "execution_count": 29,
     "metadata": {},
     "output_type": "execute_result"
    }
   ],
   "source": [
    "loss = np.zeros(len(Y_test))\n",
    "for i in range(len(Y_test)):\n",
    "    loss[i] = pred_prob[i,Y_test[i]]\n",
    "loss.shape"
   ]
  },
  {
   "cell_type": "code",
   "execution_count": 30,
   "metadata": {
    "collapsed": false
   },
   "outputs": [
    {
     "data": {
      "text/plain": [
       "(array([  386.,    97.,    84.,    59.,    72.,    80.,   102.,   154.,\n",
       "          220.,  9336.]),\n",
       " array([  1.14020393e-13,   1.00000000e-01,   2.00000000e-01,\n",
       "          3.00000000e-01,   4.00000000e-01,   5.00000000e-01,\n",
       "          6.00000000e-01,   7.00000000e-01,   8.00000000e-01,\n",
       "          9.00000000e-01,   1.00000000e+00]),\n",
       " <a list of 10 Patch objects>)"
      ]
     },
     "execution_count": 30,
     "metadata": {},
     "output_type": "execute_result"
    },
    {
     "data": {
      "image/png": "[encoded data removed]",
      "text/plain": [
       "<matplotlib.figure.Figure at 0xe2d54d0>"
      ]
     },
     "metadata": {},
     "output_type": "display_data"
    }
   ],
   "source": [
    "plt.hist(loss)"
   ]
  },
  {
   "cell_type": "code",
   "execution_count": 90,
   "metadata": {
    "collapsed": false
   },
   "outputs": [
    {
     "data": {
      "text/plain": [
       "194"
      ]
     },
     "execution_count": 90,
     "metadata": {},
     "output_type": "execute_result"
    }
   ],
   "source": [
    "loss < 0.01\n",
    "sum(loss < 0.01)"
   ]
  },
  {
   "cell_type": "code",
   "execution_count": 91,
   "metadata": {
    "collapsed": false
   },
   "outputs": [],
   "source": [
    "wrong = [loss < 0.01]"
   ]
  },
  {
   "cell_type": "code",
   "execution_count": 92,
   "metadata": {
    "collapsed": false
   },
   "outputs": [
    {
     "data": {
      "text/plain": [
       "array([2, 0, 2, 0, 2, 0, 0, 2, 2, 0, 0, 1, 0, 2, 0, 0, 2, 0, 0, 2, 2, 2, 2,\n",
       "       0, 2, 0, 0, 0, 2, 0, 0, 2, 2, 2, 0, 1, 2, 0, 2, 2, 0, 2, 2, 2, 0, 2,\n",
       "       2, 0, 0, 0, 2, 2, 0, 0, 2, 0, 2, 2, 2, 2, 0, 0, 2, 0, 0, 2, 0, 2, 2,\n",
       "       0, 2, 0, 2, 1, 0, 2, 2, 2, 2, 0, 1, 0, 2, 0, 0, 2, 2, 2, 2, 2, 0, 2,\n",
       "       0, 0, 0, 0, 2, 0, 1, 2, 2, 0, 0, 0, 2, 2, 2, 2, 0, 2, 0, 2, 0, 0, 0,\n",
       "       0, 2, 0, 0, 2, 0, 0, 0, 1, 2, 2, 0, 2, 0, 0, 0, 0, 2, 0, 2, 0, 2, 2,\n",
       "       2, 1, 0, 2, 2, 0, 0, 0, 0, 0, 0, 0, 0, 2, 0, 0, 0, 0, 2, 2, 0, 0, 2,\n",
       "       0, 2, 0, 0, 2, 2, 2, 2, 2, 2, 0, 2, 2, 0, 0, 2, 0, 2, 2, 0, 2, 1, 0,\n",
       "       2, 0, 0, 2, 0, 0, 0, 0, 0, 2], dtype=int32)"
      ]
     },
     "execution_count": 92,
     "metadata": {},
     "output_type": "execute_result"
    }
   ],
   "source": [
    "Y_test[wrong]"
   ]
  },
  {
   "cell_type": "code",
   "execution_count": 32,
   "metadata": {
    "collapsed": false
   },
   "outputs": [
    {
     "name": "stdout",
     "output_type": "stream",
     "text": [
      "total 3.1G\r\n",
      "drwxr-xr-x 62 dueo dueo  4.0K Jun  5 04:43 \u001b[0m\u001b[01;34mGBM\u001b[0m/\r\n",
      "-r--r--r--  1 dueo dueo  1.1G Jul 16 17:31 GBM.pickle\r\n",
      "-rw-r--r--  1 dueo dueo  9.1M Jul 17 16:12 GBM_sub.pickle\r\n",
      "-rw-r--r--  1 dueo dueo  8.9M Jul 20 14:01 GBM_tumors.pickle\r\n",
      "-rw-r--r--  1 dueo dueo  509M Jun 18 16:22 GBM.zip\r\n",
      "-rw-r--r--  1 dueo dueo  269K Jun 23 13:05 list_GBM.txt\r\n",
      "-rw-r--r--  1 dueo dueo  282K Jun 23 13:07 list_meta.txt\r\n",
      "-r--r--r--  1 dueo dueo 1003M Jul 17 14:01 META.pickle\r\n",
      "drwxr-xr-x 68 dueo dueo  4.0K Jun  5 05:26 \u001b[01;34mmetastasis\u001b[0m/\r\n",
      "-rw-r--r--  1 dueo dueo  455M Jun 18 16:21 metastasis.zip\r\n",
      "-rw-r--r--  1 dueo dueo  9.1M Jul 17 16:12 META_sub.pickle\r\n",
      "-rw-r--r--  1 dueo dueo  7.6M Jul 20 13:59 META_tumors.pickle\r\n"
     ]
    }
   ],
   "source": [
    "with open('Test.pickle', 'wb') as f:\n",
    "    pickle.dump((pred_prob, Y_test, loss, cell_rows_test), f, -1)\n",
    "%ls -lh"
   ]
  },
  {
   "cell_type": "code",
   "execution_count": 198,
   "metadata": {
    "collapsed": false
   },
   "outputs": [],
   "source": [
    "%load_ext rpy2.ipython\n",
    "%Rpush pred_prob\n",
    "%Rpush Y_test\n",
    "%Rpush loss\n",
    "%Rpush cell_rows_test"
   ]
  },
  {
   "cell_type": "code",
   "execution_count": 201,
   "metadata": {
    "collapsed": false
   },
   "outputs": [],
   "source": [
    "%%R\n",
    "save(pred_prob, Y_test, loss, cell_rows_test, file='Test.Rdata')"
   ]
  },
  {
   "cell_type": "code",
   "execution_count": 202,
   "metadata": {
    "collapsed": false
   },
   "outputs": [
    {
     "name": "stdout",
     "output_type": "stream",
     "text": [
      "total 8.5G\r\n",
      "-rw-r--r-- 1 dueo dueo  2.3G Jul 28 20:17 HCS_48x48.npz\r\n",
      "-rw-r--r-- 1 dueo dueo  2.6M Jul 29 20:43 net_aug_epoch42_91prec.pickle\r\n",
      "-rw-r--r-- 1 dueo dueo  2.6M Jul 29 21:13 net_aug_epoch69_92prec.pickle\r\n",
      "-rw-r--r-- 1 dueo dueo  5.2G Jul 29 21:17 HCS_72x72.npz\r\n",
      "-rw-r--r-- 1 dueo dueo  2.6M Jul 30 01:03 net_aug_epoch300_92prec.pickle\r\n",
      "-rw-r--r-- 1 dueo dueo  2.6M Jul 30 11:22 net_aug_epoch400_all_rot_92prec.pickle\r\n",
      "-rw-r--r-- 1 dueo dueo  3.2M Jul 30 12:23 HCS_72x72_small_32.npz\r\n",
      "-rw-r--r-- 1 dueo dueo 1010K Jul 30 13:10 FirstNetwork_dummy.ipynb\r\n",
      "-rw-r--r-- 1 dueo dueo  4.9M Jul 31 09:59 net_aug_epoch400_large_net.pickle\r\n",
      "-rw-r--r-- 1 dueo dueo   14M Jul 31 23:47 net_aug_epoch242_72x72large_net.pickle\r\n",
      "-rw-r--r-- 1 dueo dueo  3.9M Aug  1 13:34 net_aug_epoch800_48x48_all_rot_prec93.pickle\r\n",
      "-rw-r--r-- 1 dueo dueo   14M Aug  3 13:42 net_aug_epoch800_72x72large_net.pickle\r\n",
      "-rw-r--r-- 1 dueo dueo  4.9M Aug  6 10:39 net_PAPER_aug_epoch512_72x72large_net.pickle\r\n",
      "-rw-r--r-- 1 dueo dueo  928K Aug  7 14:06 FirstNetwork.ipynb\r\n",
      "-rw-r--r-- 1 dueo dueo   453 Aug 13 17:43 README.md\r\n",
      "-rw-r--r-- 1 dueo dueo    19 Aug 13 17:43 experiment.py\r\n",
      "-rw-r--r-- 1 dueo dueo   38K Sep 21 23:30 Traditional_Pipeline.ipynb\r\n",
      "-rw-r--r-- 1 dueo dueo  414K Oct  3 10:47 premutations.np.npy\r\n",
      "-rw-r--r-- 1 dueo dueo  1.7M Oct  3 11:15 DataHandling.ipynb\r\n",
      "-rw-r--r-- 1 dueo dueo  413K Oct  3 22:37 ComplexNetwork.ipynb\r\n",
      "-rw-r--r-- 1 dueo dueo   49K Oct  4 09:53 complex_network_no_aug.txt\r\n",
      "-rw-r--r-- 1 dueo dueo  1.1G Oct  4 10:12 HCS_Test_78x78.npz\r\n",
      "-rw-r--r-- 1 dueo dueo  335K Oct  4 10:28 PostTrainingAnalysis.ipynb\r\n",
      "-rw-r--r-- 1 dueo dueo  278K Oct  4 11:00 Test.Rdata\r\n"
     ]
    }
   ],
   "source": [
    "!ls -rtlh"
   ]
  },
  {
   "cell_type": "code",
   "execution_count": null,
   "metadata": {
    "collapsed": true
   },
   "outputs": [],
   "source": []
  }
 ],
 "metadata": {
  "kernelspec": {
   "display_name": "Python 2",
   "language": "python",
   "name": "python2"
  },
  "language_info": {
   "codemirror_mode": {
    "name": "ipython",
    "version": 2
   },
   "file_extension": ".py",
   "mimetype": "text/x-python",
   "name": "python",
   "nbconvert_exporter": "python",
   "pygments_lexer": "ipython2",
   "version": "2.7.3"
  }
 },
 "nbformat": 4,
 "nbformat_minor": 0
}
