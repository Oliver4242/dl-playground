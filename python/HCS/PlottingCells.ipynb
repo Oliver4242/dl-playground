{
 "cells": [
  {
   "cell_type": "markdown",
   "metadata": {},
   "source": [
    "#### Appending images \n",
    "http://apple.stackexchange.com/questions/52879/how-to-combine-two-images-into-one-on-a-mac\n",
    "```\n",
    "convert +append Wrong_0.png Wrong_1.png Wrong_2.png Wrong_3.png  Wrong.png\n",
    "```"
   ]
  },
  {
   "cell_type": "code",
   "execution_count": 1,
   "metadata": {
    "collapsed": false
   },
   "outputs": [],
   "source": [
    "import pickle\n",
    "import gzip\n",
    "import numpy as np\n",
    "import matplotlib.pyplot as plt\n",
    "import matplotlib.image as imgplot\n",
    "import time\n",
    " #%matplotlib inline"
   ]
  },
  {
   "cell_type": "code",
   "execution_count": 5,
   "metadata": {
    "collapsed": false
   },
   "outputs": [],
   "source": [
    "#with open('Test.pickle') as f:\n",
    "with open('Test_3Classes_NO_DMSO_Reviewer.pickle') as f:\n",
    "    (pred_prob, Y_test, loss, cell_rows_test) = pickle.load(f)"
   ]
  },
  {
   "cell_type": "code",
   "execution_count": 6,
   "metadata": {
    "collapsed": false
   },
   "outputs": [],
   "source": [
    "pred = np.argmax(pred_prob, axis=1)"
   ]
  },
  {
   "cell_type": "code",
   "execution_count": 7,
   "metadata": {
    "collapsed": false
   },
   "outputs": [
    {
     "data": {
      "text/plain": [
       "(2, 0)"
      ]
     },
     "execution_count": 7,
     "metadata": {},
     "output_type": "execute_result"
    }
   ],
   "source": [
    "pred.max(), pred.min()"
   ]
  },
  {
   "cell_type": "code",
   "execution_count": 8,
   "metadata": {
    "collapsed": false
   },
   "outputs": [
    {
     "data": {
      "text/plain": [
       "((2223,), (2223, 5, 72, 72), array([0, 0, 0, ..., 2, 2, 2], dtype=int32))"
      ]
     },
     "execution_count": 8,
     "metadata": {},
     "output_type": "execute_result"
    }
   ],
   "source": [
    "#npzfile = np.load('HCS_Test_78x78.npz') #The original data\n",
    "npzfile = np.load('HCS_Test_no_dmso_reviewer_78x78.npz')\n",
    "cell_rows_test = npzfile['arr_0']\n",
    "X_test = npzfile['arr_1']\n",
    "#Y_test = npzfile['arr_2']\n",
    "cell_rows_test.shape, X_test.shape, Y_test"
   ]
  },
  {
   "cell_type": "code",
   "execution_count": 8,
   "metadata": {
    "collapsed": false
   },
   "outputs": [
    {
     "data": {
      "text/plain": [
       "array([[ 0.,  0.,  0.,  0.,  0.],\n",
       "       [ 0.,  1.,  1.,  0.,  0.],\n",
       "       [ 0.,  1.,  1.,  0.,  0.],\n",
       "       [ 0.,  0.,  0.,  0.,  0.],\n",
       "       [ 0.,  0.,  0.,  0.,  0.]])"
      ]
     },
     "execution_count": 8,
     "metadata": {},
     "output_type": "execute_result"
    }
   ],
   "source": [
    "X = np.zeros((5,5))\n",
    "Y = np.ones((2,2))\n",
    "X[1:3,1:3] = Y\n",
    "X"
   ]
  },
  {
   "cell_type": "code",
   "execution_count": 71,
   "metadata": {
    "collapsed": false
   },
   "outputs": [],
   "source": [
    "def plotRows(idx, filename='foo.png', figsize=(14,14), offset=0):\n",
    "    fig = plt.figure(figsize=figsize)\n",
    "    #fig = plt.figure()\n",
    "    c = 0\n",
    "    for i in idx:#range(X_idx.shape[0]):\n",
    "        dd = X_test[i,:,:,:]\n",
    "        ddd = np.transpose(dd.reshape(5*72,72))\n",
    "        # Normalization of all channels\n",
    "        for j in range(5):\n",
    "            vals = ddd[:,(j*72):(j+1)*72]\n",
    "            qmin = np.percentile(vals,0.01)\n",
    "            qmax = np.percentile(vals,0.99)\n",
    "            ddd[:,(j*72):(j+1)*72] = (ddd[:,(j*72):(j+1)*72] - vals.mean())/(vals.max() - vals.min())\n",
    "        ax = fig.add_subplot(len(idx), 1, c+1)\n",
    "        ax.set_axis_off()\n",
    "        Y_true = Y_test[i]\n",
    "        #ax.title(\"T={},P={}, {:3f}\".format(Y_true, Y_pred_idx[i], pred_prob_idx[i, Y_true]),color='black')\n",
    "        #ax.text(3,12,\"T={},P={}, {:.2f}, {:.2f}\".format(Y_true, pred[i], pred_prob[i, Y_true], pred_prob[i,pred[i]]),color='black', bbox={'facecolor':'white', 'alpha':0.7, 'pad':2})\n",
    "        ax.text(3,12,\"T={},P={}, {:.2f}\".format(Y_true + offset, pred[i] + offset, pred_prob[i, Y_true]),color='black', bbox={'facecolor':'white', 'alpha':0.7, 'pad':2})\n",
    "        #ax.imshow(np.log(ddd), interpolation='nearest',cmap=plt.get_cmap('Greys'))\n",
    "        ax.imshow(-ddd, interpolation='nearest',cmap=plt.get_cmap('Greys'), )\n",
    "        c += 1\n",
    "    fig.subplots_adjust(hspace=0.0, wspace=-10.0)\n",
    "    plt.savefig(filename, bbox_inches='tight')"
   ]
  },
  {
   "cell_type": "code",
   "execution_count": 76,
   "metadata": {
    "collapsed": false
   },
   "outputs": [],
   "source": [
    "np.sum(loss < 0.5) #For the alternative approach, we have 60 missclassified cells\n",
    "idx_plot = np.where(loss < 0.5)[0]\n",
    "sort_num = +(1 + Y_test[idx_plot]) * 100 + pred[idx_plot] * 10 + loss[idx_plot]"
   ]
  },
  {
   "cell_type": "code",
   "execution_count": 77,
   "metadata": {
    "collapsed": false
   },
   "outputs": [
    {
     "data": {
      "text/plain": [
       "array([ 110.        ,  110.00840048,  110.00000026,  110.22730219,\n",
       "        110.00000004,  110.        ,  110.00000033,  110.00024491,\n",
       "        110.        ,  110.00001816,  110.48399144,  110.        ,\n",
       "        110.00048845,  110.30768335,  110.00587015,  110.02255269,\n",
       "        110.1442149 ,  110.01052515,  110.00875333,  110.        ,\n",
       "        110.01033576,  110.00720152,  110.00000384,  200.39684242,\n",
       "        200.18245268,  200.25814766,  200.01003701,  200.00224748,\n",
       "        200.00011931,  200.01875658,  200.10011734,  200.30588728,\n",
       "        200.33656314,  200.03017233,  200.4866457 ,  200.41113231,\n",
       "        200.11274619,  200.00311202,  200.05455409,  200.00000466,\n",
       "        200.00002045,  300.0000027 ,  300.00507932,  310.0000029 ,\n",
       "        110.00044734,  110.00236295,  110.00088876,  110.07637018,\n",
       "        110.33603334,  200.03236751,  200.07137002,  200.00717266,\n",
       "        120.00000018,  110.        ,  110.00090927,  200.09087134,\n",
       "        200.00085842,  200.00000543,  200.25094056,  200.1518227 ])"
      ]
     },
     "execution_count": 77,
     "metadata": {},
     "output_type": "execute_result"
    }
   ],
   "source": [
    "sort_num"
   ]
  },
  {
   "cell_type": "code",
   "execution_count": 78,
   "metadata": {
    "collapsed": false
   },
   "outputs": [],
   "source": [
    "d = np.argsort(sort_num)\n",
    "idx_plot_sorted = np.zeros_like(idx_plot)\n",
    "c = 0\n",
    "for idx in d:\n",
    "    idx_plot_sorted[c] = idx_plot[idx]\n",
    "    c += 1"
   ]
  },
  {
   "cell_type": "code",
   "execution_count": 79,
   "metadata": {
    "collapsed": false
   },
   "outputs": [],
   "source": [
    "for i in range(4):\n",
    "    plotRows(idx_plot_sorted[i*15:(i+1)*15], filename='Wrong_{}'.format(i), offset=1)"
   ]
  },
  {
   "cell_type": "code",
   "execution_count": 20,
   "metadata": {
    "collapsed": false
   },
   "outputs": [],
   "source": [
    "# Figure S1 Examples of phenotypes form cells\n",
    "idx_0 = np.where(Y_test == 0)[0][10:15]\n",
    "idx_1 = np.where(Y_test == 1)[0][90:95]\n",
    "idx_2 = np.where(Y_test == 2)[0][10:15]\n",
    "idx_3 = np.where(Y_test == 3)[0][6:11]\n",
    "plotRows(np.append(idx_0, idx_1),filename='True_01.png')\n",
    "plotRows(np.append(idx_2, idx_3),filename='True_23.png')"
   ]
  },
  {
   "cell_type": "code",
   "execution_count": 25,
   "metadata": {
    "collapsed": false
   },
   "outputs": [],
   "source": [
    "#np.where(Y_test == 0 and loss < 0.5)\n",
    "#(loss < 0.5) and \n",
    "idx_0 = np.where((Y_test == 0) & (loss < 0.5))[0][0:5]\n",
    "idx_1 = np.where((Y_test == 1) & (loss < 0.5))[0][0:5]\n",
    "idx_2 = np.where((Y_test == 2) & (loss < 0.5))[0][0:9]\n",
    "idx_3 = np.where((Y_test == 3) & (loss < 0.5))[0][0:1]\n",
    "plotRows(np.append(idx_0, idx_1),filename='Wrong_01.png')\n",
    "plotRows(np.append(idx_2, idx_3),filename='Wrong_23.png')"
   ]
  }
 ],
 "metadata": {
  "kernelspec": {
   "display_name": "Python 2",
   "language": "python",
   "name": "python2"
  },
  "language_info": {
   "codemirror_mode": {
    "name": "ipython",
    "version": 2
   },
   "file_extension": ".py",
   "mimetype": "text/x-python",
   "name": "python",
   "nbconvert_exporter": "python",
   "pygments_lexer": "ipython2",
   "version": "2.7.10"
  }
 },
 "nbformat": 4,
 "nbformat_minor": 0
}
