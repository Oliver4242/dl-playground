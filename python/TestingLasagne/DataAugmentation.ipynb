{
 "cells": [
  {
   "cell_type": "markdown",
   "metadata": {},
   "source": [
    "### Manipulating the training data on the fly\n",
    "What is real cool in Lasagne is the ability to easily manipulate the training (and test-data) on the fly. This often done in a random fashion by applying transformations under which the objects are invariant. All winners of competitions do a **clever** data augmentation. So let's give it a try... \n",
    "\n",
    "#### BatchIterator the point of entry\n",
    "To do so one has to overwrite a BatchIterator and implement our own transform method. In the following, we simply flip the image on the y-axis, but in principle quite complex operations using cv2 or other libraries are possible.\n",
    "\n",
    "#### Flipping\n",
    "For the non-python freaks as me a short reminder that flipping can be done as follows:"
   ]
  },
  {
   "cell_type": "code",
   "execution_count": 1,
   "metadata": {
    "collapsed": false
   },
   "outputs": [
    {
     "data": {
      "text/plain": [
       "(4, 3, 2, 1)"
      ]
     },
     "execution_count": 1,
     "metadata": {},
     "output_type": "execute_result"
    }
   ],
   "source": [
    "a = (1,2,3,4)\n",
    "a[::-1]"
   ]
  },
  {
   "cell_type": "markdown",
   "metadata": {},
   "source": [
    "#### Loading the data\n",
    "We load the net and data from the last session via the import."
   ]
  },
  {
   "cell_type": "code",
   "execution_count": 2,
   "metadata": {
    "collapsed": false
   },
   "outputs": [
    {
     "name": "stdout",
     "output_type": "stream",
     "text": [
      "Couldn't import dot_parser, loading of dot files will not be possible.\n",
      "Loaded data\n",
      "Shape of X (70000, 784)\n",
      "  Min / Max X 0.0 0.996094\n",
      "Shape of Y (70000,)\n",
      "  Min / Max Y 0 9\n",
      "After Batchnormalization Min / Max X / Mean -1.2488 / 66.487 / 8.03533e-10\n",
      "Loaded pixels\n"
     ]
    },
    {
     "name": "stderr",
     "output_type": "stream",
     "text": [
      "Using gpu device 1: GeForce GTX 780\n"
     ]
    },
    {
     "data": {
      "text/plain": [
       "(70000, 1, 28, 28)"
      ]
     },
     "execution_count": 2,
     "metadata": {},
     "output_type": "execute_result"
    }
   ],
   "source": [
    "#We load the net and the data from the last example\n",
    "from SimpleNet import net1,X,y \n",
    "X.shape"
   ]
  },
  {
   "cell_type": "markdown",
   "metadata": {},
   "source": [
    "Fitting the model, with the standard BatchIterator which does not do on the fly manipulations."
   ]
  },
  {
   "cell_type": "code",
   "execution_count": 3,
   "metadata": {
    "collapsed": false
   },
   "outputs": [
    {
     "name": "stdout",
     "output_type": "stream",
     "text": [
      "  InputLayer        \t(None, 1, 28, 28)   \tproduces     784 outputs\n",
      "  Conv2DLayer       \t(None, 32, 26, 26)  \tproduces   21632 outputs\n",
      "  MaxPool2DLayer    \t(None, 32, 13, 13)  \tproduces    5408 outputs\n",
      "  Conv2DLayer       \t(None, 64, 12, 12)  \tproduces    9216 outputs\n",
      "  MaxPool2DLayer    \t(None, 64, 6, 6)    \tproduces    2304 outputs\n",
      "  DenseLayer        \t(None, 500)         \tproduces     500 outputs\n",
      "  DenseLayer        \t(None, 10)          \tproduces      10 outputs\n",
      "\n",
      " Epoch  |  Train loss  |  Valid loss  |  Train / Val  |  Valid acc  |  Dur\n",
      "--------|--------------|--------------|---------------|-------------|-------\n",
      "     1  |  \u001b[94m  2.254012\u001b[0m  |  \u001b[32m  2.129219\u001b[0m  |     1.058610  |     40.93%  |  0.2s\n",
      "     2  |  \u001b[94m  1.936433\u001b[0m  |  \u001b[32m  1.697138\u001b[0m  |     1.140999  |     58.33%  |  0.2s\n",
      "     3  |  \u001b[94m  1.331079\u001b[0m  |  \u001b[32m  1.016569\u001b[0m  |     1.309384  |     73.01%  |  0.2s\n",
      "     4  |  \u001b[94m  0.757213\u001b[0m  |  \u001b[32m  0.717663\u001b[0m  |     1.055110  |     81.93%  |  0.2s\n",
      "     5  |  \u001b[94m  0.477344\u001b[0m  |  \u001b[32m  0.679934\u001b[0m  |     0.702045  |     80.61%  |  0.2s\n",
      "     6  |  \u001b[94m  0.357031\u001b[0m  |  \u001b[32m  0.678339\u001b[0m  |     0.526331  |     81.27%  |  0.2s\n",
      "     7  |  \u001b[94m  0.281124\u001b[0m  |  \u001b[32m  0.587031\u001b[0m  |     0.478892  |     84.81%  |  0.2s\n",
      "     8  |  \u001b[94m  0.234255\u001b[0m  |  \u001b[32m  0.578769\u001b[0m  |     0.404747  |     85.46%  |  0.2s\n",
      "     9  |  \u001b[94m  0.198263\u001b[0m  |  \u001b[32m  0.510774\u001b[0m  |     0.388161  |     86.51%  |  0.2s\n",
      "    10  |  \u001b[94m  0.163211\u001b[0m  |    0.533477  |     0.305939  |     85.73%  |  0.2s\n"
     ]
    }
   ],
   "source": [
    "d = net1.fit(X[0:1000,:,:,:],y[0:1000]); #Training with the "
   ]
  },
  {
   "cell_type": "markdown",
   "metadata": {},
   "source": [
    "#### Custom BatchIterator\n",
    "Now we create our own BatchIterator which does the flipping around the x-axis."
   ]
  },
  {
   "cell_type": "code",
   "execution_count": 4,
   "metadata": {
    "collapsed": false
   },
   "outputs": [
    {
     "name": "stdout",
     "output_type": "stream",
     "text": [
      "  InputLayer        \t(None, 1, 28, 28)   \tproduces     784 outputs\n",
      "  Conv2DLayer       \t(None, 32, 26, 26)  \tproduces   21632 outputs\n",
      "  MaxPool2DLayer    \t(None, 32, 13, 13)  \tproduces    5408 outputs\n",
      "  Conv2DLayer       \t(None, 64, 12, 12)  \tproduces    9216 outputs\n",
      "  MaxPool2DLayer    \t(None, 64, 6, 6)    \tproduces    2304 outputs\n",
      "  DenseLayer        \t(None, 500)         \tproduces     500 outputs\n",
      "  DenseLayer        \t(None, 10)          \tproduces      10 outputs\n",
      "\n",
      " Epoch  |  Train loss  |  Valid loss  |  Train / Val  |  Valid acc  |  Dur\n",
      "--------|--------------|--------------|---------------|-------------|-------\n",
      "     1  |  \u001b[94m  1.220050\u001b[0m  |  \u001b[32m  1.467812\u001b[0m  |     0.831203  |     54.71%  |  0.4s\n",
      "     2  |  \u001b[94m  0.286907\u001b[0m  |    1.958746  |     0.146475  |     49.61%  |  0.4s\n",
      "     3  |  \u001b[94m  0.127747\u001b[0m  |    2.676057  |     0.047737  |     40.71%  |  0.4s\n",
      "     4  |  \u001b[94m  0.072940\u001b[0m  |    3.292909  |     0.022151  |     40.19%  |  0.4s\n",
      "     5  |  \u001b[94m  0.033829\u001b[0m  |    3.380977  |     0.010006  |     46.22%  |  0.4s\n",
      "     6  |  \u001b[94m  0.014148\u001b[0m  |    3.644213  |     0.003882  |     48.83%  |  0.4s\n",
      "     7  |  \u001b[94m  0.003096\u001b[0m  |    3.887781  |     0.000796  |     47.90%  |  0.4s\n",
      "     8  |  \u001b[94m  0.001374\u001b[0m  |    4.037921  |     0.000340  |     47.51%  |  0.4s\n",
      "     9  |  \u001b[94m  0.000963\u001b[0m  |    4.144650  |     0.000232  |     47.51%  |  0.4s\n",
      "    10  |  \u001b[94m  0.000746\u001b[0m  |    4.233318  |     0.000176  |     47.51%  |  0.4s\n"
     ]
    }
   ],
   "source": [
    "from nolearn.lasagne import BatchIterator\n",
    "\n",
    "class SimpleBatchIterator(BatchIterator):\n",
    "\n",
    "    def transform(self, Xb, yb):\n",
    "        # The 'incomming' and outcomming shape is (10, 1, 28, 28)\n",
    "        Xb, yb = super(SimpleBatchIterator, self).transform(Xb, yb)\n",
    "        return Xb[:,:,:,::-1], yb #<--- Here we do the flipping of the images\n",
    "\n",
    "# Setting the new batch iterator\n",
    "net1.batch_iterator_train = SimpleBatchIterator(batch_size=10)\n",
    "d = net1.fit(X[0:1000,:,:,:],y[0:1000])\n"
   ]
  },
  {
   "cell_type": "markdown",
   "metadata": {},
   "source": [
    "We also see that it takes a bit longer (0.4 sec), which is strange since in theory the flipping should be done on the CPU while the GPU is buisy doing the fitting. Maybe the network is not big enough to keep the GPU buissy? Anyway.\n",
    "\n",
    "The second observation is that the performance drops from approx 80% to approx 40%. The reason is that maybe its not such a good idea to flip the training data in the first place. Any idea why?"
   ]
  },
  {
   "cell_type": "code",
   "execution_count": 6,
   "metadata": {
    "collapsed": false,
    "scrolled": true
   },
   "outputs": [
    {
     "data": {
      "image/png": "[encoded data removed]",
      "text/plain": [
       "<matplotlib.figure.Figure at 0x4a0add0>"
      ]
     },
     "metadata": {},
     "output_type": "display_data"
    }
   ],
   "source": [
    "%matplotlib inline\n",
    "import matplotlib.pyplot as plt\n",
    "import matplotlib.image as imgplot\n",
    "fig = plt.figure()\n",
    "for i in range(10):\n",
    "    a=fig.add_subplot(1,20,2*i+1,xticks=[], yticks=[])\n",
    "    plt.imshow(X[i,0,:,:], cmap=plt.get_cmap('gray'))\n",
    "    a=fig.add_subplot(1,20,2*i+2,xticks=[], yticks=[])\n",
    "    plt.imshow(X[i,0,:,::-1], cmap=plt.get_cmap('gray'))    "
   ]
  },
  {
   "cell_type": "markdown",
   "metadata": {},
   "source": [
    "**Maybe we should do a more clever data augmentation next time...** At least we have the toolbox ready."
   ]
  },
  {
   "cell_type": "markdown",
   "metadata": {},
   "source": [
    "If overwritting the `transform` method is not sufficient, one might even overwrite the `__iter__` method in the BatchIterator."
   ]
  }
 ],
 "metadata": {
  "kernelspec": {
   "display_name": "Python 2",
   "language": "python",
   "name": "python2"
  },
  "language_info": {
   "codemirror_mode": {
    "name": "ipython",
    "version": 2
   },
   "file_extension": ".py",
   "mimetype": "text/x-python",
   "name": "python",
   "nbconvert_exporter": "python",
   "pygments_lexer": "ipython2",
   "version": "2.7.3"
  }
 },
 "nbformat": 4,
 "nbformat_minor": 0
}
