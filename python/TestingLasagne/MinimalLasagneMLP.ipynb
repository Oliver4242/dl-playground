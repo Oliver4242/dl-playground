{
 "cells": [
  {
   "cell_type": "markdown",
   "metadata": {},
   "source": [
    "# Minimal lasagne (multilayer percetron)\n",
    "In this script, we build a small Multilayer Percetron with two hidden layers each having 500 and 50 neurons. But first we have to load the data.\n",
    "\n",
    "\n",
    "## Loading of the data\n",
    "The python script [load_mnist.py](load_mnist.py) contains functions to load the mnist data. The data is taken from http://deeplearning.net/data/mnist/mnist.pkl.gz. Basically the all images should be provided in a 4-dimensional array X with the following dimensions (number of images, number of colors, x, y) and the labels in a vector y of same size. So X[1,0,1,2] would be the image number 1, the color chanel 0 and the pixel x = 1 and y=2. "
   ]
  },
  {
   "cell_type": "code",
   "execution_count": 57,
   "metadata": {
    "collapsed": false
   },
   "outputs": [],
   "source": [
    "%matplotlib inline\n",
    "import numpy as np\n",
    "import matplotlib.pyplot as plt\n",
    "import matplotlib.image as imgplot\n",
    "from load_mnist import load_data_2d"
   ]
  },
  {
   "cell_type": "code",
   "execution_count": 58,
   "metadata": {
    "collapsed": false
   },
   "outputs": [
    {
     "name": "stdout",
     "output_type": "stream",
     "text": [
      "Loaded data\n",
      "After Batchnormalization (z-Trafo) Min / Max X / Mean -1.2488 / 66.487 / 8.03533e-10\n"
     ]
    }
   ],
   "source": [
    "X,y,PIXELS = load_data_2d('../../data/mnist.pkl.gz')"
   ]
  },
  {
   "cell_type": "markdown",
   "metadata": {},
   "source": [
    "X contains the images and y contains the labels."
   ]
  },
  {
   "cell_type": "code",
   "execution_count": 62,
   "metadata": {
    "collapsed": false
   },
   "outputs": [
    {
     "data": {
      "text/plain": [
       "((70000, 1, 28, 28), (70000,))"
      ]
     },
     "execution_count": 62,
     "metadata": {},
     "output_type": "execute_result"
    }
   ],
   "source": [
    "X.shape,y.shape"
   ]
  },
  {
   "cell_type": "markdown",
   "metadata": {},
   "source": [
    "The data is normalized so that each pixel has mean 0 and sd close to 1 using \n",
    "(X-Xmean)/(XStd + 0.01)"
   ]
  },
  {
   "cell_type": "code",
   "execution_count": 60,
   "metadata": {
    "collapsed": false
   },
   "outputs": [
    {
     "data": {
      "text/plain": [
       "(0.046298616, 0.0, 0.0, 0.95541364)"
      ]
     },
     "execution_count": 60,
     "metadata": {},
     "output_type": "execute_result"
    }
   ],
   "source": [
    "np.mean(X[0,0,:,:]),np.mean(X[:,0,1,1]),np.mean(X[:,0,2,1]),np.var(X[:,0,10,10])"
   ]
  },
  {
   "cell_type": "markdown",
   "metadata": {},
   "source": [
    "##### Let s plot the first few images and label\n"
   ]
  },
  {
   "cell_type": "code",
   "execution_count": 29,
   "metadata": {
    "collapsed": false
   },
   "outputs": [
    {
     "data": {
      "text/plain": [
       "array([5, 0, 4, 1, 9, 2, 1, 3, 1, 4], dtype=int32)"
      ]
     },
     "execution_count": 29,
     "metadata": {},
     "output_type": "execute_result"
    }
   ],
   "source": [
    "y[0:10]"
   ]
  },
  {
   "cell_type": "code",
   "execution_count": 63,
   "metadata": {
    "collapsed": false,
    "scrolled": true
   },
   "outputs": [
    {
     "data": {
      "image/png": "[encoded data removed]",
      "text/plain": [
       "<matplotlib.figure.Figure at 0x7f863e4f4490>"
      ]
     },
     "metadata": {},
     "output_type": "display_data"
    }
   ],
   "source": [
    "fig = plt.figure(figsize=(10,30))\n",
    "for i in range(3):\n",
    "    a=fig.add_subplot(1,3,(i+1))\n",
    "    plt.imshow(X[i,0,:,:], interpolation='none',cmap=plt.get_cmap('gray'))"
   ]
  },
  {
   "cell_type": "markdown",
   "metadata": {},
   "source": [
    "### Our first Simple Network\n",
    "Now since we have loaded our data. Let's train a network with it. First we load the necessary libraries and then simply build our network. \n",
    "#### Definition of the network\n",
    "There are serveral ways to define a network. We do the easiest using `NeuralNet` from `nolearn.lasagne`. "
   ]
  },
  {
   "cell_type": "code",
   "execution_count": 68,
   "metadata": {
    "collapsed": false
   },
   "outputs": [],
   "source": [
    "from lasagne import layers\n",
    "from lasagne import nonlinearities\n",
    "from nolearn.lasagne import NeuralNet\n",
    "\n",
    "net1 = NeuralNet(\n",
    "    # Geometry of the network\n",
    "    layers=[\n",
    "        ('input', layers.InputLayer),\n",
    "        ('hidden1', layers.DenseLayer),\n",
    "        ('hidden2', layers.DenseLayer),\n",
    "        ('output', layers.DenseLayer),\n",
    "        ],\n",
    "    input_shape=(None, 1, PIXELS, PIXELS), #None in the first axis indicates that the batch size can be set later\n",
    "    hidden1_num_units=500,\n",
    "    hidden2_num_units=50,\n",
    "    output_num_units=10, output_nonlinearity=nonlinearities.softmax,\n",
    "\n",
    "    # learning rate parameters\n",
    "    update_learning_rate=0.01,\n",
    "    update_momentum=0.9,\n",
    "    regression=False,\n",
    "    # We only train for 10 epochs\n",
    "    max_epochs=10,\n",
    "    verbose=1,\n",
    "\n",
    "    # Training test-set split\n",
    "    eval_size = 0.2\n",
    "    )"
   ]
  },
  {
   "cell_type": "markdown",
   "metadata": {},
   "source": [
    "####Training of the net. \n",
    "Note that the data is split automatically into 80% Training and 20% Testset. We don't have to take care about this. Since it takes quite a while to finish an epoch (at least with a CPU), we reduce the data to 1000 samples (800 training and 200 testing). Note also that the geometry makes sense the first 3x3 convolution knocks off 2 pixels from the 28x28 images resulting in 26x26 images. Then the maxpooling with size 2x2 reduces these images to 13x13 pixels..."
   ]
  },
  {
   "cell_type": "code",
   "execution_count": 69,
   "metadata": {
    "collapsed": false,
    "scrolled": true
   },
   "outputs": [
    {
     "name": "stdout",
     "output_type": "stream",
     "text": [
      "  InputLayer        \t(None, 1, 28, 28)   \tproduces     784 outputs\n",
      "  DenseLayer        \t(None, 500)         \tproduces     500 outputs\n",
      "  DenseLayer        \t(None, 50)          \tproduces      50 outputs\n",
      "  DenseLayer        \t(None, 10)          \tproduces      10 outputs\n",
      "\n",
      " Epoch  |  Train loss  |  Valid loss  |  Train / Val  |  Valid acc  |  Dur\n",
      "--------|--------------|--------------|---------------|-------------|-------\n",
      "     1  |  \u001b[94m  2.184191\u001b[0m  |  \u001b[32m  1.741364\u001b[0m  |     1.254299  |     49.94%  |  0.0s\n",
      "     2  |  \u001b[94m  1.219264\u001b[0m  |  \u001b[32m  1.134505\u001b[0m  |     1.074710  |     67.35%  |  0.0s\n",
      "     3  |  \u001b[94m  0.671718\u001b[0m  |  \u001b[32m  0.781049\u001b[0m  |     0.860020  |     76.01%  |  0.0s\n",
      "     4  |  \u001b[94m  0.415480\u001b[0m  |  \u001b[32m  0.626234\u001b[0m  |     0.663458  |     79.03%  |  0.0s\n",
      "     5  |  \u001b[94m  0.291646\u001b[0m  |  \u001b[32m  0.557194\u001b[0m  |     0.523419  |     82.44%  |  0.0s\n",
      "     6  |  \u001b[94m  0.218656\u001b[0m  |  \u001b[32m  0.515269\u001b[0m  |     0.424353  |     83.49%  |  0.0s\n",
      "     7  |  \u001b[94m  0.169491\u001b[0m  |  \u001b[32m  0.486289\u001b[0m  |     0.348540  |     84.42%  |  0.0s\n",
      "     8  |  \u001b[94m  0.134978\u001b[0m  |  \u001b[32m  0.467766\u001b[0m  |     0.288560  |     84.81%  |  0.0s\n",
      "     9  |  \u001b[94m  0.110220\u001b[0m  |  \u001b[32m  0.455535\u001b[0m  |     0.241957  |     85.20%  |  0.0s\n",
      "    10  |  \u001b[94m  0.091889\u001b[0m  |  \u001b[32m  0.446672\u001b[0m  |     0.205718  |     85.20%  |  0.0s\n"
     ]
    }
   ],
   "source": [
    "net = net1.fit(X[0:1000,:,:,:],y[0:1000])"
   ]
  },
  {
   "cell_type": "markdown",
   "metadata": {},
   "source": [
    "We have a trained classifier with which we can make predictions."
   ]
  },
  {
   "cell_type": "markdown",
   "metadata": {},
   "source": [
    "### Evaluate the model\n",
    "We now make predictions on unseen data. We have trained only on the images 0-1000 so let's take the images 1001 to 1011 and do a prediction."
   ]
  },
  {
   "cell_type": "code",
   "execution_count": 74,
   "metadata": {
    "collapsed": false
   },
   "outputs": [
    {
     "data": {
      "text/plain": [
       "array([7, 1, 1, 9, 4, 4, 3, 4, 8, 2])"
      ]
     },
     "execution_count": 74,
     "metadata": {},
     "output_type": "execute_result"
    }
   ],
   "source": [
    "toTest = range(1001,1011)\n",
    "preds = net1.predict(X[toTest,:,:,:])\n",
    "preds"
   ]
  },
  {
   "cell_type": "markdown",
   "metadata": {},
   "source": [
    "Let's look at the correponding images."
   ]
  },
  {
   "cell_type": "code",
   "execution_count": 76,
   "metadata": {
    "collapsed": false
   },
   "outputs": [
    {
     "data": {
      "image/png": "[encoded data removed]",
      "text/plain": [
       "<matplotlib.figure.Figure at 0x7ea5250>"
      ]
     },
     "metadata": {},
     "output_type": "display_data"
    }
   ],
   "source": [
    "fig = plt.figure(figsize=(10,100))\n",
    "for i,num in enumerate(toTest):\n",
    "    a=fig.add_subplot(1,10,(i+1)) #NB the one based API sucks!\n",
    "    a.set_title(str(y[num]) + \" / \" + str(preds[i]))\n",
    "    plt.imshow(X[num,0,:,:], interpolation='none',cmap=plt.get_cmap('gray'))"
   ]
  }
 ],
 "metadata": {
  "kernelspec": {
   "display_name": "Python 2",
   "language": "python",
   "name": "python2"
  },
  "language_info": {
   "codemirror_mode": {
    "name": "ipython",
    "version": 2
   },
   "file_extension": ".py",
   "mimetype": "text/x-python",
   "name": "python",
   "nbconvert_exporter": "python",
   "pygments_lexer": "ipython2",
   "version": "2.7.3"
  }
 },
 "nbformat": 4,
 "nbformat_minor": 0
}
