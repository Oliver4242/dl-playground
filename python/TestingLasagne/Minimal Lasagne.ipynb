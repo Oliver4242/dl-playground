{
 "cells": [
  {
   "cell_type": "markdown",
   "metadata": {},
   "source": [
    "# Minimal Lasagne\n",
    "The python script [load_mnist.py](load_mnist.py) contains functions to load the mnist data. The data is taken from http://deeplearning.net/data/mnist/mnist.pkl.gz. Basically the all images should be provided in a 4-dimensional array X with the following dimensions (number of images, number of colors, x, y) and the labels in a vector y of same size. So X[1,0,1,2] would be the image number 1, the color chanel 0 and the pixel x = 1 and y=2."
   ]
  },
  {
   "cell_type": "code",
   "execution_count": 1,
   "metadata": {},
   "outputs": [
    {
     "name": "stdout",
     "output_type": "stream",
     "text": [
      "Couldn't import dot_parser, loading of dot files will not be possible.\n"
     ]
    },
    {
     "name": "stderr",
     "output_type": "stream",
     "text": [
      "Using gpu device 1: GeForce GTX 780\n"
     ]
    }
   ],
   "source": [
    "%matplotlib inline\n",
    "import matplotlib.pyplot as plt\n",
    "import matplotlib.image as imgplot\n",
    "from load_mnist import load_data_2d"
   ]
  },
  {
   "cell_type": "code",
   "execution_count": 2,
   "metadata": {},
   "outputs": [
    {
     "name": "stdout",
     "output_type": "stream",
     "text": [
      "Loaded data\n",
      "Shape of X (70000, 784)\n",
      "  Min / Max X 0.0 0.996094\n",
      "Shape of Y (70000,)\n",
      "  Min / Max Y 0 9\n",
      "After Batchnormalization Min / Max X / Mean -1.2488 / 66.487 / 8.03533e-10\n"
     ]
    }
   ],
   "source": [
    "X,y,PIXELS = load_data_2d('../../data/mnist.pkl.gz')"
   ]
  },
  {
   "cell_type": "markdown",
   "metadata": {},
   "source": [
    "X contains the images and y contains the labels."
   ]
  },
  {
   "cell_type": "code",
   "execution_count": 3,
   "metadata": {},
   "outputs": [
    {
     "data": {
      "text/plain": [
       "(70000, 1, 28, 28)"
      ]
     },
     "execution_count": 3,
     "output_type": "execute_result",
     "metadata": {}
    }
   ],
   "source": [
    "X.shape"
   ]
  },
  {
   "cell_type": "code",
   "execution_count": 4,
   "metadata": {},
   "outputs": [
    {
     "data": {
      "text/plain": [
       "(70000,)"
      ]
     },
     "execution_count": 4,
     "output_type": "execute_result",
     "metadata": {}
    }
   ],
   "source": [
    "y.shape"
   ]
  },
  {
   "cell_type": "markdown",
   "metadata": {},
   "source": [
    "##### Let s plot the first few images and label\n"
   ]
  },
  {
   "cell_type": "code",
   "execution_count": 5,
   "metadata": {},
   "outputs": [
    {
     "data": {
      "text/plain": [
       "array([5, 0, 4, 1, 9, 2, 1, 3, 1, 4], dtype=int32)"
      ]
     },
     "execution_count": 5,
     "output_type": "execute_result",
     "metadata": {}
    }
   ],
   "source": [
    "y[0:10]"
   ]
  },
  {
   "cell_type": "code",
   "execution_count": 6,
   "metadata": {},
   "outputs": [
    {
     "data": {
      "image/png": "[encoded data removed]"
     },
     "output_type": "display_data",
     "metadata": {}
    }
   ],
   "source": [
    "fig = plt.figure()\n",
    "for i in range(10):\n",
    "    a=fig.add_subplot(1,10,i)\n",
    "    plt.imshow(X[i,0,:,:], cmap=plt.get_cmap('gray'))"
   ]
  },
  {
   "cell_type": "markdown",
   "metadata": {},
   "source": [
    "### Our first Simple Network\n",
    "Now since we have loaded our data. Let's train a network with it. First we load the necessary libraries and then simply build our network. \n",
    "#### Definition of the network"
   ]
  },
  {
   "cell_type": "code",
   "execution_count": 7,
   "metadata": {},
   "outputs": [],
   "source": [
    "from lasagne import layers\n",
    "from lasagne import nonlinearities\n",
    "from nolearn.lasagne import BatchIterator\n",
    "from lasagne import nonlinearities\n",
    "from nolearn.lasagne import NeuralNet\n",
    "\n",
    "net1 = NeuralNet(\n",
    "    # Geometry of the network\n",
    "    layers=[\n",
    "        ('input', layers.InputLayer),\n",
    "        ('conv1', layers.Conv2DLayer),\n",
    "        ('pool1', layers.MaxPool2DLayer),\n",
    "        ('conv2', layers.Conv2DLayer),\n",
    "        ('pool2', layers.MaxPool2DLayer),\n",
    "        ('hidden4', layers.DenseLayer),\n",
    "        ('output', layers.DenseLayer),\n",
    "        ],\n",
    "    input_shape=(None, 1, PIXELS, PIXELS),\n",
    "    conv1_num_filters=32, conv1_filter_size=(3, 3), pool1_ds=(2, 2),\n",
    "    conv2_num_filters=64, conv2_filter_size=(2, 2), pool2_ds=(2, 2),\n",
    "    hidden4_num_units=500,\n",
    "    output_num_units=10, output_nonlinearity=nonlinearities.softmax,\n",
    "\n",
    "    # learning rate parameters\n",
    "    update_learning_rate=0.01,\n",
    "    update_momentum=0.9,\n",
    "    regression=False,\n",
    "    # We only train for 10 epochs\n",
    "    max_epochs=10,\n",
    "    verbose=1,\n",
    "\n",
    "    # Training test-set split\n",
    "    eval_size = 0.2\n",
    "    )"
   ]
  },
  {
   "cell_type": "markdown",
   "metadata": {},
   "source": [
    "####Training of the net. \n",
    "Note that the data is split automatically into 80% Training and 20% Testset. We don't have to take care about this. Since it takes quite a while to finish an epoch (at least with a CPU), we reduce the data to 1000 samples (800 training and 200 testing)."
   ]
  },
  {
   "cell_type": "code",
   "execution_count": 8,
   "metadata": {},
   "outputs": [
    {
     "name": "stdout",
     "output_type": "stream",
     "text": [
      "  InputLayer        \t(None, 1, 28, 28)   \tproduces     784 outputs\n",
      "  Conv2DLayer       \t(None, 32, 26, 26)  \tproduces   21632 outputs\n",
      "  MaxPool2DLayer    \t(None, 32, 13, 13)  \tproduces    5408 outputs\n",
      "  Conv2DLayer       \t(None, 64, 12, 12)  \tproduces    9216 outputs\n",
      "  MaxPool2DLayer    \t(None, 64, 6, 6)    \tproduces    2304 outputs\n",
      "  DenseLayer        \t(None, 500)         \tproduces     500 outputs\n",
      "  DenseLayer        \t(None, 10)          \tproduces      10 outputs\n",
      "\n",
      " Epoch  |  Train loss  |  Valid loss  |  Train / Val  |  Valid acc  |  Dur\n",
      "--------|--------------|--------------|---------------|-------------|-------\n",
      "     1  |  \u001b[94m  2.267661\u001b[0m  |  \u001b[32m  2.140025\u001b[0m  |     1.059643  |     41.96%  |  0.2s\n",
      "     2  |  \u001b[94m  1.922303\u001b[0m  |  \u001b[32m  1.718920\u001b[0m  |     1.118320  |     48.13%  |  0.2s\n",
      "     3  |  \u001b[94m  1.324206\u001b[0m  |  \u001b[32m  1.086232\u001b[0m  |     1.219082  |     69.86%  |  0.2s\n",
      "     4  |  \u001b[94m  0.795069\u001b[0m  |  \u001b[32m  0.772022\u001b[0m  |     1.029853  |     74.98%  |  0.2s\n",
      "     5  |  \u001b[94m  0.514836\u001b[0m  |  \u001b[32m  0.675159\u001b[0m  |     0.762540  |     82.05%  |  0.2s\n",
      "     6  |  \u001b[94m  0.376897\u001b[0m  |    0.693317  |     0.543613  |     81.00%  |  0.2s\n",
      "     7  |  \u001b[94m  0.292085\u001b[0m  |  \u001b[32m  0.610746\u001b[0m  |     0.478242  |     84.15%  |  0.2s\n",
      "     8  |  \u001b[94m  0.239614\u001b[0m  |    0.618545  |     0.387383  |     86.51%  |  0.2s\n",
      "     9  |  \u001b[94m  0.195962\u001b[0m  |  \u001b[32m  0.543831\u001b[0m  |     0.360336  |     85.20%  |  0.2s\n",
      "    10  |  \u001b[94m  0.158426\u001b[0m  |    0.550781  |     0.287639  |     86.25%  |  0.2s\n"
     ]
    }
   ],
   "source": [
    "net = net1.fit(X[0:1000,:,:,:],y[0:1000])"
   ]
  },
  {
   "cell_type": "markdown",
   "metadata": {},
   "source": [
    "Note this takes a bit time on a CPU (approx 7 sec) for each epoch. If running on the GPU it onlty takes about 0.2 sec for each epoch."
   ]
  },
  {
   "cell_type": "markdown",
   "metadata": {},
   "source": [
    "##### Storing the trained model\n",
    "We now have a trained model, which we can store using the pickle mechanism as follows"
   ]
  },
  {
   "cell_type": "code",
   "execution_count": 9,
   "metadata": {},
   "outputs": [],
   "source": [
    "import cPickle as pickle\n",
    "with open('data/net1.pickle', 'wb') as f:\n",
    "    pickle.dump(net, f, -1)"
   ]
  },
  {
   "cell_type": "code",
   "execution_count": 10,
   "metadata": {},
   "outputs": [
    {
     "name": "stdout",
     "output_type": "stream",
     "text": [
      "total 13M\r\n",
      "-rw-r--r-- 1 dueo dueo 13M Mar 26 01:26 net1.pickle\r\n"
     ]
    }
   ],
   "source": [
    "%ls -rtlh data"
   ]
  },
  {
   "cell_type": "markdown",
   "metadata": {},
   "source": [
    "#### Loading a stored model\n",
    "We load the model trained model again..."
   ]
  },
  {
   "cell_type": "code",
   "execution_count": 12,
   "metadata": {},
   "outputs": [],
   "source": [
    "with open('data/net1.pickle', 'rb') as f:\n",
    "    net_pretrain = pickle.load(f)"
   ]
  },
  {
   "cell_type": "markdown",
   "metadata": {},
   "source": [
    "#### Training further (more iterations)\n",
    "We can now take the net and train it for further iterations. We will see the the training loss is already quite low."
   ]
  },
  {
   "cell_type": "code",
   "execution_count": 13,
   "metadata": {},
   "outputs": [
    {
     "name": "stdout",
     "output_type": "stream",
     "text": [
      "  InputLayer        \t(None, 1, 28, 28)   \tproduces     784 outputs\n",
      "  Conv2DLayer       \t(None, 32, 26, 26)  \tproduces   21632 outputs\n",
      "  MaxPool2DLayer    \t(None, 32, 13, 13)  \tproduces    5408 outputs\n",
      "  Conv2DLayer       \t(None, 64, 12, 12)  \tproduces    9216 outputs\n",
      "  MaxPool2DLayer    \t(None, 64, 6, 6)    \tproduces    2304 outputs\n",
      "  DenseLayer        \t(None, 500)         \tproduces     500 outputs\n",
      "  DenseLayer        \t(None, 10)          \tproduces      10 outputs\n",
      "\n",
      " Epoch  |  Train loss  |  Valid loss  |  Train / Val  |  Valid acc  |  Dur\n",
      "--------|--------------|--------------|---------------|-------------|-------\n",
      "     1  |  \u001b[94m  0.139824\u001b[0m  |  \u001b[32m  0.546282\u001b[0m  |     0.255955  |     85.32%  |  0.2s\n",
      "     2  |  \u001b[94m  0.128598\u001b[0m  |    0.547425  |     0.234915  |     85.59%  |  0.2s\n",
      "     3  |  \u001b[94m  0.109014\u001b[0m  |    0.546966  |     0.199307  |     85.86%  |  0.2s\n",
      "     4  |  \u001b[94m  0.092420\u001b[0m  |  \u001b[32m  0.543230\u001b[0m  |     0.170130  |     86.25%  |  0.2s\n",
      "     5  |  \u001b[94m  0.078050\u001b[0m  |    0.547869  |     0.142461  |     86.25%  |  0.2s\n",
      "     6  |  \u001b[94m  0.064978\u001b[0m  |    0.555468  |     0.116979  |     85.07%  |  0.2s\n",
      "     7  |  \u001b[94m  0.053796\u001b[0m  |    0.560405  |     0.095994  |     85.07%  |  0.2s\n",
      "     8  |  \u001b[94m  0.044633\u001b[0m  |    0.566679  |     0.078762  |     85.07%  |  0.2s\n",
      "     9  |  \u001b[94m  0.037188\u001b[0m  |    0.573217  |     0.064876  |     85.46%  |  0.2s\n",
      "    10  |  \u001b[94m  0.031271\u001b[0m  |    0.581810  |     0.053748  |     85.46%  |  0.2s\n"
     ]
    }
   ],
   "source": [
    "net_pretrain.fit(X[0:1000,:,:,:],y[0:1000]);"
   ]
  },
  {
   "cell_type": "markdown",
   "metadata": {},
   "source": [
    "#### Training further (new data)\n",
    "We can train also on new data and now on 5 epochs."
   ]
  },
  {
   "cell_type": "code",
   "execution_count": 14,
   "metadata": {},
   "outputs": [
    {
     "name": "stdout",
     "output_type": "stream",
     "text": [
      "  InputLayer        \t(None, 1, 28, 28)   \tproduces     784 outputs\n",
      "  Conv2DLayer       \t(None, 32, 26, 26)  \tproduces   21632 outputs\n",
      "  MaxPool2DLayer    \t(None, 32, 13, 13)  \tproduces    5408 outputs\n",
      "  Conv2DLayer       \t(None, 64, 12, 12)  \tproduces    9216 outputs\n",
      "  MaxPool2DLayer    \t(None, 64, 6, 6)    \tproduces    2304 outputs\n",
      "  DenseLayer        \t(None, 500)         \tproduces     500 outputs\n",
      "  DenseLayer        \t(None, 10)          \tproduces      10 outputs\n",
      "\n",
      " Epoch  |  Train loss  |  Valid loss  |  Train / Val  |  Valid acc  |  Dur\n",
      "--------|--------------|--------------|---------------|-------------|-------\n",
      "     1  |  \u001b[94m  0.692993\u001b[0m  |  \u001b[32m  1.246727\u001b[0m  |     0.555850  |     77.50%  |  0.2s\n",
      "     2  |  \u001b[94m  0.318261\u001b[0m  |  \u001b[32m  0.991479\u001b[0m  |     0.320996  |     79.78%  |  0.2s\n",
      "     3  |  \u001b[94m  0.221821\u001b[0m  |  \u001b[32m  0.844999\u001b[0m  |     0.262510  |     82.23%  |  0.2s\n",
      "     4  |  \u001b[94m  0.141100\u001b[0m  |  \u001b[32m  0.829447\u001b[0m  |     0.170113  |     84.62%  |  0.2s\n",
      "     5  |  \u001b[94m  0.103453\u001b[0m  |    0.866650  |     0.119371  |     82.51%  |  0.2s\n"
     ]
    }
   ],
   "source": [
    "net_pretrain.max_epochs = 5\n",
    "net_pretrain.fit(X[1000:2000,:,:,:],y[1000:2000]);"
   ]
  },
  {
   "cell_type": "markdown",
   "metadata": {},
   "source": [
    "### Evaluate the model\n",
    "We now make predictions on unseen data. We have trained only on the images 0-1999."
   ]
  },
  {
   "cell_type": "code",
   "execution_count": 15,
   "metadata": {},
   "outputs": [
    {
     "data": {
      "text/plain": [
       "(array([9, 0, 9, 8, 1, 3, 2, 5, 7, 4]),\n",
       " array([9, 0, 8, 8, 1, 3, 2, 5, 7, 4], dtype=int32))"
      ]
     },
     "execution_count": 15,
     "output_type": "execute_result",
     "metadata": {}
    }
   ],
   "source": [
    "preds = net_pretrain.predict(X[3000:3010,:,:,:])\n",
    "preds, y[3000:3010]"
   ]
  },
  {
   "cell_type": "markdown",
   "metadata": {},
   "source": [
    "Let's look at the correponding images."
   ]
  },
  {
   "cell_type": "code",
   "execution_count": 16,
   "metadata": {},
   "outputs": [
    {
     "data": {
      "image/png": "[encoded data removed]"
     },
     "output_type": "display_data",
     "metadata": {}
    }
   ],
   "source": [
    "fig = plt.figure()\n",
    "for i in range(10):\n",
    "    a=fig.add_subplot(1,10,(i+1)) #NB the one based API sucks!\n",
    "    a.set_title(str(y[(3000 + i)]) + \" / \" + str(preds[i]))\n",
    "    plt.imshow(X[(3000+i),0,:,:], cmap=plt.get_cmap('gray'))"
   ]
  },
  {
   "cell_type": "code",
   "metadata": {},
   "outputs": [],
   "source": [
    ""
   ]
  }
 ],
 "metadata": {
  "kernelspec": {
   "display_name": "Python 2",
   "language": "python",
   "name": "python2"
  },
  "language_info": {
   "codemirror_mode": {
    "name": "ipython",
    "version": 2.0
   },
   "file_extension": ".py",
   "mimetype": "text/x-python",
   "name": "python",
   "nbconvert_exporter": "python",
   "pygments_lexer": "ipython2",
   "version": "2.7.3"
  }
 },
 "nbformat": 4,
 "nbformat_minor": 0
}