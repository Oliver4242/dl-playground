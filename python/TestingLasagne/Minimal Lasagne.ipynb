{
 "cells": [
  {
   "cell_type": "markdown",
   "metadata": {},
   "source": [
    "# Minimal Lasagne\n",
    "The python script [load_mnist.py](load_mnist.py) contains functions to load the mnist data. The data is taken from http://deeplearning.net/data/mnist/mnist.pkl.gz. Basically the all images should be provided in a 4-dimensional array X with the following dimensions (number of images, number of colors, x, y) and the labels in a vector y of same size. So X[1,0,1,2] would be the image number 1, the color chanel 0 and the pixel x = 1 and y=2. "
   ]
  },
  {
   "cell_type": "code",
   "execution_count": 1,
   "metadata": {
    "collapsed": false
   },
   "outputs": [
    {
     "name": "stdout",
     "output_type": "stream",
     "text": [
      "Couldn't import dot_parser, loading of dot files will not be possible.\n"
     ]
    },
    {
     "name": "stderr",
     "output_type": "stream",
     "text": [
      "Using gpu device 1: GeForce GTX 780\n"
     ]
    }
   ],
   "source": [
    "%matplotlib inline\n",
    "import matplotlib.pyplot as plt\n",
    "import matplotlib.image as imgplot\n",
    "from load_mnist import load_data_2d"
   ]
  },
  {
   "cell_type": "code",
   "execution_count": 2,
   "metadata": {
    "collapsed": false
   },
   "outputs": [
    {
     "name": "stdout",
     "output_type": "stream",
     "text": [
      "Loaded data\n",
      "After Batchnormalization (z-Trafo) Min / Max X / Mean -1.2488 / 66.487 / 8.03533e-10\n"
     ]
    }
   ],
   "source": [
    "X,y,PIXELS = load_data_2d('../../data/mnist.pkl.gz')"
   ]
  },
  {
   "cell_type": "markdown",
   "metadata": {},
   "source": [
    "X contains the images and y contains the labels."
   ]
  },
  {
   "cell_type": "code",
   "execution_count": 3,
   "metadata": {
    "collapsed": false
   },
   "outputs": [
    {
     "data": {
      "text/plain": [
       "(70000, 1, 28, 28)"
      ]
     },
     "execution_count": 3,
     "metadata": {},
     "output_type": "execute_result"
    }
   ],
   "source": [
    "X.shape"
   ]
  },
  {
   "cell_type": "code",
   "execution_count": 4,
   "metadata": {
    "collapsed": false
   },
   "outputs": [
    {
     "data": {
      "text/plain": [
       "(70000,)"
      ]
     },
     "execution_count": 4,
     "metadata": {},
     "output_type": "execute_result"
    }
   ],
   "source": [
    "y.shape"
   ]
  },
  {
   "cell_type": "markdown",
   "metadata": {},
   "source": [
    "##### Let s plot the first few images and label\n"
   ]
  },
  {
   "cell_type": "code",
   "execution_count": 5,
   "metadata": {
    "collapsed": false
   },
   "outputs": [
    {
     "data": {
      "text/plain": [
       "array([5, 0, 4, 1, 9, 2, 1, 3, 1, 4], dtype=int32)"
      ]
     },
     "execution_count": 5,
     "metadata": {},
     "output_type": "execute_result"
    }
   ],
   "source": [
    "y[0:10]"
   ]
  },
  {
   "cell_type": "code",
   "execution_count": 6,
   "metadata": {
    "collapsed": false
   },
   "outputs": [
    {
     "data": {
      "image/png": "[encoded data removed]",
      "text/plain": [
       "<matplotlib.figure.Figure at 0x7ff4e40312d0>"
      ]
     },
     "metadata": {},
     "output_type": "display_data"
    }
   ],
   "source": [
    "fig = plt.figure()\n",
    "for i in range(10):\n",
    "    a=fig.add_subplot(1,10,i)\n",
    "    plt.imshow(X[i,0,:,:], cmap=plt.get_cmap('gray'))"
   ]
  },
  {
   "cell_type": "markdown",
   "metadata": {},
   "source": [
    "### Our first Simple Network\n",
    "Now since we have loaded our data. Let's train a network with it. First we load the necessary libraries and then simply build our network. \n",
    "#### Definition of the network\n",
    "There are serveral ways to define a network. We do the easiest using `NeuralNet` from `nolearn.lasagne`. "
   ]
  },
  {
   "cell_type": "code",
   "execution_count": 7,
   "metadata": {
    "collapsed": true
   },
   "outputs": [],
   "source": [
    "from lasagne import layers\n",
    "from lasagne import nonlinearities\n",
    "from nolearn.lasagne import NeuralNet\n",
    "\n",
    "net1 = NeuralNet(\n",
    "    # Geometry of the network\n",
    "    layers=[\n",
    "        ('input', layers.InputLayer),\n",
    "        ('conv1', layers.Conv2DLayer),\n",
    "        ('pool1', layers.MaxPool2DLayer),\n",
    "        ('conv2', layers.Conv2DLayer),\n",
    "        ('pool2', layers.MaxPool2DLayer),\n",
    "        ('hidden4', layers.DenseLayer),\n",
    "        ('output', layers.DenseLayer),\n",
    "        ],\n",
    "    input_shape=(None, 1, PIXELS, PIXELS), #None in the first axis indicates that the batch size can be set later\n",
    "    conv1_num_filters=32, conv1_filter_size=(3, 3), pool1_ds=(2, 2),\n",
    "    conv2_num_filters=64, conv2_filter_size=(2, 2), pool2_ds=(2, 2),\n",
    "    hidden4_num_units=500,\n",
    "    output_num_units=10, output_nonlinearity=nonlinearities.softmax,\n",
    "\n",
    "    # learning rate parameters\n",
    "    update_learning_rate=0.01,\n",
    "    update_momentum=0.9,\n",
    "    regression=False,\n",
    "    # We only train for 10 epochs\n",
    "    max_epochs=10,\n",
    "    verbose=1,\n",
    "\n",
    "    # Training test-set split\n",
    "    eval_size = 0.2\n",
    "    )"
   ]
  },
  {
   "cell_type": "markdown",
   "metadata": {},
   "source": [
    "####Training of the net. \n",
    "Note that the data is split automatically into 80% Training and 20% Testset. We don't have to take care about this. Since it takes quite a while to finish an epoch (at least with a CPU), we reduce the data to 1000 samples (800 training and 200 testing)."
   ]
  },
  {
   "cell_type": "code",
   "execution_count": 8,
   "metadata": {
    "collapsed": false
   },
   "outputs": [
    {
     "name": "stdout",
     "output_type": "stream",
     "text": [
      "  InputLayer        \t(None, 1, 28, 28)   \tproduces     784 outputs\n",
      "  Conv2DLayer       \t(None, 32, 26, 26)  \tproduces   21632 outputs\n",
      "  MaxPool2DLayer    \t(None, 32, 13, 13)  \tproduces    5408 outputs\n",
      "  Conv2DLayer       \t(None, 64, 12, 12)  \tproduces    9216 outputs\n",
      "  MaxPool2DLayer    \t(None, 64, 6, 6)    \tproduces    2304 outputs\n",
      "  DenseLayer        \t(None, 500)         \tproduces     500 outputs\n",
      "  DenseLayer        \t(None, 10)          \tproduces      10 outputs\n",
      "\n",
      " Epoch  |  Train loss  |  Valid loss  |  Train / Val  |  Valid acc  |  Dur\n",
      "--------|--------------|--------------|---------------|-------------|-------\n",
      "     1  |  \u001b[94m  2.227549\u001b[0m  |  \u001b[32m  2.032873\u001b[0m  |     1.095764  |     52.59%  |  0.2s\n",
      "     2  |  \u001b[94m  1.750709\u001b[0m  |  \u001b[32m  1.466940\u001b[0m  |     1.193443  |     59.64%  |  0.2s\n",
      "     3  |  \u001b[94m  1.093071\u001b[0m  |  \u001b[32m  0.937246\u001b[0m  |     1.166258  |     74.84%  |  0.2s\n",
      "     4  |  \u001b[94m  0.680239\u001b[0m  |  \u001b[32m  0.742676\u001b[0m  |     0.915930  |     78.25%  |  0.2s\n",
      "     5  |  \u001b[94m  0.461181\u001b[0m  |  \u001b[32m  0.736124\u001b[0m  |     0.626500  |     80.35%  |  0.2s\n",
      "     6  |  \u001b[94m  0.348909\u001b[0m  |  \u001b[32m  0.710541\u001b[0m  |     0.491047  |     80.20%  |  0.2s\n",
      "     7  |  \u001b[94m  0.269922\u001b[0m  |  \u001b[32m  0.613465\u001b[0m  |     0.439996  |     86.51%  |  0.2s\n",
      "     8  |  \u001b[94m  0.218702\u001b[0m  |  \u001b[32m  0.609988\u001b[0m  |     0.358534  |     85.73%  |  0.2s\n",
      "     9  |  \u001b[94m  0.183165\u001b[0m  |  \u001b[32m  0.551298\u001b[0m  |     0.332243  |     87.17%  |  0.2s\n",
      "    10  |  \u001b[94m  0.147640\u001b[0m  |    0.554414  |     0.266300  |     86.25%  |  0.2s\n"
     ]
    }
   ],
   "source": [
    "net = net1.fit(X[0:1000,:,:,:],y[0:1000])"
   ]
  },
  {
   "cell_type": "markdown",
   "metadata": {},
   "source": [
    "Note this takes a bit time on a CPU (approx 7 sec) for each epoch. If running on the GPU it onlty takes about 0.2 sec for each epoch."
   ]
  },
  {
   "cell_type": "markdown",
   "metadata": {},
   "source": [
    "We have a trained classifier with which we can make predictions."
   ]
  },
  {
   "cell_type": "code",
   "execution_count": 19,
   "metadata": {
    "collapsed": false
   },
   "outputs": [
    {
     "data": {
      "text/plain": [
       "array([9, 0, 9, 8, 1, 3, 2, 5, 7, 4])"
      ]
     },
     "execution_count": 19,
     "metadata": {},
     "output_type": "execute_result"
    }
   ],
   "source": [
    "net.predict(X[3000:3010,:,:,:])"
   ]
  },
  {
   "cell_type": "markdown",
   "metadata": {},
   "source": [
    "**That's basically all we need! ** We can make predictions on new data.\n",
    "\n",
    "In the following we will show how to store and reload the learned model. The reloaded model can be further trained on novel data.\n",
    "\n",
    "##### Storing the trained model\n",
    "We now have a trained model, which we can store using the pickle mechanism as follows"
   ]
  },
  {
   "cell_type": "code",
   "execution_count": 9,
   "metadata": {
    "collapsed": true
   },
   "outputs": [],
   "source": [
    "import cPickle as pickle\n",
    "with open('data/net1.pickle', 'wb') as f:\n",
    "    pickle.dump(net, f, -1)"
   ]
  },
  {
   "cell_type": "code",
   "execution_count": 13,
   "metadata": {
    "collapsed": false
   },
   "outputs": [
    {
     "name": "stdout",
     "output_type": "stream",
     "text": [
      "total 13M\r\n",
      "-rw-r--r-- 1 dueo dueo 13M Apr 14 22:07 net1.pickle\r\n"
     ]
    }
   ],
   "source": [
    "%ls -rtlh data"
   ]
  },
  {
   "cell_type": "markdown",
   "metadata": {},
   "source": [
    "#### Loading a stored model\n",
    "We load the model trained model again..."
   ]
  },
  {
   "cell_type": "code",
   "execution_count": 14,
   "metadata": {
    "collapsed": false
   },
   "outputs": [],
   "source": [
    "import cPickle as pickle\n",
    "with open('data/net1.pickle', 'rb') as f:\n",
    "    net_pretrain = pickle.load(f)"
   ]
  },
  {
   "cell_type": "markdown",
   "metadata": {},
   "source": [
    "#### Training further (more iterations)\n",
    "We can now take the net and train it for further iterations. We will see the training loss already picks to the low value from the previous model. So the model is really reloaded."
   ]
  },
  {
   "cell_type": "code",
   "execution_count": 12,
   "metadata": {
    "collapsed": false
   },
   "outputs": [
    {
     "name": "stdout",
     "output_type": "stream",
     "text": [
      "  InputLayer        \t(None, 1, 28, 28)   \tproduces     784 outputs\n",
      "  Conv2DLayer       \t(None, 32, 26, 26)  \tproduces   21632 outputs\n",
      "  MaxPool2DLayer    \t(None, 32, 13, 13)  \tproduces    5408 outputs\n",
      "  Conv2DLayer       \t(None, 64, 12, 12)  \tproduces    9216 outputs\n",
      "  MaxPool2DLayer    \t(None, 64, 6, 6)    \tproduces    2304 outputs\n",
      "  DenseLayer        \t(None, 500)         \tproduces     500 outputs\n",
      "  DenseLayer        \t(None, 10)          \tproduces      10 outputs\n",
      "\n",
      " Epoch  |  Train loss  |  Valid loss  |  Train / Val  |  Valid acc  |  Dur\n",
      "--------|--------------|--------------|---------------|-------------|-------\n",
      "     1  |  \u001b[94m  0.135505\u001b[0m  |  \u001b[32m  0.504220\u001b[0m  |     0.268741  |     86.12%  |  0.2s\n",
      "     2  |  \u001b[94m  0.124618\u001b[0m  |    0.504746  |     0.246892  |     86.00%  |  0.2s\n",
      "     3  |  \u001b[94m  0.107695\u001b[0m  |  \u001b[32m  0.499025\u001b[0m  |     0.215811  |     86.39%  |  0.2s\n",
      "     4  |  \u001b[94m  0.091441\u001b[0m  |  \u001b[32m  0.497886\u001b[0m  |     0.183658  |     86.39%  |  0.2s\n",
      "     5  |  \u001b[94m  0.076932\u001b[0m  |    0.499244  |     0.154096  |     86.39%  |  0.2s\n",
      "     6  |  \u001b[94m  0.063908\u001b[0m  |    0.502903  |     0.127079  |     86.39%  |  0.2s\n",
      "     7  |  \u001b[94m  0.052954\u001b[0m  |    0.504482  |     0.104967  |     86.78%  |  0.2s\n",
      "     8  |  \u001b[94m  0.044086\u001b[0m  |    0.505331  |     0.087242  |     87.56%  |  0.2s\n",
      "     9  |  \u001b[94m  0.036950\u001b[0m  |    0.508659  |     0.072642  |     86.90%  |  0.2s\n",
      "    10  |  \u001b[94m  0.031226\u001b[0m  |    0.514987  |     0.060635  |     86.90%  |  0.2s\n"
     ]
    }
   ],
   "source": [
    "net_pretrain.fit(X[0:1000,:,:,:],y[0:1000]);"
   ]
  },
  {
   "cell_type": "markdown",
   "metadata": {},
   "source": [
    "#### Training further (new data)\n",
    "We can train also on new data and now on 5 epochs."
   ]
  },
  {
   "cell_type": "code",
   "execution_count": 13,
   "metadata": {
    "collapsed": false
   },
   "outputs": [
    {
     "name": "stdout",
     "output_type": "stream",
     "text": [
      "  InputLayer        \t(None, 1, 28, 28)   \tproduces     784 outputs\n",
      "  Conv2DLayer       \t(None, 32, 26, 26)  \tproduces   21632 outputs\n",
      "  MaxPool2DLayer    \t(None, 32, 13, 13)  \tproduces    5408 outputs\n",
      "  Conv2DLayer       \t(None, 64, 12, 12)  \tproduces    9216 outputs\n",
      "  MaxPool2DLayer    \t(None, 64, 6, 6)    \tproduces    2304 outputs\n",
      "  DenseLayer        \t(None, 500)         \tproduces     500 outputs\n",
      "  DenseLayer        \t(None, 10)          \tproduces      10 outputs\n",
      "\n",
      " Epoch  |  Train loss  |  Valid loss  |  Train / Val  |  Valid acc  |  Dur\n",
      "--------|--------------|--------------|---------------|-------------|-------\n",
      "     1  |  \u001b[94m  0.734504\u001b[0m  |  \u001b[32m  1.321238\u001b[0m  |     0.555921  |     74.33%  |  0.2s\n",
      "     2  |  \u001b[94m  0.327643\u001b[0m  |  \u001b[32m  0.802653\u001b[0m  |     0.408200  |     83.06%  |  0.2s\n",
      "     3  |  \u001b[94m  0.216492\u001b[0m  |  \u001b[32m  0.676354\u001b[0m  |     0.320087  |     86.85%  |  0.2s\n",
      "     4  |  \u001b[94m  0.132390\u001b[0m  |  \u001b[32m  0.652336\u001b[0m  |     0.202947  |     85.68%  |  0.2s\n",
      "     5  |  \u001b[94m  0.098517\u001b[0m  |    0.661288  |     0.148977  |     86.07%  |  0.2s\n"
     ]
    }
   ],
   "source": [
    "net_pretrain.max_epochs = 5\n",
    "net_pretrain.fit(X[1000:2000,:,:,:],y[1000:2000]);"
   ]
  },
  {
   "cell_type": "markdown",
   "metadata": {},
   "source": [
    "### Evaluate the model\n",
    "We now make predictions on unseen data. We have trained only on the images 0-1999."
   ]
  },
  {
   "cell_type": "code",
   "execution_count": 21,
   "metadata": {
    "collapsed": false
   },
   "outputs": [
    {
     "data": {
      "text/plain": [
       "(array([9, 0, 9, 8, 1, 3, 2, 5, 7, 4]),\n",
       " array([9, 0, 8, 8, 1, 3, 2, 5, 7, 4], dtype=int32),\n",
       " (10, 1, 28, 28))"
      ]
     },
     "execution_count": 21,
     "metadata": {},
     "output_type": "execute_result"
    }
   ],
   "source": [
    "preds = net_pretrain.predict(X[3000:3010,:,:,:])\n",
    "preds, y[3000:3010],X[3000:3010,:,:,:].shape"
   ]
  },
  {
   "cell_type": "markdown",
   "metadata": {},
   "source": [
    "Let's look at the correponding images."
   ]
  },
  {
   "cell_type": "code",
   "execution_count": 15,
   "metadata": {
    "collapsed": false
   },
   "outputs": [
    {
     "data": {
      "image/png": "[encoded data removed]"
     },
     "metadata": {},
     "output_type": "display_data"
    }
   ],
   "source": [
    "fig = plt.figure()\n",
    "for i in range(10):\n",
    "    a=fig.add_subplot(1,10,(i+1)) #NB the one based API sucks!\n",
    "    a.set_title(str(y[(3000 + i)]) + \" / \" + str(preds[i]))\n",
    "    plt.imshow(X[(3000+i),0,:,:], cmap=plt.get_cmap('gray'))"
   ]
  },
  {
   "cell_type": "code",
   "execution_count": null,
   "metadata": {
    "collapsed": true
   },
   "outputs": [],
   "source": []
  }
 ],
 "metadata": {
  "kernelspec": {
   "display_name": "Python 2",
   "language": "python",
   "name": "python2"
  },
  "language_info": {
   "codemirror_mode": {
    "name": "ipython",
    "version": 2
   },
   "file_extension": ".py",
   "mimetype": "text/x-python",
   "name": "python",
   "nbconvert_exporter": "python",
   "pygments_lexer": "ipython2",
   "version": "2.7.3"
  }
 },
 "nbformat": 4,
 "nbformat_minor": 0
}
