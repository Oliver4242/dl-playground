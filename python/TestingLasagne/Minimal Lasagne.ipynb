{
 "cells": [
  {
   "cell_type": "markdown",
   "metadata": {},
   "source": [
    "** Newer version at [https://github.com/oduerr/dl_tutorial/tree/master/lasagne] **\n",
    "\n",
    "# Minimal Lasagne\n",
    "The python script [load_mnist.py](load_mnist.py) contains functions to load the mnist data. The data is taken from http://deeplearning.net/data/mnist/mnist.pkl.gz. Basically the all images should be provided in a 4-dimensional array X with the following dimensions (number of images, number of colors, x, y) and the labels in a vector y of same size. So X[1,0,1,2] would be the image number 1, the color chanel 0 and the pixel x = 1 and y=2. "
   ]
  },
  {
   "cell_type": "code",
   "execution_count": 46,
   "metadata": {
    "collapsed": false
   },
   "outputs": [],
   "source": [
    "%matplotlib inline\n",
    "import matplotlib.pyplot as plt\n",
    "import matplotlib.image as imgplot\n",
    "from load_mnist import load_data_2d"
   ]
  },
  {
   "cell_type": "code",
   "execution_count": 47,
   "metadata": {
    "collapsed": false
   },
   "outputs": [
    {
     "name": "stdout",
     "output_type": "stream",
     "text": [
      "Loaded data\n",
      "After Batchnormalization (z-Trafo) Min / Max X / Mean -1.2488 / 66.487 / 8.03533e-10\n"
     ]
    }
   ],
   "source": [
    "X,y,PIXELS = load_data_2d('../../data/mnist.pkl.gz')"
   ]
  },
  {
   "cell_type": "markdown",
   "metadata": {},
   "source": [
    "X contains the images and y contains the labels."
   ]
  },
  {
   "cell_type": "code",
   "execution_count": 48,
   "metadata": {
    "collapsed": false
   },
   "outputs": [
    {
     "data": {
      "text/plain": [
       "(70000, 1, 28, 28)"
      ]
     },
     "execution_count": 48,
     "metadata": {},
     "output_type": "execute_result"
    }
   ],
   "source": [
    "X.shape"
   ]
  },
  {
   "cell_type": "code",
   "execution_count": 49,
   "metadata": {
    "collapsed": false
   },
   "outputs": [
    {
     "data": {
      "text/plain": [
       "(70000,)"
      ]
     },
     "execution_count": 49,
     "metadata": {},
     "output_type": "execute_result"
    }
   ],
   "source": [
    "y.shape"
   ]
  },
  {
   "cell_type": "markdown",
   "metadata": {},
   "source": [
    "##### Let s plot the first few images and label\n"
   ]
  },
  {
   "cell_type": "code",
   "execution_count": 50,
   "metadata": {
    "collapsed": false
   },
   "outputs": [
    {
     "data": {
      "text/plain": [
       "array([5, 0, 4, 1, 9, 2, 1, 3, 1, 4], dtype=int32)"
      ]
     },
     "execution_count": 50,
     "metadata": {},
     "output_type": "execute_result"
    }
   ],
   "source": [
    "y[0:10]"
   ]
  },
  {
   "cell_type": "code",
   "execution_count": 51,
   "metadata": {
    "collapsed": false
   },
   "outputs": [
    {
     "data": {
      "image/png": "[encoded data removed]",
      "text/plain": [
       "<matplotlib.figure.Figure at 0x99e0150>"
      ]
     },
     "metadata": {},
     "output_type": "display_data"
    }
   ],
   "source": [
    "fig = plt.figure(figsize=(20,100))\n",
    "for i in range(5):\n",
    "    a=fig.add_subplot(1,5,i)\n",
    "    plt.imshow(X[i,0,:,:], interpolation='none',cmap=plt.get_cmap('gray'))"
   ]
  },
  {
   "cell_type": "markdown",
   "metadata": {},
   "source": [
    "### Our first Simple Network\n",
    "Now since we have loaded our data. Let's train a network with it. First we load the necessary libraries and then simply build our network. \n",
    "#### Definition of the network\n",
    "There are serveral ways to define a network. We do the easiest using `NeuralNet` from `nolearn.lasagne`. "
   ]
  },
  {
   "cell_type": "code",
   "execution_count": 52,
   "metadata": {
    "collapsed": false
   },
   "outputs": [],
   "source": [
    "from lasagne import layers\n",
    "from lasagne import nonlinearities\n",
    "from nolearn.lasagne import NeuralNet\n",
    "\n",
    "net1 = NeuralNet(\n",
    "    # Geometry of the network\n",
    "    layers=[\n",
    "        ('input', layers.InputLayer),\n",
    "        ('conv1', layers.Conv2DLayer),\n",
    "        ('pool1', layers.MaxPool2DLayer),\n",
    "        ('conv2', layers.Conv2DLayer),\n",
    "        ('pool2', layers.MaxPool2DLayer),\n",
    "        ('hidden4', layers.DenseLayer),\n",
    "        ('output', layers.DenseLayer),\n",
    "        ],\n",
    "    input_shape=(None, 1, PIXELS, PIXELS), #None in the first axis indicates that the batch size can be set later\n",
    "    conv1_num_filters=32, conv1_filter_size=(3, 3), pool1_ds=(2, 2),\n",
    "    conv2_num_filters=64, conv2_filter_size=(2, 2), pool2_ds=(2, 2),\n",
    "    hidden4_num_units=500,\n",
    "    output_num_units=10, output_nonlinearity=nonlinearities.softmax,\n",
    "\n",
    "    # learning rate parameters\n",
    "    update_learning_rate=0.01,\n",
    "    update_momentum=0.9,\n",
    "    regression=False,\n",
    "    # We only train for 10 epochs\n",
    "    max_epochs=100,\n",
    "    verbose=1,\n",
    "\n",
    "    # Training test-set split\n",
    "    eval_size = 0.2\n",
    "    )"
   ]
  },
  {
   "cell_type": "markdown",
   "metadata": {},
   "source": [
    "####Training of the net. \n",
    "Note that the data is split automatically into 80% Training and 20% Testset. We don't have to take care about this. Since it takes quite a while to finish an epoch (at least with a CPU), we reduce the data to 1000 samples (800 training and 200 testing). Note also that the geometry makes sense the first 3x3 convolution knocks off 2 pixels from the 28x28 images resulting in 26x26 images. Then the maxpooling with size 2x2 reduces these images to 13x13 pixels..."
   ]
  },
  {
   "cell_type": "code",
   "execution_count": null,
   "metadata": {
    "collapsed": false,
    "scrolled": true
   },
   "outputs": [
    {
     "name": "stdout",
     "output_type": "stream",
     "text": [
      "  InputLayer        \t(None, 1, 28, 28)   \tproduces     784 outputs\n",
      "  Conv2DLayer       \t(None, 32, 26, 26)  \tproduces   21632 outputs\n",
      "  MaxPool2DLayer    \t(None, 32, 13, 13)  \tproduces    5408 outputs\n",
      "  Conv2DLayer       \t(None, 64, 12, 12)  \tproduces    9216 outputs\n",
      "  MaxPool2DLayer    \t(None, 64, 6, 6)    \tproduces    2304 outputs\n",
      "  DenseLayer        \t(None, 500)         \tproduces     500 outputs\n",
      "  DenseLayer        \t(None, 10)          \tproduces      10 outputs\n",
      "\n",
      " Epoch  |  Train loss  |  Valid loss  |  Train / Val  |  Valid acc  |  Dur\n",
      "--------|--------------|--------------|---------------|-------------|-------\n",
      "     1  |  \u001b[94m  0.354806\u001b[0m  |  \u001b[32m  0.132193\u001b[0m  |     2.683998  |     96.03%  |  8.3s\n",
      "     2  |  \u001b[94m  0.093475\u001b[0m  |  \u001b[32m  0.091100\u001b[0m  |     1.026081  |     97.26%  |  8.3s\n",
      "     3  |  \u001b[94m  0.059003\u001b[0m  |  \u001b[32m  0.074875\u001b[0m  |     0.788021  |     97.67%  |  8.3s\n",
      "     4  |  \u001b[94m  0.041838\u001b[0m  |  \u001b[32m  0.065796\u001b[0m  |     0.635877  |     98.00%  |  8.3s\n",
      "     5  |  \u001b[94m  0.031173\u001b[0m  |  \u001b[32m  0.060128\u001b[0m  |     0.518441  |     98.19%  |  8.3s\n",
      "     6  |  \u001b[94m  0.023879\u001b[0m  |  \u001b[32m  0.058003\u001b[0m  |     0.411683  |     98.32%  |  8.3s\n",
      "     7  |  \u001b[94m  0.018691\u001b[0m  |  \u001b[32m  0.055810\u001b[0m  |     0.334914  |     98.32%  |  8.3s\n",
      "     8  |  \u001b[94m  0.014708\u001b[0m  |    0.056245  |     0.261502  |     98.36%  |  8.3s\n",
      "     9  |  \u001b[94m  0.011546\u001b[0m  |    0.057354  |     0.201308  |     98.34%  |  8.3s"
     ]
    }
   ],
   "source": [
    "net = net1.fit(X[0:50000,:,:,:],y[0:50000])"
   ]
  },
  {
   "cell_type": "markdown",
   "metadata": {},
   "source": [
    "Note this takes a bit time on a CPU (approx 7 sec) for each epoch. If running on the GPU it onlty takes about 0.2 sec for each epoch."
   ]
  },
  {
   "cell_type": "markdown",
   "metadata": {},
   "source": [
    "We have a trained classifier with which we can make predictions."
   ]
  },
  {
   "cell_type": "code",
   "execution_count": 19,
   "metadata": {
    "collapsed": false
   },
   "outputs": [
    {
     "data": {
      "text/plain": [
       "array([9, 0, 9, 8, 1, 3, 2, 5, 7, 4])"
      ]
     },
     "execution_count": 19,
     "metadata": {},
     "output_type": "execute_result"
    }
   ],
   "source": [
    "net.predict(X[3000:3010,:,:,:])"
   ]
  },
  {
   "cell_type": "markdown",
   "metadata": {},
   "source": [
    "**That's basically all we need! ** We can make predictions on new data.\n",
    "\n",
    "In the following we will show how to store and reload the learned model. The reloaded model can be further trained on novel data.\n",
    "\n",
    "##### Storing the trained model\n",
    "We now have a trained model, which we can store using the pickle mechanism as follows"
   ]
  },
  {
   "cell_type": "code",
   "execution_count": 20,
   "metadata": {
    "collapsed": true
   },
   "outputs": [],
   "source": [
    "import cPickle as pickle\n",
    "with open('data/net1.pickle', 'wb') as f:\n",
    "    pickle.dump(net, f, -1)"
   ]
  },
  {
   "cell_type": "code",
   "execution_count": 21,
   "metadata": {
    "collapsed": false
   },
   "outputs": [
    {
     "name": "stdout",
     "output_type": "stream",
     "text": [
      "total 12M\r\n",
      "-rw-r--r-- 1 dueo dueo 12M Apr 15 00:52 net1.pickle\r\n"
     ]
    }
   ],
   "source": [
    "%ls -rtlh data"
   ]
  },
  {
   "cell_type": "markdown",
   "metadata": {},
   "source": [
    "#### Loading a stored model\n",
    "We load the model trained model again..."
   ]
  },
  {
   "cell_type": "code",
   "execution_count": 22,
   "metadata": {
    "collapsed": false
   },
   "outputs": [],
   "source": [
    "import cPickle as pickle\n",
    "with open('data/net1.pickle', 'rb') as f:\n",
    "    net_pretrain = pickle.load(f)"
   ]
  },
  {
   "cell_type": "markdown",
   "metadata": {},
   "source": [
    "#### Training further (more iterations)\n",
    "We can now take the net and train it for further iterations. We will see the training loss already picks to the low value from the previous model. So the model is really reloaded."
   ]
  },
  {
   "cell_type": "code",
   "execution_count": 23,
   "metadata": {
    "collapsed": false,
    "scrolled": true
   },
   "outputs": [
    {
     "name": "stdout",
     "output_type": "stream",
     "text": [
      "  InputLayer        \t(None, 1, 28, 28)   \tproduces     784 outputs\n",
      "  Conv2DLayer       \t(None, 32, 26, 26)  \tproduces   21632 outputs\n",
      "  MaxPool2DLayer    \t(None, 32, 13, 13)  \tproduces    5408 outputs\n",
      "  Conv2DLayer       \t(None, 64, 12, 12)  \tproduces    9216 outputs\n",
      "  MaxPool2DLayer    \t(None, 64, 6, 6)    \tproduces    2304 outputs\n",
      "  DenseLayer        \t(None, 500)         \tproduces     500 outputs\n",
      "  DenseLayer        \t(None, 10)          \tproduces      10 outputs\n",
      "\n",
      " Epoch  |  Train loss  |  Valid loss  |  Train / Val  |  Valid acc  |  Dur\n",
      "--------|--------------|--------------|---------------|-------------|-------\n",
      "     1  |  \u001b[94m  0.141693\u001b[0m  |  \u001b[32m  0.551039\u001b[0m  |     0.257137  |     84.42%  |  0.2s\n",
      "     2  |  \u001b[94m  0.129509\u001b[0m  |    0.552943  |     0.234218  |     84.95%  |  0.2s\n",
      "     3  |  \u001b[94m  0.111243\u001b[0m  |    0.557282  |     0.199617  |     86.12%  |  0.2s\n",
      "     4  |  \u001b[94m  0.095897\u001b[0m  |    0.553497  |     0.173256  |     86.51%  |  0.2s\n",
      "     5  |  \u001b[94m  0.081135\u001b[0m  |    0.555624  |     0.146025  |     86.51%  |  0.2s\n",
      "     6  |  \u001b[94m  0.068234\u001b[0m  |    0.559095  |     0.122043  |     86.12%  |  0.2s\n",
      "     7  |  \u001b[94m  0.057396\u001b[0m  |    0.560680  |     0.102369  |     86.78%  |  0.2s\n",
      "     8  |  \u001b[94m  0.048355\u001b[0m  |    0.561323  |     0.086144  |     85.07%  |  0.2s\n",
      "     9  |  \u001b[94m  0.040969\u001b[0m  |    0.564436  |     0.072584  |     85.07%  |  0.2s\n",
      "    10  |  \u001b[94m  0.034889\u001b[0m  |    0.568293  |     0.061392  |     85.46%  |  0.2s\n"
     ]
    }
   ],
   "source": [
    "net_pretrain.fit(X[0:1000,:,:,:],y[0:1000]);"
   ]
  },
  {
   "cell_type": "markdown",
   "metadata": {},
   "source": [
    "#### Training further (new data)\n",
    "We can train also on new data and now on 5 epochs."
   ]
  },
  {
   "cell_type": "code",
   "execution_count": 13,
   "metadata": {
    "collapsed": false
   },
   "outputs": [
    {
     "name": "stdout",
     "output_type": "stream",
     "text": [
      "  InputLayer        \t(None, 1, 28, 28)   \tproduces     784 outputs\n",
      "  Conv2DLayer       \t(None, 32, 26, 26)  \tproduces   21632 outputs\n",
      "  MaxPool2DLayer    \t(None, 32, 13, 13)  \tproduces    5408 outputs\n",
      "  Conv2DLayer       \t(None, 64, 12, 12)  \tproduces    9216 outputs\n",
      "  MaxPool2DLayer    \t(None, 64, 6, 6)    \tproduces    2304 outputs\n",
      "  DenseLayer        \t(None, 500)         \tproduces     500 outputs\n",
      "  DenseLayer        \t(None, 10)          \tproduces      10 outputs\n",
      "\n",
      " Epoch  |  Train loss  |  Valid loss  |  Train / Val  |  Valid acc  |  Dur\n",
      "--------|--------------|--------------|---------------|-------------|-------\n",
      "     1  |  \u001b[94m  0.734504\u001b[0m  |  \u001b[32m  1.321238\u001b[0m  |     0.555921  |     74.33%  |  0.2s\n",
      "     2  |  \u001b[94m  0.327643\u001b[0m  |  \u001b[32m  0.802653\u001b[0m  |     0.408200  |     83.06%  |  0.2s\n",
      "     3  |  \u001b[94m  0.216492\u001b[0m  |  \u001b[32m  0.676354\u001b[0m  |     0.320087  |     86.85%  |  0.2s\n",
      "     4  |  \u001b[94m  0.132390\u001b[0m  |  \u001b[32m  0.652336\u001b[0m  |     0.202947  |     85.68%  |  0.2s\n",
      "     5  |  \u001b[94m  0.098517\u001b[0m  |    0.661288  |     0.148977  |     86.07%  |  0.2s\n"
     ]
    }
   ],
   "source": [
    "net_pretrain.max_epochs = 5\n",
    "net_pretrain.fit(X[1000:2000,:,:,:],y[1000:2000]);"
   ]
  },
  {
   "cell_type": "markdown",
   "metadata": {},
   "source": [
    "### Evaluate the model\n",
    "We now make predictions on unseen data. We have trained only on the images 0-1999."
   ]
  },
  {
   "cell_type": "code",
   "execution_count": 21,
   "metadata": {
    "collapsed": false
   },
   "outputs": [
    {
     "data": {
      "text/plain": [
       "(array([9, 0, 9, 8, 1, 3, 2, 5, 7, 4]),\n",
       " array([9, 0, 8, 8, 1, 3, 2, 5, 7, 4], dtype=int32),\n",
       " (10, 1, 28, 28))"
      ]
     },
     "execution_count": 21,
     "metadata": {},
     "output_type": "execute_result"
    }
   ],
   "source": [
    "preds = net_pretrain.predict(X[3000:3010,:,:,:])\n",
    "preds, y[3000:3010],X[3000:3010,:,:,:].shape"
   ]
  },
  {
   "cell_type": "markdown",
   "metadata": {},
   "source": [
    "Let's look at the correponding images."
   ]
  },
  {
   "cell_type": "code",
   "execution_count": 15,
   "metadata": {
    "collapsed": false
   },
   "outputs": [
    {
     "data": {
      "image/png": "[encoded data removed]"
     },
     "metadata": {},
     "output_type": "display_data"
    }
   ],
   "source": [
    "fig = plt.figure()\n",
    "for i in range(10):\n",
    "    a=fig.add_subplot(1,10,(i+1)) #NB the one based API sucks!\n",
    "    a.set_title(str(y[(3000 + i)]) + \" / \" + str(preds[i]))\n",
    "    plt.imshow(X[(3000+i),0,:,:], cmap=plt.get_cmap('gray'))"
   ]
  },
  {
   "cell_type": "code",
   "execution_count": null,
   "metadata": {
    "collapsed": true
   },
   "outputs": [],
   "source": []
  }
 ],
 "metadata": {
  "kernelspec": {
   "display_name": "Python 2",
   "language": "python",
   "name": "python2"
  },
  "language_info": {
   "codemirror_mode": {
    "name": "ipython",
    "version": 2
   },
   "file_extension": ".py",
   "mimetype": "text/x-python",
   "name": "python",
   "nbconvert_exporter": "python",
   "pygments_lexer": "ipython2",
   "version": "2.7.3"
  }
 },
 "nbformat": 4,
 "nbformat_minor": 0
}
