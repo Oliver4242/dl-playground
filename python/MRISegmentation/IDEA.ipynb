{
 "worksheets": [
  {
   "cells": [
    {
     "cell_type": "markdown",
     "metadata": {},
     "source": [
      "We start with brats data but this approach can be generalized once we have the data from the Inselspital.\n",
      "\n",
      "## Idea\n",
      "The basic idea is to provide the data in two blobs. The first blob X contains the full slices its would e.g. look like:\n",
      "\n",
      "* X(nSlices, 1, 128, 128) prob. an integer see DCIM files\n",
      "\n",
      "The second blob  has the same dimension, but contains the coded regions.\n",
      "\n",
      "* Y(nSlices, 1, 128, 128) prob. is an integer with the coding e.g. (needs to be defined)\n",
      "\t* 1 Cancer GBM\n",
      "\t* 2 Metas\n",
      "\t* 3 Not coded\n",
      "\t* 4 Healthy \n",
      "\n",
      "\n"
     ]
    },
    {
     "cell_type": "code",
     "metadata": {},
     "outputs": [],
     "input": [
      "a(1,2,3)"
     ],
     "language": "python"
    },
    {
     "cell_type": "code",
     "metadata": {},
     "outputs": [],
     "input": [
      "a[1]"
     ],
     "language": "python"
    }
   ]
  }
 ],
 "cells": [],
 "metadata": {},
 "nbformat": 3,
 "nbformat_minor": 0
}