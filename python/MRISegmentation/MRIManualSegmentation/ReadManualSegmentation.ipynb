{
 "cells": [
  {
   "cell_type": "code",
   "execution_count": 10,
   "metadata": {
    "collapsed": true
   },
   "outputs": [],
   "source": [
    "import struct\n",
    "import numpy as np\n",
    "\n",
    "\n",
    "def readAnotations(path, fileName):\n",
    "    global f, numByte, fileNameRead, byte, width, decoded, height, all, slices\n",
    "    f = open(path + fileName, \"rb\")\n",
    "    try:\n",
    "        numByte = 0\n",
    "        fileNameRead = \"\"\n",
    "        byte = f.read(1)\n",
    "        while byte != \"\":\n",
    "            byte = f.read(1)\n",
    "            if numByte < len(fileName):\n",
    "                fileNameRead += byte\n",
    "            else:\n",
    "                fileNameRead += byte\n",
    "                width = decoded = struct.unpack('>I', f.read(4))[0]  # This is magic, we have big-endian coding\n",
    "                height = decoded = struct.unpack('>I', f.read(4))[0]\n",
    "                #print(\"Read header of [\" + fileNameRead + \"] width = , \" + str(width) + \" height=\" + str(height))\n",
    "                all = np.fromfile(f, dtype='>I', count=-1, sep='')\n",
    "                slices = len(all) / (width * height)\n",
    "                Y = np.reshape(all, (slices, width, height))\n",
    "                #print(\"Read the rest. We have \" + str(slices))\n",
    "                f.close()\n",
    "                return Y\n",
    "            numByte += 1\n",
    "    finally:\n",
    "        f.close()"
   ]
  },
  {
   "cell_type": "code",
   "execution_count": 15,
   "metadata": {
    "collapsed": false
   },
   "outputs": [
    {
     "name": "stdout",
     "output_type": "stream",
     "text": [
      "5G4ESHBE4NO7SHGOLRXQTMUDNI======_ep2d_diff_3scan_p3_m128_ADC_3_1.dcm.iov (1, 256, 256) 0\n",
      "5G4ESHBE4NO7SHGOLRXQTMUDNI======_ep2d_diff_3scan_p3_m128_ADC_3_10.dcm.iov (1, 256, 256) 2\n",
      "5G4ESHBE4NO7SHGOLRXQTMUDNI======_ep2d_diff_3scan_p3_m128_ADC_3_11.dcm.iov (1, 256, 256) 2\n",
      "5G4ESHBE4NO7SHGOLRXQTMUDNI======_ep2d_diff_3scan_p3_m128_ADC_3_12.dcm.iov (1, 256, 256) 2\n",
      "5G4ESHBE4NO7SHGOLRXQTMUDNI======_ep2d_diff_3scan_p3_m128_ADC_3_13.dcm.iov (1, 256, 256) 2\n",
      "5G4ESHBE4NO7SHGOLRXQTMUDNI======_ep2d_diff_3scan_p3_m128_ADC_3_14.dcm.iov (1, 256, 256) 2\n",
      "5G4ESHBE4NO7SHGOLRXQTMUDNI======_ep2d_diff_3scan_p3_m128_ADC_3_15.dcm.iov (1, 256, 256) 2\n",
      "5G4ESHBE4NO7SHGOLRXQTMUDNI======_ep2d_diff_3scan_p3_m128_ADC_3_16.dcm.iov (1, 256, 256) 0\n",
      "5G4ESHBE4NO7SHGOLRXQTMUDNI======_ep2d_diff_3scan_p3_m128_ADC_3_17.dcm.iov (1, 256, 256) 0\n",
      "5G4ESHBE4NO7SHGOLRXQTMUDNI======_ep2d_diff_3scan_p3_m128_ADC_3_18.dcm.iov (1, 256, 256) 0\n",
      "5G4ESHBE4NO7SHGOLRXQTMUDNI======_ep2d_diff_3scan_p3_m128_ADC_3_19.dcm.iov (1, 256, 256) 0\n",
      "5G4ESHBE4NO7SHGOLRXQTMUDNI======_ep2d_diff_3scan_p3_m128_ADC_3_2.dcm.iov (1, 256, 256) 0\n",
      "5G4ESHBE4NO7SHGOLRXQTMUDNI======_ep2d_diff_3scan_p3_m128_ADC_3_20.dcm.iov (1, 256, 256) 0\n",
      "5G4ESHBE4NO7SHGOLRXQTMUDNI======_ep2d_diff_3scan_p3_m128_ADC_3_3.dcm.iov (1, 256, 256) 0\n",
      "5G4ESHBE4NO7SHGOLRXQTMUDNI======_ep2d_diff_3scan_p3_m128_ADC_3_4.dcm.iov (1, 256, 256) 0\n",
      "5G4ESHBE4NO7SHGOLRXQTMUDNI======_ep2d_diff_3scan_p3_m128_ADC_3_5.dcm.iov (1, 256, 256) 0\n",
      "5G4ESHBE4NO7SHGOLRXQTMUDNI======_ep2d_diff_3scan_p3_m128_ADC_3_6.dcm.iov (1, 256, 256) 0\n",
      "5G4ESHBE4NO7SHGOLRXQTMUDNI======_ep2d_diff_3scan_p3_m128_ADC_3_7.dcm.iov (1, 256, 256) 2\n",
      "5G4ESHBE4NO7SHGOLRXQTMUDNI======_ep2d_diff_3scan_p3_m128_ADC_3_8.dcm.iov (1, 256, 256) 2\n",
      "5G4ESHBE4NO7SHGOLRXQTMUDNI======_ep2d_diff_3scan_p3_m128_ADC_3_9.dcm.iov (1, 256, 256) 2\n"
     ]
    },
    {
     "data": {
      "image/png": "[encoded data removed]",
      "text/plain": [
       "<matplotlib.figure.Figure at 0x104967450>"
      ]
     },
     "metadata": {},
     "output_type": "display_data"
    }
   ],
   "source": [
    "import matplotlib.pyplot as plt\n",
    "import matplotlib.image as imgplot\n",
    "import os\n",
    "%matplotlib inline\n",
    "\n",
    "path = \"/Users/oli/Proj_Large_Data/Deep_Learning_MRI/insel_annotated/ADC-contouring-test-case/3-ep2d_diff_3scan_p3_m128_ADC/iov/\"\n",
    "fig = plt.figure()\n",
    "plt.xticks([])\n",
    "plt.yticks([])\n",
    "files = os.listdir(path)\n",
    "for i,file in enumerate(files):\n",
    "    Y = readAnotations(path, file)\n",
    "    a = fig.add_subplot(5, 5, i, xticks=[], yticks=[])  \n",
    "    plt.imshow(Y[0,:,:], cmap=plt.get_cmap('gray'))\n",
    "    print(file + ' ' + str(Y.shape) + \" \" + str(Y.max()))\n"
   ]
  },
  {
   "cell_type": "code",
   "execution_count": null,
   "metadata": {
    "collapsed": true
   },
   "outputs": [],
   "source": []
  }
 ],
 "metadata": {
  "kernelspec": {
   "display_name": "Python 2",
   "language": "python",
   "name": "python2"
  },
  "language_info": {
   "codemirror_mode": {
    "name": "ipython",
    "version": 2
   },
   "file_extension": ".py",
   "mimetype": "text/x-python",
   "name": "python",
   "nbconvert_exporter": "python",
   "pygments_lexer": "ipython2",
   "version": "2.7.5"
  }
 },
 "nbformat": 4,
 "nbformat_minor": 0
}
