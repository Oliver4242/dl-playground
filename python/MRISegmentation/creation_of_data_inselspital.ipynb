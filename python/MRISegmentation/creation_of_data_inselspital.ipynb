{
 "cells": [
  {
   "cell_type": "markdown",
   "metadata": {},
   "source": [
    "#### Reading of the manual anotated files from Johannes\n",
    "\n",
    "Some of the annotations are 128 some are 256. The annotations are mostly done on 256 scale. So we currently upscale to 256x256, for both the manual annotations and the dcim images."
   ]
  },
  {
   "cell_type": "code",
   "execution_count": 3,
   "metadata": {
    "collapsed": true
   },
   "outputs": [],
   "source": [
    "import struct\n",
    "import numpy as np\n",
    "import cv2\n",
    "import matplotlib.pyplot as plt\n",
    "import matplotlib.image as imgplot\n",
    "import os\n",
    "import pandas as pd\n",
    "import os\n",
    "import dicom\n",
    "%matplotlib inline"
   ]
  },
  {
   "cell_type": "code",
   "execution_count": 6,
   "metadata": {
    "collapsed": true
   },
   "outputs": [],
   "source": [
    "# Read the manual annotations and scales them down to (128,128)\n",
    "def readAnotations(pathFileName, skip):\n",
    "    global f, numByte, fileNameRead, byte, width, decoded, height, allPixel, slices\n",
    "    f = open(pathFileName, \"rb\")\n",
    "    try:\n",
    "        numByte = 0\n",
    "        fileNameRead = \"\"\n",
    "        byte = f.read(1)\n",
    "        while byte != \"\":\n",
    "            byte = f.read(1)\n",
    "            if numByte < skip: #The filename is coded in the binary file, hence we skip a few bytes\n",
    "                fileNameRead += byte\n",
    "            else:\n",
    "                fileNameRead += byte\n",
    "                width = decoded = struct.unpack('>I', f.read(4))[0]  # This is magic, we have big-endian coding\n",
    "                height = decoded = struct.unpack('>I', f.read(4))[0]\n",
    "                #print(\"Read header of [\" + fileNameRead + \"] width = , \" + str(width) + \" height=\" + str(height))\n",
    "                allPixel = np.fromfile(f, dtype='>I', count=-1, sep='')\n",
    "                slices = len(allPixel) / (width * height) \n",
    "                # Reshaping and downscaling\n",
    "                l = np.sqrt(len(allPixel))\n",
    "                img = np.reshape(allPixel / 256.0, (l,l))\n",
    "                if l < 256:\n",
    "                    print(\"--------->     Rescaling the Annotation\")\n",
    "                    dd = cv2.resize(img,(256,256))\n",
    "                else:\n",
    "                    dd = img\n",
    "                Y = np.reshape(dd * 256, (1, 256, 256))\n",
    "                # print(\"---->  \" + str(allPixel.max()) + \"  \" + str(np.unique(allPixel)) + \" \" + str(l))\n",
    "                f.close()\n",
    "                return Y,l\n",
    "            numByte += 1\n",
    "    finally:\n",
    "        f.close()"
   ]
  },
  {
   "cell_type": "markdown",
   "metadata": {},
   "source": [
    "#### This is just for testing readAnnotation"
   ]
  },
  {
   "cell_type": "code",
   "execution_count": 4,
   "metadata": {
    "collapsed": false
   },
   "outputs": [
    {
     "name": "stdout",
     "output_type": "stream",
     "text": [
      "---->  0  [0] 256.0\n"
     ]
    },
    {
     "ename": "TypeError",
     "evalue": "tuple indices must be integers, not tuple",
     "output_type": "error",
     "traceback": [
      "\u001b[1;31m---------------------------------------------------------------------------\u001b[0m",
      "\u001b[1;31mTypeError\u001b[0m                                 Traceback (most recent call last)",
      "\u001b[1;32m<ipython-input-4-46648aaf179a>\u001b[0m in \u001b[0;36m<module>\u001b[1;34m()\u001b[0m\n\u001b[0;32m     13\u001b[0m     \u001b[0mY\u001b[0m \u001b[1;33m=\u001b[0m \u001b[0mreadAnotations\u001b[0m\u001b[1;33m(\u001b[0m\u001b[0mpath\u001b[0m \u001b[1;33m+\u001b[0m \u001b[0mfile\u001b[0m\u001b[1;33m,\u001b[0m \u001b[0mlen\u001b[0m\u001b[1;33m(\u001b[0m\u001b[0mfile\u001b[0m\u001b[1;33m)\u001b[0m\u001b[1;33m)\u001b[0m\u001b[1;33m\u001b[0m\u001b[0m\n\u001b[0;32m     14\u001b[0m     \u001b[0ma\u001b[0m \u001b[1;33m=\u001b[0m \u001b[0mfig\u001b[0m\u001b[1;33m.\u001b[0m\u001b[0madd_subplot\u001b[0m\u001b[1;33m(\u001b[0m\u001b[1;36m5\u001b[0m\u001b[1;33m,\u001b[0m \u001b[1;36m5\u001b[0m\u001b[1;33m,\u001b[0m \u001b[0mi\u001b[0m\u001b[1;33m,\u001b[0m \u001b[0mxticks\u001b[0m\u001b[1;33m=\u001b[0m\u001b[1;33m[\u001b[0m\u001b[1;33m]\u001b[0m\u001b[1;33m,\u001b[0m \u001b[0myticks\u001b[0m\u001b[1;33m=\u001b[0m\u001b[1;33m[\u001b[0m\u001b[1;33m]\u001b[0m\u001b[1;33m)\u001b[0m\u001b[1;33m\u001b[0m\u001b[0m\n\u001b[1;32m---> 15\u001b[1;33m     \u001b[0mplt\u001b[0m\u001b[1;33m.\u001b[0m\u001b[0mimshow\u001b[0m\u001b[1;33m(\u001b[0m\u001b[0mY\u001b[0m\u001b[1;33m[\u001b[0m\u001b[1;36m0\u001b[0m\u001b[1;33m,\u001b[0m\u001b[1;33m:\u001b[0m\u001b[1;33m,\u001b[0m\u001b[1;33m:\u001b[0m\u001b[1;33m]\u001b[0m\u001b[1;33m,\u001b[0m \u001b[0mcmap\u001b[0m\u001b[1;33m=\u001b[0m\u001b[0mplt\u001b[0m\u001b[1;33m.\u001b[0m\u001b[0mget_cmap\u001b[0m\u001b[1;33m(\u001b[0m\u001b[1;34m'gray'\u001b[0m\u001b[1;33m)\u001b[0m\u001b[1;33m)\u001b[0m\u001b[1;33m\u001b[0m\u001b[0m\n\u001b[0m\u001b[0;32m     16\u001b[0m     \u001b[1;32mprint\u001b[0m\u001b[1;33m(\u001b[0m\u001b[0mfile\u001b[0m \u001b[1;33m+\u001b[0m \u001b[1;34m' '\u001b[0m \u001b[1;33m+\u001b[0m \u001b[0mstr\u001b[0m\u001b[1;33m(\u001b[0m\u001b[0mY\u001b[0m\u001b[1;33m.\u001b[0m\u001b[0mshape\u001b[0m\u001b[1;33m)\u001b[0m \u001b[1;33m+\u001b[0m \u001b[1;34m\" \"\u001b[0m \u001b[1;33m+\u001b[0m \u001b[0mstr\u001b[0m\u001b[1;33m(\u001b[0m\u001b[0mY\u001b[0m\u001b[1;33m.\u001b[0m\u001b[0mmax\u001b[0m\u001b[1;33m(\u001b[0m\u001b[1;33m)\u001b[0m\u001b[1;33m)\u001b[0m\u001b[1;33m)\u001b[0m\u001b[1;33m\u001b[0m\u001b[0m\n",
      "\u001b[1;31mTypeError\u001b[0m: tuple indices must be integers, not tuple"
     ]
    },
    {
     "data": {
      "image/png": "[encoded data removed]",
      "text/plain": [
       "<matplotlib.figure.Figure at 0x36e89d0>"
      ]
     },
     "metadata": {},
     "output_type": "display_data"
    }
   ],
   "source": [
    "#path = \"/Users/oli/Proj_Large_Data/Deep_Learning_MRI/insel_annotated/ADC-contouring-test-case/3-ep2d_diff_3scan_p3_m128_ADC/iov/\"\n",
    "path = '/home/dueo/data/Inselspital_2015_07_08/metastasis/001_3SUIUNLJQMTGZRVTJM7LWTPHDA======/3SUIUNLJQMTGZRVTJM7LWTPHDA======-20150130-0/3-ep2d_diff_3scan_p3_m128_ADC/iov/'\n",
    "fig = plt.figure()\n",
    "plt.xticks([])\n",
    "plt.yticks([])\n",
    "files = os.listdir(path)\n",
    "for i,file in enumerate(files):\n",
    "    Y = readAnotations(path + file, len(file))\n",
    "    a = fig.add_subplot(5, 5, i, xticks=[], yticks=[])  \n",
    "    plt.imshow(Y[0,:,:], cmap=plt.get_cmap('gray'))\n",
    "    print(file + ' ' + str(Y.shape) + \" \" + str(Y.max()))\n"
   ]
  },
  {
   "cell_type": "markdown",
   "metadata": {
    "collapsed": true
   },
   "source": []
  },
  {
   "cell_type": "markdown",
   "metadata": {
    "collapsed": true
   },
   "source": [
    "## Creation of a list of files\n",
    "##### For GBM\n",
    "```\n",
    "> dueo@srv-lab-t-706:~/data/Inselspital_2015_07_08/GBM\n",
    "find $PWD -name '*.dcm' > ../list_GBM.txt\n",
    "dueo@srv-lab-t-706:~/data/Inselspital_2015_07_08/GBM$ wc ../list_GBM.txt \n",
    "  1211   1211 274828 ../list_GBM.txt\n",
    "dueo@srv-lab-t-706:~/data/Inselspital_2015_07_08/GBM$ ls -l1R | grep dcm.iov | wc\n",
    "   1211   10899  142277\n",
    "```\n",
    "The same number of dcm.iov files as there are dcm files.\n",
    "\n",
    "The same for metastasis.\n",
    "\n",
    "```\n",
    "dueo@srv-lab-t-706:~/data/Inselspital_2015_07_08/metastasis$ wc ../list_meta.txt \n",
    "  1223   1223 288175 ../list_meta.txt\n",
    "dueo@srv-lab-t-706:~/data/Inselspital_2015_07_08/metastasis$ ls -l1R | grep dcm.iov | wc\n",
    "   1119   10071  132691\n",
    "```\n",
    "\n",
    "*There are some files missing in the metastasis case*\n"
   ]
  },
  {
   "cell_type": "code",
   "execution_count": 4,
   "metadata": {
    "collapsed": false
   },
   "outputs": [
    {
     "data": {
      "text/plain": [
       "pandas.core.series.Series"
      ]
     },
     "execution_count": 4,
     "metadata": {},
     "output_type": "execute_result"
    }
   ],
   "source": [
    "#dcm_files = pd.read_csv('/home/dueo/data/Inselspital_2015_07_08/list_GBM.txt', header=None)\n",
    "dcm_files = pd.read_csv('/home/dueo/data/Inselspital_2015_07_08/list_meta.txt', header=None)\n",
    "dcm_files = dcm_files.icol(0)\n",
    "type(dcm_files)"
   ]
  },
  {
   "cell_type": "markdown",
   "metadata": {},
   "source": [
    "### Creation of the pickeled objects"
   ]
  },
  {
   "cell_type": "code",
   "execution_count": 7,
   "metadata": {
    "collapsed": false
   },
   "outputs": [
    {
     "name": "stdout",
     "output_type": "stream",
     "text": [
      "--------->     Rescaling the Annotation\n",
      "(1, 256, 256) (1, 256, 256)4.0\n",
      "--------->     Rescaling the Annotation\n",
      "(1, 256, 256) (1, 256, 256)4.0\n",
      "--------->     Rescaling the Annotation\n",
      "(1, 256, 256) (1, 256, 256)4.0\n",
      "--------->     Rescaling the Annotation\n",
      "(1, 256, 256) (1, 256, 256)4.0\n",
      "--------->     Rescaling the Annotation\n",
      "(1, 256, 256) (1, 256, 256)4.0\n",
      "--------->     Rescaling the Annotation\n",
      "(1, 256, 256) (1, 256, 256)4.0\n",
      "--------->     Rescaling the Annotation\n",
      "(1, 256, 256) (1, 256, 256)4.0\n",
      "--------->     Rescaling the Annotation\n",
      "(1, 256, 256) (1, 256, 256)4.0\n",
      "--------->     Rescaling the Annotation\n",
      "(1, 256, 256) (1, 256, 256)4.0\n",
      "--------->     Rescaling the Annotation\n",
      "(1, 256, 256) (1, 256, 256)4.0\n",
      "--------->     Rescaling the Annotation\n",
      "(1, 256, 256) (1, 256, 256)4.0\n",
      "--------->     Rescaling the Annotation\n",
      "(1, 256, 256) (1, 256, 256)4.0\n",
      "--------->     Rescaling the Annotation\n",
      "(1, 256, 256) (1, 256, 256)4.0\n",
      "--------->     Rescaling the Annotation\n",
      "(1, 256, 256) (1, 256, 256)4.0\n",
      "--------->     Rescaling the Annotation\n",
      "(1, 256, 256) (1, 256, 256)4.0\n",
      "--------->     Rescaling the Annotation\n",
      "(1, 256, 256) (1, 256, 256)4.0\n",
      "--------->     Rescaling the Annotation\n",
      "(1, 256, 256) (1, 256, 256)4.0\n",
      "--------->     Rescaling the Annotation\n",
      "(1, 256, 256) (1, 256, 256)4.0\n",
      "--------->     Rescaling the Annotation\n",
      "(1, 256, 256) (1, 256, 256)4.0\n",
      "--------->     Rescaling the Annotation\n",
      "(1, 256, 256) (1, 256, 256)4.0\n",
      "--------->     Rescaling the Annotation\n",
      "(1, 256, 256) (1, 256, 256)4.0\n",
      "--------->     Rescaling the Annotation\n",
      "(1, 256, 256) (1, 256, 256)4.0\n",
      "--------->     Rescaling the Annotation\n",
      "(1, 256, 256) (1, 256, 256)4.0\n",
      "--------->     Rescaling the Annotation\n",
      "(1, 256, 256) (1, 256, 256)4.0\n",
      "--------->     Rescaling the Annotation\n",
      "(1, 256, 256) (1, 256, 256)4.0\n",
      "--------->     Rescaling the Annotation\n",
      "(1, 256, 256) (1, 256, 256)4.0\n",
      "--------->     Rescaling the Annotation\n",
      "(1, 256, 256) (1, 256, 256)4.0\n",
      "--------->     Rescaling the Annotation\n",
      "(1, 256, 256) (1, 256, 256)4.0\n",
      "--------->     Rescaling the Annotation\n",
      "(1, 256, 256) (1, 256, 256)4.0\n",
      "--------->     Rescaling the Annotation\n",
      "(1, 256, 256) (1, 256, 256)4.0\n",
      "--------->     Rescaling the Annotation\n",
      "(1, 256, 256) (1, 256, 256)4.0\n",
      "--------->     Rescaling the Annotation\n",
      "(1, 256, 256) (1, 256, 256)4.0\n",
      "--------->     Rescaling the Annotation\n",
      "(1, 256, 256) (1, 256, 256)4.0\n",
      "--------->     Rescaling the Annotation\n",
      "(1, 256, 256) (1, 256, 256)4.0\n",
      "--------->     Rescaling the Annotation\n",
      "(1, 256, 256) (1, 256, 256)4.0\n",
      "--------->     Rescaling the Annotation\n",
      "(1, 256, 256) (1, 256, 256)4.0\n",
      "--------->     Rescaling the Annotation\n",
      "(1, 256, 256) (1, 256, 256)4.0\n",
      "--------->     Rescaling the Annotation\n",
      "(1, 256, 256) (1, 256, 256)4.0\n",
      "--------->     Rescaling the Annotation\n",
      "(1, 256, 256) (1, 256, 256)4.0\n",
      "--------->     Rescaling the Annotation\n",
      "(1, 256, 256) (1, 256, 256)4.0\n",
      "--------->     Rescaling the Annotation\n",
      "(1, 256, 256) (1, 256, 256)4.0\n",
      "--------->     Rescaling the Annotation\n",
      "(1, 256, 256) (1, 256, 256)4.0\n",
      "--------->     Rescaling the Annotation\n",
      "(1, 256, 256) (1, 256, 256)4.0\n",
      "--------->     Rescaling the Annotation\n",
      "(1, 256, 256) (1, 256, 256)4.0\n",
      "--------->     Rescaling the Annotation\n",
      "(1, 256, 256) (1, 256, 256)4.0\n",
      "--------->     Rescaling the Annotation\n",
      "(1, 256, 256) (1, 256, 256)4.0\n",
      "--------->     Rescaling the Annotation\n",
      "(1, 256, 256) (1, 256, 256)4.0\n",
      "--------->     Rescaling the Annotation\n",
      "(1, 256, 256) (1, 256, 256)4.0\n",
      "--------->     Rescaling the Annotation\n",
      "(1, 256, 256) (1, 256, 256)4.0\n",
      "--------->     Rescaling the Annotation\n",
      "(1, 256, 256) (1, 256, 256)4.0\n",
      "--------->     Rescaling the Annotation\n",
      "(1, 256, 256) (1, 256, 256)4.0\n",
      "--------->     Rescaling the Annotation\n",
      "(1, 256, 256) (1, 256, 256)4.0\n",
      "--------->     Rescaling the Annotation\n",
      "(1, 256, 256) (1, 256, 256)4.0\n",
      "--------->     Rescaling the Annotation\n",
      "(1, 256, 256) (1, 256, 256)4.0\n",
      "--------->     Rescaling the Annotation\n",
      "(1, 256, 256) (1, 256, 256)4.0\n",
      "--------->     Rescaling the Annotation\n",
      "(1, 256, 256) (1, 256, 256)4.0\n",
      "--------->     Rescaling the Annotation\n",
      "(1, 256, 256) (1, 256, 256)4.0\n",
      "--------->     Rescaling the Annotation\n",
      "(1, 256, 256) (1, 256, 256)4.0\n",
      "--------->     Rescaling the Annotation\n",
      "(1, 256, 256) (1, 256, 256)4.0\n",
      "--------->     Rescaling the Annotation\n",
      "(1, 256, 256) (1, 256, 256)4.0\n",
      "--------->     Rescaling the Annotation\n",
      "(1, 256, 256) (1, 256, 256)4.0\n",
      "--------->     Rescaling the Annotation\n",
      "(1, 256, 256) (1, 256, 256)4.0\n",
      "--------->     Rescaling the Annotation\n",
      "(1, 256, 256) (1, 256, 256)4.0\n",
      "--------->     Rescaling the Annotation\n",
      "(1, 256, 256) (1, 256, 256)4.0\n",
      "--------->     Rescaling the Annotation\n",
      "(1, 256, 256) (1, 256, 256)4.0\n",
      "--------->     Rescaling the Annotation\n",
      "(1, 256, 256) (1, 256, 256)4.0\n",
      "--------->     Rescaling the Annotation\n",
      "(1, 256, 256) (1, 256, 256)4.0\n",
      "--------->     Rescaling the Annotation\n",
      "(1, 256, 256) (1, 256, 256)4.0\n",
      "--------->     Rescaling the Annotation\n",
      "(1, 256, 256) (1, 256, 256)4.0\n",
      "--------->     Rescaling the Annotation\n",
      "(1, 256, 256) (1, 256, 256)4.0\n",
      "--------->     Rescaling the Annotation\n",
      "(1, 256, 256) (1, 256, 256)4.0\n",
      "--------->     Rescaling the Annotation\n",
      "(1, 256, 256) (1, 256, 256)4.0\n",
      "--------->     Rescaling the Annotation\n",
      "(1, 256, 256) (1, 256, 256)4.0\n",
      "--------->     Rescaling the Annotation\n",
      "(1, 256, 256) (1, 256, 256)4.0\n",
      "--------->     Rescaling the Annotation\n",
      "(1, 256, 256) (1, 256, 256)4.0\n",
      "--------->     Rescaling the Annotation\n",
      "(1, 256, 256) (1, 256, 256)4.0\n",
      "--------->     Rescaling the Annotation\n",
      "(1, 256, 256) (1, 256, 256)4.0\n",
      "--------->     Rescaling the Annotation\n",
      "(1, 256, 256) (1, 256, 256)4.0\n",
      "--------->     Rescaling the Annotation\n",
      "(1, 256, 256) (1, 256, 256)4.0\n",
      "--------->     Rescaling the Annotation\n",
      "(1, 256, 256) (1, 256, 256)4.0\n",
      "--------->     Rescaling the Annotation\n",
      "(1, 256, 256) (1, 256, 256)4.0\n",
      "--------->     Rescaling the Annotation\n",
      "(1, 256, 256) (1, 256, 256)4.0\n",
      "--------->     Rescaling the Annotation\n",
      "(1, 256, 256) (1, 256, 256)4.0\n",
      "--------->     Rescaling the Annotation\n",
      "(1, 256, 256) (1, 256, 256)4.0\n",
      "--------->     Rescaling the Annotation\n",
      "(1, 256, 256) (1, 256, 256)4.0\n",
      "--------->     Rescaling the Annotation\n",
      "(1, 256, 256) (1, 256, 256)4.0\n",
      "--------->     Rescaling the Annotation\n",
      "(1, 256, 256) (1, 256, 256)4.0\n",
      "--------->     Rescaling the Annotation\n",
      "(1, 256, 256) (1, 256, 256)4.0\n",
      "--------->     Rescaling the Annotation\n",
      "(1, 256, 256) (1, 256, 256)4.0\n",
      "--------->     Rescaling the Annotation\n",
      "(1, 256, 256) (1, 256, 256)4.0\n",
      "--------->     Rescaling the Annotation\n",
      "(1, 256, 256) (1, 256, 256)4.0\n",
      "--------->     Rescaling the Annotation\n",
      "(1, 256, 256) (1, 256, 256)4.0\n",
      "--------->     Rescaling the Annotation\n",
      "(1, 256, 256) (1, 256, 256)4.0\n",
      "--------->     Rescaling the Annotation\n",
      "(1, 256, 256) (1, 256, 256)4.0\n",
      "--------->     Rescaling the Annotation\n",
      "(1, 256, 256) (1, 256, 256)4.0\n",
      "--------->     Rescaling the Annotation\n",
      "(1, 256, 256) (1, 256, 256)4.0\n",
      "--------->     Rescaling the Annotation\n",
      "(1, 256, 256) (1, 256, 256)4.0\n",
      "--------->     Rescaling the Annotation\n",
      "(1, 256, 256) (1, 256, 256)4.0\n",
      "--------->     Rescaling the Annotation\n",
      "(1, 256, 256) (1, 256, 256)4.0\n",
      "--------->     Rescaling the Annotation\n",
      "(1, 256, 256) (1, 256, 256)4.0\n",
      "--------->     Rescaling the Annotation\n",
      "(1, 256, 256) (1, 256, 256)4.0\n",
      "--------->     Rescaling the Annotation\n",
      "(1, 256, 256) (1, 256, 256)4.0\n",
      "--------->     Rescaling the Annotation\n",
      "(1, 256, 256) (1, 256, 256)4.0\n",
      "--------->     Rescaling the Annotation\n",
      "(1, 256, 256) (1, 256, 256)4.0\n",
      "--------->     Rescaling the Annotation\n",
      "(1, 256, 256) (1, 256, 256)4.0\n",
      "--------->     Rescaling the Annotation\n",
      "(1, 256, 256) (1, 256, 256)4.0\n",
      "--------->     Rescaling the Annotation\n",
      "(1, 256, 256) (1, 256, 256)4.0\n",
      "--------->     Rescaling the Annotation\n",
      "(1, 256, 256) (1, 256, 256)4.0\n",
      "--------->     Rescaling the Annotation\n",
      "(1, 256, 256) (1, 256, 256)4.0\n",
      "--------->     Rescaling the Annotation\n",
      "(1, 256, 256) (1, 256, 256)4.0\n",
      "--------->     Rescaling the Annotation\n",
      "(1, 256, 256) (1, 256, 256)4.0\n",
      "--------->     Rescaling the Annotation\n",
      "(1, 256, 256) (1, 256, 256)4.0\n",
      "--------->     Rescaling the Annotation\n",
      "(1, 256, 256) (1, 256, 256)4.0\n",
      "--------->     Rescaling the Annotation\n",
      "(1, 256, 256) (1, 256, 256)4.0\n",
      "--------->     Rescaling the Annotation\n",
      "(1, 256, 256) (1, 256, 256)4.0\n",
      "--------->     Rescaling the Annotation\n",
      "(1, 256, 256) (1, 256, 256)4.0\n",
      "Number of missings 104 Number of all slices 1003\n"
     ]
    }
   ],
   "source": [
    "\n",
    "missing = 0\n",
    "allSlices = 0 \n",
    "\n",
    "#numFiles = 1211 # For GBM\n",
    "numFiles = 1003  # For Metastasis\n",
    "\n",
    "X = np.zeros((numFiles,1,256,256)) #Change after all slices have been found\n",
    "Y = np.zeros((numFiles,1,256,256))\n",
    "Names = [None] * numFiles\n",
    "l = np.zeros(numFiles)\n",
    "for i, fileNameAbs in dcm_files.iteritems():\n",
    "    fn = os.path.basename(fileNameAbs)\n",
    "    pathName = os.path.dirname(fileNameAbs)\n",
    "    fnIOV = os.path.join(pathName, \"iov\", fn + str(\".iov\"))  \n",
    "    if os.path.exists(fnIOV) == False:\n",
    "        missing += 1\n",
    "    else:\n",
    "        Yp,l1 = readAnotations(fnIOV, len(fn) + 4) #We add '.iov'\n",
    "        plan = dicom.read_file(fileNameAbs)\n",
    "        Xp = plan.pixel_array\n",
    "        dd = cv2.resize(Xp,(256,256))\n",
    "        ddd = np.reshape(dd,(1,256,256))\n",
    "        ##\n",
    "        ## We only add if we have 256 pixel annotated in the \n",
    "        if (l1 != 256):\n",
    "            print(str(np.shape(Yp)) + \" \" + str(np.shape(ddd)) + str(np.max(Y[:,:,:,:])))\n",
    "        else:\n",
    "            l[allSlices] = l1 \n",
    "            X[allSlices,] = ddd\n",
    "            Y[allSlices,] = Yp\n",
    "            Names[allSlices] = fn\n",
    "            allSlices += 1\n",
    "        \n",
    "print(\"Number of missings \" + str(missing) + \" Number of all slices \" + str(allSlices))"
   ]
  },
  {
   "cell_type": "code",
   "execution_count": 8,
   "metadata": {
    "collapsed": false
   },
   "outputs": [
    {
     "data": {
      "text/plain": [
       "(array([65051859,    69261,   606988,     3608,      892,        0]),\n",
       " array([0, 1, 2, 3, 4, 5, 6]))"
      ]
     },
     "execution_count": 8,
     "metadata": {},
     "output_type": "execute_result"
    }
   ],
   "source": [
    "np.histogram(Y, bins=[0, 1, 2, 3,4,5,6])"
   ]
  },
  {
   "cell_type": "markdown",
   "metadata": {},
   "source": [
    "#### Small issue Y $\\in$ {0,1,2,3,4,5} for Metastatsis\n",
    "In the case of metastasis some values are outside the 0,1,2. This might be due to upscaling Y from 128x128 to 256x256, we ignore this for the moment. \n",
    "```\n",
    "(array([65051859,    69261,   606988,     3608,      892,        0]),\n",
    " array([0, 1, 2, 3, 4, 5, 6]))\n",
    "```"
   ]
  },
  {
   "cell_type": "code",
   "execution_count": 13,
   "metadata": {
    "collapsed": false
   },
   "outputs": [
    {
     "data": {
      "text/plain": [
       "(array([65056359,    69261,   606988,        0,        0,        0]),\n",
       " array([0, 1, 2, 3, 4, 5, 6]))"
      ]
     },
     "execution_count": 13,
     "metadata": {},
     "output_type": "execute_result"
    }
   ],
   "source": [
    "Y[Y == 3] = 0\n",
    "Y[Y == 4] = 0\n",
    "np.histogram(Y, bins=[0, 1, 2, 3,4,5,6])"
   ]
  },
  {
   "cell_type": "markdown",
   "metadata": {},
   "source": [
    "### Metastasis setting the tumor indicator from 2-->3\n",
    "For the later use it is convenient to set the tumor indicator to 3 in the case of metastasis. So we have:\n",
    "\n",
    "* 0 Not Marked\n",
    "* 1 Tumour (GBM)\n",
    "* 2 Tumour (Metastasis)"
   ]
  },
  {
   "cell_type": "code",
   "execution_count": 14,
   "metadata": {
    "collapsed": false
   },
   "outputs": [
    {
     "data": {
      "text/plain": [
       "(array([65056359,    69261,        0,   606988,        0,        0]),\n",
       " array([0, 1, 2, 3, 4, 5, 6]))"
      ]
     },
     "execution_count": 14,
     "metadata": {},
     "output_type": "execute_result"
    }
   ],
   "source": [
    "Y[Y == 2] = 3\n",
    "np.histogram(Y, bins=[0, 1, 2, 3,4,5,6])"
   ]
  },
  {
   "cell_type": "code",
   "execution_count": 15,
   "metadata": {
    "collapsed": false
   },
   "outputs": [
    {
     "name": "stdout",
     "output_type": "stream",
     "text": [
      "1002\n",
      "total 3.1G\r\n",
      "drwxr-xr-x 62 dueo dueo  4.0K Jun  5 04:43 \u001b[0m\u001b[01;34mGBM\u001b[0m/\r\n",
      "-r--r--r--  1 dueo dueo  1.1G Jul 16 17:31 GBM.pickle\r\n",
      "-rw-r--r--  1 dueo dueo  509M Jun 18 16:22 GBM.zip\r\n",
      "-rw-r--r--  1 dueo dueo  269K Jun 23 13:05 list_GBM.txt\r\n",
      "-rw-r--r--  1 dueo dueo  282K Jun 23 13:07 list_meta.txt\r\n",
      "-rw-r--r--  1 dueo dueo 1003M Jul 17 14:01 META.pickle\r\n",
      "drwxr-xr-x 68 dueo dueo  4.0K Jun  5 05:26 \u001b[01;34mmetastasis\u001b[0m/\r\n",
      "-rw-r--r--  1 dueo dueo  455M Jun 18 16:21 metastasis.zip\r\n"
     ]
    }
   ],
   "source": [
    "import pickle\n",
    "np.shape(X)\n",
    "np.shape(Y)\n",
    "Names[1]\n",
    "maxIdx = allSlices - 1\n",
    "print(maxIdx)\n",
    "with open('/home/dueo/data/Inselspital_2015_07_08/META.pickle', 'wb') as f:\n",
    "    pickle.dump((Names[0:maxIdx],X[0:maxIdx,:,:,:],Y[0:maxIdx,:,:,:],l[0:maxIdx]), f, -1)\n",
    "%ls -lh /home/dueo/data/Inselspital_2015_07_08/"
   ]
  },
  {
   "cell_type": "code",
   "execution_count": null,
   "metadata": {
    "collapsed": true
   },
   "outputs": [],
   "source": []
  }
 ],
 "metadata": {
  "kernelspec": {
   "display_name": "Python 2",
   "language": "python",
   "name": "python2"
  },
  "language_info": {
   "codemirror_mode": {
    "name": "ipython",
    "version": 2
   },
   "file_extension": ".py",
   "mimetype": "text/x-python",
   "name": "python",
   "nbconvert_exporter": "python",
   "pygments_lexer": "ipython2",
   "version": "2.7.3"
  }
 },
 "nbformat": 4,
 "nbformat_minor": 0
}
