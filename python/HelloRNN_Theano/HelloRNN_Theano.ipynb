{
 "cells": [
  {
   "cell_type": "markdown",
   "metadata": {},
   "source": [
    "### A Very simple RNN \n",
    "The code and the example is taken from http://christianherta.de/lehre/dataScience/machineLearning/neuralNetworks/LSTM.php"
   ]
  },
  {
   "cell_type": "code",
   "execution_count": 21,
   "metadata": {
    "collapsed": false
   },
   "outputs": [],
   "source": [
    "import numpy as np\n",
    "import theano\n",
    "import theano.tensor as T\n",
    "\n",
    "dtype=theano.config.floatX"
   ]
  },
  {
   "cell_type": "code",
   "execution_count": 22,
   "metadata": {
    "collapsed": true
   },
   "outputs": [],
   "source": [
    "sigma = lambda x: 1 / (1 + T.exp(-x))\n",
    "\n",
    "\n",
    "# for the other activation function we use the tanh\n",
    "act = T.tanh\n",
    "\n",
    "# sequences: x_t\n",
    "# prior results: h_tm1, c_tm1\n",
    "# non-sequences: W_xi, W_hi, W_ci, b_i, W_xf, W_hf, W_cf, b_f, W_xc, W_hc, b_c, W_xy, W_hy, W_cy, b_y\n",
    "def one_lstm_step(x_t, h_tm1, c_tm1, W_xi, W_hi, W_ci, b_i, W_xf, W_hf, W_cf, b_f, W_xc, W_hc, b_c, W_xy, W_ho, W_cy, b_o, W_hy, b_y):\n",
    "    i_t = sigma(theano.dot(x_t, W_xi) + theano.dot(h_tm1, W_hi) + theano.dot(c_tm1, W_ci) + b_i)\n",
    "    f_t = sigma(theano.dot(x_t, W_xf) + theano.dot(h_tm1, W_hf) + theano.dot(c_tm1, W_cf) + b_f)\n",
    "    c_t = f_t * c_tm1 + i_t * act(theano.dot(x_t, W_xc) + theano.dot(h_tm1, W_hc) + b_c) \n",
    "    o_t = sigma(theano.dot(x_t, W_xo)+ theano.dot(h_tm1, W_ho) + theano.dot(c_t, W_co)  + b_o)\n",
    "    h_t = o_t * act(c_t)\n",
    "    y_t = sigma(theano.dot(h_t, W_hy) + b_y) \n",
    "    return [h_t, c_t, y_t]"
   ]
  },
  {
   "cell_type": "code",
   "execution_count": 14,
   "metadata": {
    "collapsed": true
   },
   "outputs": [],
   "source": [
    "#TODO: Use a more appropriate initialization method\n",
    "def sample_weights(sizeX, sizeY):\n",
    "    values = np.ndarray([sizeX, sizeY], dtype=dtype)\n",
    "    for dx in xrange(sizeX):\n",
    "        vals = np.random.uniform(low=-1., high=1.,  size=(sizeY,))\n",
    "        #vals_norm = np.sqrt((vals**2).sum())\n",
    "        #vals = vals / vals_norm\n",
    "        values[dx,:] = vals\n",
    "    _,svs,_ = np.linalg.svd(values)\n",
    "    #svs[0] is the largest singular value                      \n",
    "    values = values / svs[0]\n",
    "    return values  "
   ]
  },
  {
   "cell_type": "code",
   "execution_count": 23,
   "metadata": {
    "collapsed": true
   },
   "outputs": [],
   "source": [
    "n_in = 7 # for embedded reber grammar\n",
    "n_hidden = n_i = n_c = n_o = n_f = 10\n",
    "n_y = 7 # for embedded reber grammar\n",
    "\n",
    "# initialize weights\n",
    "# i_t and o_t should be \"open\" or \"closed\"\n",
    "# f_t should be \"open\" (don't forget at the beginning of training)\n",
    "# we try to archive this by appropriate initialization of the corresponding biases \n",
    "\n",
    "W_xi = theano.shared(sample_weights(n_in, n_i))  \n",
    "W_hi = theano.shared(sample_weights(n_hidden, n_i))  \n",
    "W_ci = theano.shared(sample_weights(n_c, n_i))  \n",
    "b_i = theano.shared(np.cast[dtype](np.random.uniform(-0.5,.5,size = n_i)))\n",
    "W_xf = theano.shared(sample_weights(n_in, n_f)) \n",
    "W_hf = theano.shared(sample_weights(n_hidden, n_f))\n",
    "W_cf = theano.shared(sample_weights(n_c, n_f))\n",
    "b_f = theano.shared(np.cast[dtype](np.random.uniform(0, 1.,size = n_f)))\n",
    "W_xc = theano.shared(sample_weights(n_in, n_c))  \n",
    "W_hc = theano.shared(sample_weights(n_hidden, n_c))\n",
    "b_c = theano.shared(np.zeros(n_c, dtype=dtype))\n",
    "W_xo = theano.shared(sample_weights(n_in, n_o))\n",
    "W_ho = theano.shared(sample_weights(n_hidden, n_o))\n",
    "W_co = theano.shared(sample_weights(n_c, n_o))\n",
    "b_o = theano.shared(np.cast[dtype](np.random.uniform(-0.5,.5,size = n_o)))\n",
    "W_hy = theano.shared(sample_weights(n_hidden, n_y))\n",
    "b_y = theano.shared(np.zeros(n_y, dtype=dtype))\n",
    "\n",
    "c0 = theano.shared(np.zeros(n_hidden, dtype=dtype))\n",
    "h0 = T.tanh(c0)\n",
    "\n",
    "params = [W_xi, W_hi, W_ci, b_i, W_xf, W_hf, W_cf, b_f, W_xc, W_hc, b_c, W_xo, W_ho, W_co, b_o, W_hy, b_y, c0]"
   ]
  },
  {
   "cell_type": "code",
   "execution_count": 24,
   "metadata": {
    "collapsed": true
   },
   "outputs": [],
   "source": [
    "#first dimension is time\n",
    "\n",
    "#input \n",
    "v = T.matrix(dtype=dtype)\n",
    "\n",
    "# target\n",
    "target = T.matrix(dtype=dtype)"
   ]
  },
  {
   "cell_type": "code",
   "execution_count": 25,
   "metadata": {
    "collapsed": true
   },
   "outputs": [],
   "source": [
    "# hidden and outputs of the entire sequence\n",
    "[h_vals, _, y_vals], _ = theano.scan(fn=one_lstm_step, \n",
    "                                  sequences = dict(input=v, taps=[0]), \n",
    "                                  outputs_info = [h0, c0, None ], # corresponds to return type of fn\n",
    "                                  non_sequences = [W_xi, W_hi, W_ci, b_i, W_xf, W_hf, W_cf, b_f, W_xc, W_hc, b_c, W_xo, W_ho, W_co, b_o, W_hy, b_y] )"
   ]
  },
  {
   "cell_type": "code",
   "execution_count": 26,
   "metadata": {
    "collapsed": true
   },
   "outputs": [],
   "source": [
    "cost = -T.mean(target * T.log(y_vals)+ (1.- target) * T.log(1. - y_vals))"
   ]
  },
  {
   "cell_type": "code",
   "execution_count": 34,
   "metadata": {
    "collapsed": true
   },
   "outputs": [],
   "source": [
    "# learning rate\n",
    "lr = np.cast[dtype](.1)\n",
    "learning_rate = theano.shared(lr)"
   ]
  },
  {
   "cell_type": "code",
   "execution_count": 35,
   "metadata": {
    "collapsed": false
   },
   "outputs": [],
   "source": [
    "gparams = []\n",
    "for param in params:\n",
    "  gparam = T.grad(cost, param)\n",
    "  gparams.append(gparam)\n",
    "\n",
    "updates=[]\n",
    "for param, gparam in zip(params, gparams):\n",
    "    updates.append((param, param - gparam * learning_rate))"
   ]
  },
  {
   "cell_type": "code",
   "execution_count": 36,
   "metadata": {
    "collapsed": true
   },
   "outputs": [],
   "source": [
    "import reberGrammar\n",
    "train_data = reberGrammar.get_n_embedded_examples(50)"
   ]
  },
  {
   "cell_type": "code",
   "execution_count": 37,
   "metadata": {
    "collapsed": false
   },
   "outputs": [
    {
     "data": {
      "text/plain": [
       "(18,\n",
       " 18,\n",
       " ([array([ 1.,  0.,  0.,  0.,  0.,  0.,  0.]),\n",
       "   array([ 0.,  1.,  0.,  0.,  0.,  0.,  0.]),\n",
       "   array([ 1.,  0.,  0.,  0.,  0.,  0.,  0.]),\n",
       "   array([ 0.,  0.,  0.,  0.,  1.,  0.,  0.]),\n",
       "   array([ 0.,  1.,  0.,  0.,  0.,  0.,  0.]),\n",
       "   array([ 0.,  1.,  0.,  0.,  0.,  0.,  0.]),\n",
       "   array([ 0.,  1.,  0.,  0.,  0.,  0.,  0.]),\n",
       "   array([ 0.,  0.,  0.,  0.,  0.,  1.,  0.]),\n",
       "   array([ 0.,  0.,  0.,  0.,  1.,  0.,  0.]),\n",
       "   array([ 0.,  0.,  0.,  1.,  0.,  0.,  0.]),\n",
       "   array([ 0.,  1.,  0.,  0.,  0.,  0.,  0.]),\n",
       "   array([ 0.,  1.,  0.,  0.,  0.,  0.,  0.]),\n",
       "   array([ 0.,  1.,  0.,  0.,  0.,  0.,  0.]),\n",
       "   array([ 0.,  1.,  0.,  0.,  0.,  0.,  0.]),\n",
       "   array([ 0.,  0.,  0.,  0.,  0.,  1.,  0.]),\n",
       "   array([ 0.,  0.,  0.,  0.,  0.,  1.,  0.]),\n",
       "   array([ 0.,  0.,  0.,  0.,  0.,  0.,  1.]),\n",
       "   array([ 0.,  1.,  0.,  0.,  0.,  0.,  0.])],\n",
       "  [array([ 0.,  1.,  0.,  0.,  1.,  0.,  0.]),\n",
       "   array([ 1.,  0.,  0.,  0.,  0.,  0.,  0.]),\n",
       "   array([ 0.,  1.,  0.,  0.,  1.,  0.,  0.]),\n",
       "   array([ 0.,  1.,  0.,  0.,  0.,  1.,  0.]),\n",
       "   array([ 0.,  1.,  0.,  0.,  0.,  1.,  0.]),\n",
       "   array([ 0.,  1.,  0.,  0.,  0.,  1.,  0.]),\n",
       "   array([ 0.,  1.,  0.,  0.,  0.,  1.,  0.]),\n",
       "   array([ 0.,  0.,  0.,  0.,  1.,  1.,  0.]),\n",
       "   array([ 0.,  0.,  1.,  1.,  0.,  0.,  0.]),\n",
       "   array([ 0.,  1.,  0.,  0.,  0.,  1.,  0.]),\n",
       "   array([ 0.,  1.,  0.,  0.,  0.,  1.,  0.]),\n",
       "   array([ 0.,  1.,  0.,  0.,  0.,  1.,  0.]),\n",
       "   array([ 0.,  1.,  0.,  0.,  0.,  1.,  0.]),\n",
       "   array([ 0.,  1.,  0.,  0.,  0.,  1.,  0.]),\n",
       "   array([ 0.,  0.,  0.,  0.,  1.,  1.,  0.]),\n",
       "   array([ 0.,  0.,  0.,  0.,  0.,  0.,  1.]),\n",
       "   array([ 0.,  1.,  0.,  0.,  0.,  0.,  0.]),\n",
       "   array([ 0.,  0.,  0.,  0.,  0.,  0.,  1.])]))"
      ]
     },
     "execution_count": 37,
     "metadata": {},
     "output_type": "execute_result"
    }
   ],
   "source": [
    "len(train_data[21][0]),len(train_data[21][1]), train_data[21]\n",
    "# \n",
    "\n"
   ]
  },
  {
   "cell_type": "code",
   "execution_count": 38,
   "metadata": {
    "collapsed": false
   },
   "outputs": [
    {
     "name": "stderr",
     "output_type": "stream",
     "text": [
      "/usr/local/lib/python2.7/dist-packages/theano/tensor/opt.py:2326: FutureWarning: comparison to `None` will result in an elementwise object comparison in the future.\n",
      "  if (replace_x == replace_y and\n",
      "/usr/local/lib/python2.7/dist-packages/theano/scan_module/scan_perform_ext.py:133: RuntimeWarning: numpy.ndarray size changed, may indicate binary incompatibility\n",
      "  from scan_perform.scan_perform import *\n"
     ]
    }
   ],
   "source": [
    "learn_rnn_fn = theano.function(inputs = [v, target],\n",
    "                               outputs = cost,\n",
    "                               updates = updates)"
   ]
  },
  {
   "cell_type": "code",
   "execution_count": null,
   "metadata": {
    "collapsed": true
   },
   "outputs": [],
   "source": []
  },
  {
   "cell_type": "code",
   "execution_count": 39,
   "metadata": {
    "collapsed": false
   },
   "outputs": [
    {
     "name": "stdout",
     "output_type": "stream",
     "text": [
      "0\n",
      "1\n",
      "2\n",
      "3\n",
      "4\n",
      "5\n",
      "6\n",
      "7\n",
      "8\n",
      "9\n",
      "10\n",
      "11\n",
      "12\n",
      "13\n",
      "14\n",
      "15\n",
      "16\n",
      "17\n",
      "18\n",
      "19\n"
     ]
    }
   ],
   "source": [
    "nb_epochs=20\n",
    "train_errors = np.ndarray(nb_epochs)\n",
    "def train_rnn(train_data):      \n",
    "  for x in range(nb_epochs):\n",
    "    error = 0.\n",
    "    print(x)\n",
    "    for j in range(len(train_data)):  \n",
    "        index = np.random.randint(0, len(train_data))\n",
    "        i, o = train_data[index] #Ein Beispiel im Trainingset\n",
    "        train_cost = learn_rnn_fn(i, o)\n",
    "        error += train_cost\n",
    "    train_errors[x] = error \n",
    "    \n",
    "train_rnn(train_data)"
   ]
  },
  {
   "cell_type": "code",
   "execution_count": 40,
   "metadata": {
    "collapsed": false
   },
   "outputs": [
    {
     "data": {
      "text/plain": [
       "(0.0, 50)"
      ]
     },
     "execution_count": 40,
     "metadata": {},
     "output_type": "execute_result"
    },
    {
     "data": {
      "image/png": "[encoded data removed]",
      "text/plain": [
       "<matplotlib.figure.Figure at 0x223a2a10>"
      ]
     },
     "metadata": {},
     "output_type": "display_data"
    }
   ],
   "source": [
    "%matplotlib inline\n",
    "import matplotlib.pyplot as plt\n",
    "plt.plot(np.arange(nb_epochs), train_errors, 'b-')\n",
    "plt.xlabel('epochs')\n",
    "plt.ylabel('error')\n",
    "plt.ylim(0., 50)"
   ]
  },
  {
   "cell_type": "code",
   "execution_count": 41,
   "metadata": {
    "collapsed": false
   },
   "outputs": [
    {
     "data": {
      "text/plain": [
       "<TensorType(float32, matrix)>"
      ]
     },
     "execution_count": 41,
     "metadata": {},
     "output_type": "execute_result"
    }
   ],
   "source": [
    "target"
   ]
  },
  {
   "cell_type": "code",
   "execution_count": 42,
   "metadata": {
    "collapsed": false
   },
   "outputs": [
    {
     "data": {
      "text/plain": [
       "for{cpu,scan_fn}.2"
      ]
     },
     "execution_count": 42,
     "metadata": {},
     "output_type": "execute_result"
    }
   ],
   "source": [
    "y_vals"
   ]
  },
  {
   "cell_type": "code",
   "execution_count": null,
   "metadata": {
    "collapsed": true
   },
   "outputs": [],
   "source": [
    "    "
   ]
  }
 ],
 "metadata": {
  "kernelspec": {
   "display_name": "Python 2",
   "language": "python",
   "name": "python2"
  },
  "language_info": {
   "codemirror_mode": {
    "name": "ipython",
    "version": 2
   },
   "file_extension": ".py",
   "mimetype": "text/x-python",
   "name": "python",
   "nbconvert_exporter": "python",
   "pygments_lexer": "ipython2",
   "version": "2.7.3"
  }
 },
 "nbformat": 4,
 "nbformat_minor": 0
}
