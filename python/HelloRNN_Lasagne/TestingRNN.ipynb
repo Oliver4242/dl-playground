{
 "cells": [
  {
   "cell_type": "markdown",
   "metadata": {},
   "source": [
    "## The following code is taken from\n",
    "\n",
    "https://github.com/Lasagne/Lasagne/blob/master/examples/recurrent.py"
   ]
  },
  {
   "cell_type": "markdown",
   "metadata": {},
   "source": [
    "## Links:\n",
    "* http://larseidnes.com/2015/10/13/auto-generating-clickbait-with-recurrent-neural-networks/"
   ]
  },
  {
   "cell_type": "code",
   "execution_count": 1,
   "metadata": {
    "collapsed": true
   },
   "outputs": [],
   "source": [
    "import numpy as np\n",
    "import theano\n",
    "import theano.tensor as T\n",
    "import lasagne"
   ]
  },
  {
   "cell_type": "code",
   "execution_count": 2,
   "metadata": {
    "collapsed": true
   },
   "outputs": [],
   "source": [
    "# Min/max sequence length\n",
    "MIN_LENGTH = 50\n",
    "MAX_LENGTH = 55\n",
    "# Number of units in the hidden (recurrent) layer\n",
    "N_HIDDEN = 100\n",
    "# Number of training sequences in each batch\n",
    "N_BATCH = 100\n",
    "# Optimization learning rate\n",
    "LEARNING_RATE = .001\n",
    "# All gradients above this will be clipped\n",
    "GRAD_CLIP = 100\n",
    "# How often should we check the output?\n",
    "EPOCH_SIZE = 100\n",
    "# Number of epochs to train the net\n",
    "NUM_EPOCHS = 10"
   ]
  },
  {
   "cell_type": "code",
   "execution_count": 3,
   "metadata": {
    "collapsed": false
   },
   "outputs": [],
   "source": [
    "def gen_data(min_length=MIN_LENGTH, max_length=MAX_LENGTH, n_batch=N_BATCH):\n",
    "    '''\n",
    "    Generate a batch of sequences for the \"add\" task, e.g. the target for the\n",
    "    following\n",
    "    ``| 0.5 | 0.7 | 0.3 | 0.1 | 0.2 | ... | 0.5 | 0.9 | ... | 0.8 | 0.2 |\n",
    "      |  0  |  0  |  1  |  0  |  0  |     |  0  |  1  |     |  0  |  0  |``\n",
    "    would be 0.3 + .9 = 1.2.  This task was proposed in [1]_ and explored in\n",
    "    e.g. [2]_.\n",
    "    Parameters\n",
    "    ----------\n",
    "    min_length : int\n",
    "        Minimum sequence length.\n",
    "    max_length : int\n",
    "        Maximum sequence length.\n",
    "    n_batch : int\n",
    "        Number of samples in the batch.\n",
    "    Returns\n",
    "    -------\n",
    "    X : np.ndarray\n",
    "        Input to the network, of shape (n_batch, max_length, 2), where the last\n",
    "        dimension corresponds to the two sequences shown above.\n",
    "    y : np.ndarray\n",
    "        Correct output for each sample, shape (n_batch,).\n",
    "    mask : np.ndarray\n",
    "        A binary matrix of shape (n_batch, max_length) where ``mask[i, j] = 1``\n",
    "        when ``j <= (length of sequence i)`` and ``mask[i, j] = 0`` when ``j >\n",
    "        (length of sequence i)``.\n",
    "    References\n",
    "    ----------\n",
    "    .. [1] Hochreiter, Sepp, and Jürgen Schmidhuber. \"Long short-term memory.\"\n",
    "    Neural computation 9.8 (1997): 1735-1780.\n",
    "    .. [2] Sutskever, Ilya, et al. \"On the importance of initialization and\n",
    "    momentum in deep learning.\" Proceedings of the 30th international\n",
    "    conference on machine learning (ICML-13). 2013.\n",
    "    '''\n",
    "    # Generate X - we'll fill the last dimension later\n",
    "    X = np.concatenate([np.random.uniform(size=(n_batch, max_length, 1)),\n",
    "                        np.zeros((n_batch, max_length, 1))],\n",
    "                       axis=-1)\n",
    "    mask = np.zeros((n_batch, max_length))\n",
    "    y = np.zeros((n_batch,))\n",
    "    # Compute masks and correct values\n",
    "    for n in range(n_batch):\n",
    "        # Randomly choose the sequence length\n",
    "        length = np.random.randint(min_length, max_length)\n",
    "        # Make the mask for this sample 1 within the range of length\n",
    "        mask[n, :length] = 1\n",
    "        # Zero out X after the end of the sequence\n",
    "        X[n, length:, 0] = 0\n",
    "        # Set the second dimension to 1 at the indices to add\n",
    "        X[n, np.random.randint(length/10), 1] = 1\n",
    "        X[n, np.random.randint(length/2, length), 1] = 1\n",
    "        # Multiply and sum the dimensions of X to get the target value\n",
    "        y[n] = np.sum(X[n, :, 0]*X[n, :, 1])\n",
    "    # Center the inputs and outputs\n",
    "    X -= X.reshape(-1, 2).mean(axis=0)\n",
    "    y -= y.mean()\n",
    "    return (X.astype(theano.config.floatX), y.astype(theano.config.floatX),\n",
    "            mask.astype(theano.config.floatX))"
   ]
  },
  {
   "cell_type": "code",
   "execution_count": 4,
   "metadata": {
    "collapsed": false
   },
   "outputs": [
    {
     "data": {
      "text/plain": [
       "((2, 100, 2), (2,))"
      ]
     },
     "execution_count": 4,
     "metadata": {},
     "output_type": "execute_result"
    }
   ],
   "source": [
    "X,y,_ = gen_data(50,100,2)\n",
    "X.shape, y.shape"
   ]
  },
  {
   "cell_type": "code",
   "execution_count": 5,
   "metadata": {
    "collapsed": false
   },
   "outputs": [
    {
     "data": {
      "text/plain": [
       "(-0.035145752, -0.24909703)"
      ]
     },
     "execution_count": 5,
     "metadata": {},
     "output_type": "execute_result"
    }
   ],
   "source": [
    "np.sum(X[0,:,0]*X[0,:,1]), y[0]"
   ]
  },
  {
   "cell_type": "code",
   "execution_count": 6,
   "metadata": {
    "collapsed": false
   },
   "outputs": [
    {
     "name": "stdout",
     "output_type": "stream",
     "text": [
      "Building network ...\n"
     ]
    }
   ],
   "source": [
    "num_epochs=NUM_EPOCHS\n",
    "print(\"Building network ...\")\n",
    "# First, we build the network, starting with an input layer\n",
    "# Recurrent layers expect input of shape\n",
    "# (batch size, max sequence length, number of features)\n",
    "l_in = lasagne.layers.InputLayer(shape=(N_BATCH, MAX_LENGTH, 2))\n",
    "# The network also needs a way to provide a mask for each sequence.  We'll\n",
    "# use a separate input layer for that.  Since the mask only determines\n",
    "# which indices are part of the sequence for each batch entry, they are\n",
    "# supplied as matrices of dimensionality (N_BATCH, MAX_LENGTH)\n",
    "l_mask = lasagne.layers.InputLayer(shape=(N_BATCH, MAX_LENGTH))\n",
    "# We're using a bidirectional network, which means we will combine two\n",
    "# RecurrentLayers, one with the backwards=True keyword argument.\n",
    "# Setting a value for grad_clipping will clip the gradients in the layer\n",
    "l_forward = lasagne.layers.RecurrentLayer(\n",
    "    l_in, N_HIDDEN, mask_input=l_mask, grad_clipping=GRAD_CLIP,\n",
    "    W_in_to_hid=lasagne.init.HeUniform(),\n",
    "    W_hid_to_hid=lasagne.init.HeUniform(),\n",
    "    nonlinearity=lasagne.nonlinearities.tanh)\n",
    "l_backward = lasagne.layers.RecurrentLayer(\n",
    "    l_in, N_HIDDEN, mask_input=l_mask, grad_clipping=GRAD_CLIP,\n",
    "    W_in_to_hid=lasagne.init.HeUniform(),\n",
    "    W_hid_to_hid=lasagne.init.HeUniform(),\n",
    "    nonlinearity=lasagne.nonlinearities.tanh, backwards=True)\n",
    "# The objective of this task depends only on the final value produced by\n",
    "# the network.  So, we'll use SliceLayers to extract the LSTM layer's\n",
    "# output after processing the entire input sequence.  For the forward\n",
    "# layer, this corresponds to the last value of the second (sequence length)\n",
    "# dimension.\n",
    "l_forward_slice = lasagne.layers.SliceLayer(l_forward, -1, 1)\n",
    "# For the backwards layer, the first index actually corresponds to the\n",
    "# final output of the network, as it processes the sequence backwards.\n",
    "l_backward_slice = lasagne.layers.SliceLayer(l_backward, 0, 1)\n",
    "# Now, we'll concatenate the outputs to combine them.\n",
    "l_sum = lasagne.layers.ConcatLayer([l_forward_slice, l_backward_slice])\n",
    "# Our output layer is a simple dense connection, with 1 output unit\n",
    "l_out = lasagne.layers.DenseLayer(\n",
    "    l_sum, num_units=1, nonlinearity=lasagne.nonlinearities.tanh)\n",
    "\n",
    "target_values = T.vector('target_output')"
   ]
  },
  {
   "cell_type": "code",
   "execution_count": 8,
   "metadata": {
    "collapsed": false
   },
   "outputs": [
    {
     "data": {
      "text/plain": [
       "theano.tensor.var.TensorVariable"
      ]
     },
     "execution_count": 8,
     "metadata": {},
     "output_type": "execute_result"
    }
   ],
   "source": [
    "type(l_in.input_var)"
   ]
  },
  {
   "cell_type": "code",
   "execution_count": 21,
   "metadata": {
    "collapsed": false
   },
   "outputs": [
    {
     "name": "stdout",
     "output_type": "stream",
     "text": [
      "Building network ...\n",
      "Computing updates ...\n",
      "Compiling functions ..."
     ]
    },
    {
     "name": "stderr",
     "output_type": "stream",
     "text": [
      "/Library/Python/2.7/site-packages/theano/scan_module/scan.py:1019: Warning: In the strict mode, all neccessary shared variables must be passed as a part of non_sequences\n",
      "  'must be passed as a part of non_sequences', Warning)\n",
      "/Library/Python/2.7/site-packages/theano/scan_module/scan_perform_ext.py:135: RuntimeWarning: numpy.ndarray size changed, may indicate binary incompatibility\n",
      "  from scan_perform.scan_perform import *\n"
     ]
    },
    {
     "name": "stdout",
     "output_type": "stream",
     "text": [
      "\n",
      "Training ...\n",
      "Epoch 0 validation cost = 0.12179414928\n",
      "Epoch 1 validation cost = 0.0953123867512\n",
      "Epoch 2 validation cost = 0.0486249364913\n",
      "Epoch 3 validation cost = 0.033335134387\n",
      "Epoch 4 validation cost = 0.0285040158778\n",
      "Epoch 5 validation cost = 0.0206038635224\n",
      "Epoch 6 validation cost = 0.0202161911875\n",
      "Epoch 7 validation cost = 0.0213940031826\n",
      "Epoch 8 validation cost = 0.0147532345727\n",
      "Epoch 9 validation cost = 0.022528026253\n"
     ]
    }
   ],
   "source": [
    "# lasagne.layers.get_output produces a variable for the output of the net\n",
    "network_output = lasagne.layers.get_output(l_out)\n",
    "# The value we care about is the final value produced for each sequence\n",
    "predicted_values = network_output[:, -1]\n",
    "# Our cost will be mean-squared error\n",
    "cost = T.mean((predicted_values - target_values)**2)\n",
    "# Retrieve all parameters from the network\n",
    "all_params = lasagne.layers.get_all_params(l_out)\n",
    "# Compute SGD updates for training\n",
    "print(\"Computing updates ...\")\n",
    "updates = lasagne.updates.adagrad(cost, all_params, LEARNING_RATE)\n",
    "# Theano functions for training and computing cost\n",
    "print(\"Compiling functions ...\")\n",
    "train = theano.function([l_in.input_var, target_values, l_mask.input_var],\n",
    "                        cost, updates=updates)\n",
    "compute_cost = theano.function(\n",
    "    [l_in.input_var, target_values, l_mask.input_var], cost)\n",
    "\n",
    "# We'll use this \"validation set\" to periodically check progress\n",
    "X_val, y_val, mask_val = gen_data()\n",
    "\n",
    "print(\"Training ...\")\n",
    "try:\n",
    "    for epoch in range(num_epochs):\n",
    "        for _ in range(EPOCH_SIZE):\n",
    "            X, y, m = gen_data()\n",
    "            train(X, y, m)\n",
    "        cost_val = compute_cost(X_val, y_val, mask_val)\n",
    "        print(\"Epoch {} validation cost = {}\".format(epoch, cost_val))\n",
    "except KeyboardInterrupt:\n",
    "    pass"
   ]
  },
  {
   "cell_type": "code",
   "execution_count": null,
   "metadata": {
    "collapsed": true
   },
   "outputs": [],
   "source": []
  }
 ],
 "metadata": {
  "kernelspec": {
   "display_name": "Python 2",
   "language": "python",
   "name": "python2"
  },
  "language_info": {
   "codemirror_mode": {
    "name": "ipython",
    "version": 2
   },
   "file_extension": ".py",
   "mimetype": "text/x-python",
   "name": "python",
   "nbconvert_exporter": "python",
   "pygments_lexer": "ipython2",
   "version": "2.7.10"
  }
 },
 "nbformat": 4,
 "nbformat_minor": 0
}
