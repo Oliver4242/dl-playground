{
 "cells": [
  {
   "cell_type": "markdown",
   "metadata": {},
   "source": [
    "## The following code is taken from\n",
    "\n",
    "https://github.com/Lasagne/Lasagne/blob/master/examples/recurrent.py"
   ]
  },
  {
   "cell_type": "markdown",
   "metadata": {},
   "source": [
    "## Links:\n",
    "* http://larseidnes.com/2015/10/13/auto-generating-clickbait-with-recurrent-neural-networks/"
   ]
  },
  {
   "cell_type": "code",
   "execution_count": 1,
   "metadata": {
    "collapsed": true
   },
   "outputs": [],
   "source": [
    "import numpy as np\n",
    "import theano\n",
    "import theano.tensor as T\n",
    "import lasagne\n",
    "from lasagne.layers import *\n",
    "import time"
   ]
  },
  {
   "cell_type": "code",
   "execution_count": 2,
   "metadata": {
    "collapsed": false
   },
   "outputs": [],
   "source": [
    "# X.shape 1759\n",
    "idx_train = 1055\n",
    "idx_val   = 1055 + 350"
   ]
  },
  {
   "cell_type": "code",
   "execution_count": 3,
   "metadata": {
    "collapsed": true
   },
   "outputs": [],
   "source": [
    "import pandas as pd\n",
    "import numpy as np"
   ]
  },
  {
   "cell_type": "code",
   "execution_count": 4,
   "metadata": {
    "collapsed": false
   },
   "outputs": [
    {
     "data": {
      "text/plain": [
       "(     id  X2  X3  X4  X5  X6  X7  X8  X9  X10    ...     X29  X30  X31  X32  \\\n",
       " 0  2358   0   0   0   0   0   0   0  -2   -2    ...      -2    1    1   -2   \n",
       " 1  2359   0   0   0  -2   1   0   0   0   -2    ...       1   -1    1    1   \n",
       " 2  2360   0   0   0   0   1   0  -2  -2   -1    ...      -2    1    1    0   \n",
       " 3  2361   0   0   0   0  -1  -2  -1   1   -2    ...       0   -2   -1    1   \n",
       " \n",
       "    X33  X34  X35  X36  X37  playerId  \n",
       " 0    1   -2    1    0   -1      1327  \n",
       " 1    1    1   -1   -2    1      1327  \n",
       " 2   -2   -2    1   -2    1      1327  \n",
       " 3    1    0    1    0    1      1327  \n",
       " \n",
       " [4 rows x 38 columns], (1759, 38))"
      ]
     },
     "execution_count": 4,
     "metadata": {},
     "output_type": "execute_result"
    }
   ],
   "source": [
    "df = pd.read_csv('Zeitreihen_id.csv', sep =\" \")\n",
    "df[0:4], df.shape"
   ]
  },
  {
   "cell_type": "code",
   "execution_count": 5,
   "metadata": {
    "collapsed": false
   },
   "outputs": [
    {
     "data": {
      "text/plain": [
       "((1759, 36), (1759,))"
      ]
     },
     "execution_count": 5,
     "metadata": {},
     "output_type": "execute_result"
    }
   ],
   "source": [
    "X_ = np.asarray(df.ix[:,'X2':'X37']) + 2 #+2 so that all goes from 0 to 3\n",
    "y_ = df.ix[:,'playerId']\n",
    "X_.shape, y_.shape"
   ]
  },
  {
   "cell_type": "code",
   "execution_count": 6,
   "metadata": {
    "collapsed": false
   },
   "outputs": [
    {
     "data": {
      "text/plain": [
       "((array([13734, 20629, 15462, 13499,     0]), array([0, 1, 2, 3, 4, 5])),\n",
       " {0, 1, 2, 3})"
      ]
     },
     "execution_count": 6,
     "metadata": {},
     "output_type": "execute_result"
    }
   ],
   "source": [
    "np.histogram(X_, bins=(0,1,2,3,4,5)),set(np.reshape(X_,-1))"
   ]
  },
  {
   "cell_type": "code",
   "execution_count": 7,
   "metadata": {
    "collapsed": false
   },
   "outputs": [
    {
     "data": {
      "text/plain": [
       "(array([ 52,  26,  33,  28, 162,  57,  40,  21,  58,  28,  34,  71, 140,\n",
       "         47,  52,  26, 622,  93,  21,  52,  96,   0,   0,   0,   0,   0,\n",
       "          0,   0,   0]),\n",
       " array([ 0,  1,  2,  3,  4,  5,  6,  7,  8,  9, 10, 11, 12, 13, 14, 15, 16,\n",
       "        17, 18, 19, 20, 21, 22, 23, 24, 25, 26, 27, 28, 29]))"
      ]
     },
     "execution_count": 7,
     "metadata": {},
     "output_type": "execute_result"
    }
   ],
   "source": [
    "y_set = list(set(y_))\n",
    "num_to_ix = { ch:i for i,ch in enumerate(y_set) }\n",
    "ix_to_num = { i:ch for i,ch in enumerate(y_set) }\n",
    "y_d = np.asarray([num_to_ix[y_[i]] for i in range(len(y_))],dtype='int32')\n",
    "np.histogram(y_d, bins=range(30))"
   ]
  },
  {
   "cell_type": "markdown",
   "metadata": {},
   "source": [
    "#### shuffeling"
   ]
  },
  {
   "cell_type": "code",
   "execution_count": 8,
   "metadata": {
    "collapsed": false
   },
   "outputs": [],
   "source": [
    "idx = np.random.permutation(X_.shape[0])\n",
    "y = y_d[idx]\n",
    "X = X_[idx]"
   ]
  },
  {
   "cell_type": "code",
   "execution_count": 9,
   "metadata": {
    "collapsed": false
   },
   "outputs": [],
   "source": [
    "LENGTH = X_.shape[1]\n",
    "N_LSTM = 128\n",
    "N_BATCH = 100\n",
    "num_epochs=10\n",
    "num_classes  = len(ix_to_num)\n",
    "num_inputs  = 4 #Alphabet\n",
    "LENGTH\n",
    "GRAD_CLIP = 100\n",
    "LEARNING_RATE = 0.01\n",
    "num_epochs = 10"
   ]
  },
  {
   "cell_type": "markdown",
   "metadata": {},
   "source": [
    "### Creation of the network"
   ]
  },
  {
   "cell_type": "code",
   "execution_count": 10,
   "metadata": {
    "collapsed": false
   },
   "outputs": [
    {
     "name": "stdout",
     "output_type": "stream",
     "text": [
      "Builded network ...\n"
     ]
    }
   ],
   "source": [
    "#We leave the batch size open in the definition of the network\n",
    "l_in = InputLayer(shape=(None, LENGTH,1)) #Example: (10, 36, 1)\n",
    "current_bs = l_in.input_var.shape[0]\n",
    "\n",
    "l_lstm = LSTMLayer(l_in, N_LSTM, grad_clipping=GRAD_CLIP, nonlinearity=lasagne.nonlinearities.tanh) \n",
    "#Shape (Batches, LENGTH, N_LSTM) Example: (10, 36, 12)\n",
    "\n",
    "l_lstm_1 =  LSTMLayer(l_lstm, N_LSTM, grad_clipping=GRAD_CLIP, nonlinearity=lasagne.nonlinearities.tanh)\n",
    "\n",
    "# See https://github.com/Lasagne/Recipes/blob/master/examples/lstm_text_generation.py\n",
    "# The output of the sliced layer will then be of size (batch_size, N_HIDDEN)\n",
    "l_shp = lasagne.layers.SliceLayer(l_lstm_1, -1, 1)\n",
    "# Shape (10,12)\n",
    "\n",
    "l_out = DenseLayer(l_shp, num_units=num_classes, W = lasagne.init.Normal(), nonlinearity=lasagne.nonlinearities.softmax) \n",
    "#Shape (10, 21)\n",
    "#l_out = ReshapeLayer(l_dense, (current_bs, LENGTH, num_classes)) #(10, 36, 21)\n",
    "\n",
    "print(\"Builded network ...\")"
   ]
  },
  {
   "cell_type": "markdown",
   "metadata": {},
   "source": [
    "#### For testing only"
   ]
  },
  {
   "cell_type": "code",
   "execution_count": 11,
   "metadata": {
    "collapsed": false
   },
   "outputs": [
    {
     "name": "stderr",
     "output_type": "stream",
     "text": [
      "/Library/Python/2.7/site-packages/theano/scan_module/scan.py:1019: Warning: In the strict mode, all neccessary shared variables must be passed as a part of non_sequences\n",
      "  'must be passed as a part of non_sequences', Warning)\n",
      "/Library/Python/2.7/site-packages/theano/scan_module/scan_perform_ext.py:135: RuntimeWarning: numpy.ndarray size changed, may indicate binary incompatibility\n",
      "  from scan_perform.scan_perform import *\n"
     ]
    },
    {
     "data": {
      "text/plain": [
       "((10, 21),\n",
       " array([ 0.04835788,  0.04828471,  0.04743727,  0.04766143,  0.04749208,\n",
       "         0.04774138,  0.04777082,  0.04758632,  0.04773088,  0.04762105,\n",
       "         0.04810425,  0.04737234,  0.04788976,  0.04746125,  0.0471393 ,\n",
       "         0.04714382,  0.04774454,  0.04711527,  0.04757831,  0.04730505,\n",
       "         0.04746228], dtype=float32),\n",
       " 1.0)"
      ]
     },
     "execution_count": 11,
     "metadata": {},
     "output_type": "execute_result"
    }
   ],
   "source": [
    "# Testing the network (are the number of layers like what one expects)\n",
    "preds = theano.function([l_in.input_var], lasagne.layers.get_output(l_out))\n",
    "Xd = np.asarray(np.reshape(X[0:10,:],(10,36,1)), dtype='float32')\n",
    "res = preds(Xd)\n",
    "res.shape, res[0], np.sum(res[0])"
   ]
  },
  {
   "cell_type": "code",
   "execution_count": 12,
   "metadata": {
    "collapsed": false
   },
   "outputs": [],
   "source": [
    "# lasagne.layers.get_output produces a variable for the output of the net\n",
    "target_values = T.ivector('target_output')\n",
    "network_output = lasagne.layers.get_output(l_out)\n",
    "cost = T.nnet.categorical_crossentropy(network_output,target_values).mean()"
   ]
  },
  {
   "cell_type": "code",
   "execution_count": null,
   "metadata": {
    "collapsed": true
   },
   "outputs": [],
   "source": []
  },
  {
   "cell_type": "code",
   "execution_count": null,
   "metadata": {
    "collapsed": true
   },
   "outputs": [],
   "source": []
  },
  {
   "cell_type": "markdown",
   "metadata": {},
   "source": [
    "#### For testing only"
   ]
  },
  {
   "cell_type": "code",
   "execution_count": 13,
   "metadata": {
    "collapsed": false
   },
   "outputs": [],
   "source": [
    "yd = y[0:10]\n",
    "cost_values = theano.function([l_in.input_var, target_values], cost)"
   ]
  },
  {
   "cell_type": "code",
   "execution_count": 14,
   "metadata": {
    "collapsed": false
   },
   "outputs": [
    {
     "data": {
      "text/plain": [
       "array(3.045325994491577, dtype=float32)"
      ]
     },
     "execution_count": 14,
     "metadata": {},
     "output_type": "execute_result"
    }
   ],
   "source": [
    "cost_values(Xd,yd)"
   ]
  },
  {
   "cell_type": "code",
   "execution_count": 15,
   "metadata": {
    "collapsed": false
   },
   "outputs": [
    {
     "name": "stdout",
     "output_type": "stream",
     "text": [
      "Computing updates ...\n"
     ]
    }
   ],
   "source": [
    "all_params = lasagne.layers.get_all_params(l_out)\n",
    "# Compute AdaGrad updates for training\n",
    "print(\"Computing updates ...\")\n",
    "updates = lasagne.updates.adagrad(cost, all_params, LEARNING_RATE)"
   ]
  },
  {
   "cell_type": "code",
   "execution_count": 16,
   "metadata": {
    "collapsed": true
   },
   "outputs": [],
   "source": [
    "train = theano.function([l_in.input_var, target_values], cost, updates=updates, allow_input_downcast=True)\n",
    "compute_cost = theano.function([l_in.input_var, target_values], cost, allow_input_downcast=True)\n",
    "probs = theano.function([l_in.input_var],network_output,allow_input_downcast=True)"
   ]
  },
  {
   "cell_type": "code",
   "execution_count": 17,
   "metadata": {
    "collapsed": false
   },
   "outputs": [],
   "source": [
    "test_prediction = lasagne.layers.get_output(l_out, deterministic=True)\n",
    "test_loss = lasagne.objectives.categorical_crossentropy(test_prediction,target_values)\n",
    "test_loss = test_loss.mean()\n",
    "# As a bonus, also create an expression for the classification accuracy:\n",
    "test_acc = T.mean(T.eq(T.argmax(test_prediction, axis=1), target_values), dtype=theano.config.floatX)\n",
    "val_fn = theano.function([l_in.input_var, target_values], [test_loss, test_acc])"
   ]
  },
  {
   "cell_type": "code",
   "execution_count": 18,
   "metadata": {
    "collapsed": false
   },
   "outputs": [
    {
     "data": {
      "text/plain": [
       "((1055, 36, 1), (1055,), (350, 36, 1), (350,), (354, 36, 1), (354,))"
      ]
     },
     "execution_count": 18,
     "metadata": {},
     "output_type": "execute_result"
    }
   ],
   "source": [
    "X_ = np.asarray(np.reshape(X,(X.shape[0],X.shape[1],1)), dtype='float32')\n",
    "\n",
    "X_train = X_[0:idx_train,:]\n",
    "y_train = y[0:idx_train]\n",
    "\n",
    "X_val = X_[idx_train:idx_val]\n",
    "y_val = y[idx_train:idx_val]\n",
    "\n",
    "X_test = X_[idx_val:]\n",
    "y_test = y[idx_val:]\n",
    "\n",
    "X_train.shape, y_train.shape, X_val.shape, y_val.shape, X_test.shape, y_test.shape"
   ]
  },
  {
   "cell_type": "code",
   "execution_count": 19,
   "metadata": {
    "collapsed": true
   },
   "outputs": [],
   "source": [
    "############################## Batch iterator ###############################\n",
    "# This is just a simple helper function iterating over training data in\n",
    "# mini-batches of a particular size, optionally in random order. It assumes\n",
    "# data is available as numpy arrays. For big datasets, you could load numpy\n",
    "# arrays as memory-mapped files (np.load(..., mmap_mode='r')), or write your\n",
    "# own custom data iteration function. For small datasets, you can also copy\n",
    "# them to GPU at once for slightly improved performance. This would involve\n",
    "# several changes in the main program, though, and is not demonstrated here.\n",
    "\n",
    "def iterate_minibatches(inputs, targets, batchsize, shuffle=False):\n",
    "    assert len(inputs) == len(targets)\n",
    "    if shuffle:\n",
    "        indices = np.arange(len(inputs))\n",
    "        np.random.shuffle(indices)\n",
    "    for start_idx in range(0, len(inputs) - batchsize + 1, batchsize):\n",
    "        if shuffle:\n",
    "            excerpt = indices[start_idx:start_idx + batchsize]\n",
    "        else:\n",
    "            excerpt = slice(start_idx, start_idx + batchsize)\n",
    "        yield inputs[excerpt], targets[excerpt]"
   ]
  },
  {
   "cell_type": "code",
   "execution_count": 20,
   "metadata": {
    "collapsed": true
   },
   "outputs": [],
   "source": [
    "import pandas as pd\n",
    "perf = pd.DataFrame(columns=['train_loss','valid_loss','valid_accuracy'])"
   ]
  },
  {
   "cell_type": "code",
   "execution_count": null,
   "metadata": {
    "collapsed": false
   },
   "outputs": [
    {
     "name": "stdout",
     "output_type": "stream",
     "text": [
      "Epoch 1 of 300 took 4.011s\n",
      "  training loss:\t\t2.354967\n",
      "  validation loss:\t\t2.513048\n",
      "  validation accuracy:\t\t30.00 %\n",
      "Epoch 2 of 300 took 4.051s\n",
      "  training loss:\t\t2.331475\n",
      "  validation loss:\t\t2.490508\n",
      "  validation accuracy:\t\t30.00 %\n",
      "Epoch 3 of 300 took 3.980s\n",
      "  training loss:\t\t2.295682\n",
      "  validation loss:\t\t2.433271\n",
      "  validation accuracy:\t\t30.00 %\n",
      "Epoch 4 of 300 took 3.986s\n",
      "  training loss:\t\t2.314661\n",
      "  validation loss:\t\t2.431298\n",
      "  validation accuracy:\t\t30.00 %\n",
      "Epoch 5 of 300 took 3.994s\n",
      "  training loss:\t\t2.309992\n",
      "  validation loss:\t\t2.492824\n",
      "  validation accuracy:\t\t30.00 %\n",
      "Epoch 6 of 300 took 3.965s\n",
      "  training loss:\t\t2.308680\n",
      "  validation loss:\t\t2.448463\n",
      "  validation accuracy:\t\t30.00 %\n",
      "Epoch 7 of 300 took 3.987s\n",
      "  training loss:\t\t2.289183\n",
      "  validation loss:\t\t2.430856\n",
      "  validation accuracy:\t\t30.80 %\n",
      "Epoch 8 of 300 took 3.975s\n",
      "  training loss:\t\t2.292264\n",
      "  validation loss:\t\t2.428428\n",
      "  validation accuracy:\t\t30.40 %\n",
      "Epoch 9 of 300 took 4.009s\n",
      "  training loss:\t\t2.270938\n",
      "  validation loss:\t\t2.462603\n",
      "  validation accuracy:\t\t30.00 %\n",
      "Epoch 10 of 300 took 4.004s\n",
      "  training loss:\t\t2.274748\n",
      "  validation loss:\t\t2.425599\n",
      "  validation accuracy:\t\t30.40 %\n",
      "Epoch 11 of 300 took 4.036s\n",
      "  training loss:\t\t2.255015\n",
      "  validation loss:\t\t2.441556\n",
      "  validation accuracy:\t\t30.40 %\n",
      "Epoch 12 of 300 took 3.994s\n",
      "  training loss:\t\t2.265961\n",
      "  validation loss:\t\t2.455976\n",
      "  validation accuracy:\t\t30.40 %\n",
      "Epoch 13 of 300 took 4.005s\n",
      "  training loss:\t\t2.267202\n",
      "  validation loss:\t\t2.435314\n",
      "  validation accuracy:\t\t30.00 %\n",
      "Epoch 14 of 300 took 4.001s\n",
      "  training loss:\t\t2.258624\n",
      "  validation loss:\t\t2.437713\n",
      "  validation accuracy:\t\t30.00 %\n",
      "Epoch 15 of 300 took 4.000s\n",
      "  training loss:\t\t2.259706\n",
      "  validation loss:\t\t2.420190\n",
      "  validation accuracy:\t\t30.80 %\n",
      "Epoch 16 of 300 took 4.018s\n",
      "  training loss:\t\t2.253013\n",
      "  validation loss:\t\t2.436635\n",
      "  validation accuracy:\t\t30.80 %\n",
      "Epoch 17 of 300 took 4.006s\n",
      "  training loss:\t\t2.245905\n",
      "  validation loss:\t\t2.425049\n",
      "  validation accuracy:\t\t31.20 %\n",
      "Epoch 18 of 300 took 3.991s\n",
      "  training loss:\t\t2.243006\n",
      "  validation loss:\t\t2.425354\n",
      "  validation accuracy:\t\t29.60 %\n",
      "Epoch 19 of 300 took 4.005s\n",
      "  training loss:\t\t2.237843\n",
      "  validation loss:\t\t2.419324\n",
      "  validation accuracy:\t\t31.60 %\n",
      "Epoch 20 of 300 took 3.982s\n",
      "  training loss:\t\t2.244691\n",
      "  validation loss:\t\t2.467243\n",
      "  validation accuracy:\t\t30.00 %\n",
      "Epoch 21 of 300 took 3.994s\n",
      "  training loss:\t\t2.217055\n",
      "  validation loss:\t\t2.430859\n",
      "  validation accuracy:\t\t30.80 %\n",
      "Epoch 22 of 300 took 4.006s\n",
      "  training loss:\t\t2.244092\n",
      "  validation loss:\t\t2.428697\n",
      "  validation accuracy:\t\t30.40 %\n",
      "Epoch 23 of 300 took 4.005s\n",
      "  training loss:\t\t2.231223\n",
      "  validation loss:\t\t2.438019\n",
      "  validation accuracy:\t\t30.00 %\n",
      "Epoch 24 of 300 took 3.998s\n",
      "  training loss:\t\t2.219187\n",
      "  validation loss:\t\t2.473132\n",
      "  validation accuracy:\t\t29.60 %\n",
      "Epoch 25 of 300 took 4.019s\n",
      "  training loss:\t\t2.209402\n",
      "  validation loss:\t\t2.434270\n",
      "  validation accuracy:\t\t30.80 %\n",
      "Epoch 26 of 300 took 4.046s\n",
      "  training loss:\t\t2.228136\n",
      "  validation loss:\t\t2.437081\n",
      "  validation accuracy:\t\t30.80 %\n",
      "Epoch 27 of 300 took 4.055s\n",
      "  training loss:\t\t2.224954\n",
      "  validation loss:\t\t2.429508\n",
      "  validation accuracy:\t\t30.40 %\n",
      "Epoch 28 of 300 took 4.063s"
     ]
    }
   ],
   "source": [
    "num_epochs = 300\n",
    "for epoch in range(num_epochs):\n",
    "    # In each epoch, we do a full pass over the training data:\n",
    "    train_err = 0\n",
    "    train_batches = 0\n",
    "    start_time = time.time()\n",
    "    for batch in iterate_minibatches(X_train, y_train, 100, shuffle=True):\n",
    "        inputs, targets = batch\n",
    "        train_err += train(inputs, targets)\n",
    "        train_batches += 1\n",
    "        \n",
    "    # And a full pass over the validation data:\n",
    "    val_err = 0\n",
    "    val_acc = 0\n",
    "    val_batches = 0\n",
    "    for batch in iterate_minibatches(X_val, y_val, 250, shuffle=False):\n",
    "        inputs, targets = batch\n",
    "        err, acc = val_fn(inputs, targets)\n",
    "        val_err += err\n",
    "        val_acc += acc\n",
    "        val_batches += 1\n",
    "    \n",
    "    perf.loc[epoch] = [train_err / train_batches, val_err / val_batches, val_acc / val_batches]\n",
    "    # Then we print the results for this epoch:\n",
    "    print(\"Epoch {} of {} took {:.3f}s\".format(\n",
    "        epoch + 1, num_epochs, time.time() - start_time))\n",
    "    print(\"  training loss:\\t\\t{:.6f}\".format(train_err / train_batches))\n",
    "    print(\"  validation loss:\\t\\t{:.6f}\".format(val_err / val_batches))\n",
    "    print(\"  validation accuracy:\\t\\t{:.2f} %\".format(val_acc / val_batches * 100))"
   ]
  },
  {
   "cell_type": "code",
   "execution_count": null,
   "metadata": {
    "collapsed": true
   },
   "outputs": [],
   "source": []
  },
  {
   "cell_type": "code",
   "execution_count": 22,
   "metadata": {
    "collapsed": false
   },
   "outputs": [
    {
     "data": {
      "text/plain": [
       "<matplotlib.axes.AxesSubplot at 0x113f8ef90>"
      ]
     },
     "execution_count": 22,
     "metadata": {},
     "output_type": "execute_result"
    },
    {
     "data": {
      "image/png": "[encoded data removed]",
      "text/plain": [
       "<matplotlib.figure.Figure at 0x10e5821d0>"
      ]
     },
     "metadata": {},
     "output_type": "display_data"
    }
   ],
   "source": [
    "%matplotlib inline\n",
    "perf[['train_loss','valid_loss','valid_accuracy']].plot(title='Performance during Training')"
   ]
  },
  {
   "cell_type": "code",
   "execution_count": 23,
   "metadata": {
    "collapsed": false
   },
   "outputs": [
    {
     "data": {
      "text/plain": [
       "(array([[ 0.02764352,  0.02628479,  0.01885541,  0.02287088,  0.07707576,\n",
       "          0.03561188,  0.02735219,  0.00849575,  0.01933375,  0.02321376,\n",
       "          0.01439499,  0.05123205,  0.0622489 ,  0.03089152,  0.03661775,\n",
       "          0.01318237,  0.37626788,  0.03908256,  0.01377889,  0.04675278,\n",
       "          0.02881263],\n",
       "        [ 0.02777688,  0.03029649,  0.02068442,  0.0244167 ,  0.07876992,\n",
       "          0.04000157,  0.03016515,  0.00919801,  0.01891897,  0.02791033,\n",
       "          0.01408748,  0.05496172,  0.05925034,  0.03395918,  0.03973318,\n",
       "          0.01385091,  0.34407005,  0.03654079,  0.01552516,  0.05408347,\n",
       "          0.02579927],\n",
       "        [ 0.03036228,  0.01792865,  0.01538878,  0.02011583,  0.07907888,\n",
       "          0.02471378,  0.02122433,  0.00909552,  0.0265069 ,  0.01309099,\n",
       "          0.02111524,  0.04027713,  0.08546366,  0.02257629,  0.02723236,\n",
       "          0.01491936,  0.38345408,  0.05359882,  0.01157298,  0.02782603,\n",
       "          0.05445808],\n",
       "        [ 0.02804004,  0.02520437,  0.01859072,  0.02268346,  0.07850766,\n",
       "          0.03433179,  0.0265749 ,  0.00862991,  0.02015091,  0.0219515 ,\n",
       "          0.01506264,  0.04958793,  0.06501573,  0.03008359,  0.03563373,\n",
       "          0.01347165,  0.37644097,  0.04076494,  0.01365555,  0.04424633,\n",
       "          0.03137167],\n",
       "        [ 0.02792295,  0.03169078,  0.02150829,  0.02511968,  0.07812396,\n",
       "          0.04155837,  0.03139047,  0.00954031,  0.01880667,  0.02973325,\n",
       "          0.01408842,  0.05669688,  0.05778428,  0.0351004 ,  0.04098289,\n",
       "          0.0141418 ,  0.33215287,  0.03604433,  0.01616723,  0.05663788,\n",
       "          0.02480827],\n",
       "        [ 0.02769068,  0.02791579,  0.01964465,  0.02355511,  0.07736338,\n",
       "          0.03752485,  0.0285932 ,  0.008752  ,  0.01903817,  0.02521626,\n",
       "          0.01419557,  0.05314213,  0.06067515,  0.03225684,  0.03806419,\n",
       "          0.01341583,  0.3633247 ,  0.03795867,  0.01449168,  0.04988234,\n",
       "          0.02729879],\n",
       "        [ 0.0278144 ,  0.0274852 ,  0.01951299,  0.02343384,  0.07771249,\n",
       "          0.03706888,  0.0282795 ,  0.00875518,  0.0192652 ,  0.02470457,\n",
       "          0.01434812,  0.05242082,  0.06131205,  0.0318651 ,  0.03771704,\n",
       "          0.0134594 ,  0.36507344,  0.03845995,  0.01436195,  0.04904712,\n",
       "          0.0279028 ],\n",
       "        [ 0.03151445,  0.01557923,  0.01430191,  0.01933404,  0.07524231,\n",
       "          0.02163276,  0.01943332,  0.00920186,  0.02967632,  0.01067748,\n",
       "          0.02399755,  0.03704457,  0.09117372,  0.01990927,  0.02459038,\n",
       "          0.01547867,  0.38068792,  0.06112231,  0.01076849,  0.02335426,\n",
       "          0.06527919],\n",
       "        [ 0.02996177,  0.01951193,  0.01663035,  0.0209301 ,  0.08463057,\n",
       "          0.02736706,  0.02263181,  0.00927176,  0.02473052,  0.01537049,\n",
       "          0.01967805,  0.04205771,  0.08244579,  0.0248726 ,  0.02978989,\n",
       "          0.01499809,  0.37226611,  0.04968822,  0.01245136,  0.03140791,\n",
       "          0.0493079 ],\n",
       "        [ 0.02784749,  0.03091436,  0.02098864,  0.02466599,  0.0788471 ,\n",
       "          0.04059598,  0.03061973,  0.00934651,  0.01895213,  0.02861024,\n",
       "          0.01411654,  0.05542601,  0.05884723,  0.03438807,  0.04020149,\n",
       "          0.01399104,  0.33891118,  0.03631966,  0.01581182,  0.05514216,\n",
       "          0.02545663]], dtype=float32), array([[ 3],\n",
       "        [ 2],\n",
       "        [ 1],\n",
       "        [ 4],\n",
       "        [ 6],\n",
       "        [ 7],\n",
       "        [ 9],\n",
       "        [12],\n",
       "        [10],\n",
       "        [ 2]]), array([ 5, 16, 20, 20, 17,  2, 16, 16,  8,  4], dtype=int32))"
      ]
     },
     "execution_count": 23,
     "metadata": {},
     "output_type": "execute_result"
    }
   ],
   "source": [
    "probs(X_val[0:10]),np.argmax(X_val[0:10], axis=1), y_val[0:10]"
   ]
  },
  {
   "cell_type": "code",
   "execution_count": null,
   "metadata": {
    "collapsed": true
   },
   "outputs": [],
   "source": []
  },
  {
   "cell_type": "code",
   "execution_count": null,
   "metadata": {
    "collapsed": true
   },
   "outputs": [],
   "source": []
  },
  {
   "cell_type": "code",
   "execution_count": null,
   "metadata": {
    "collapsed": true
   },
   "outputs": [],
   "source": []
  },
  {
   "cell_type": "code",
   "execution_count": null,
   "metadata": {
    "collapsed": true
   },
   "outputs": [],
   "source": []
  },
  {
   "cell_type": "code",
   "execution_count": null,
   "metadata": {
    "collapsed": true
   },
   "outputs": [],
   "source": []
  },
  {
   "cell_type": "code",
   "execution_count": null,
   "metadata": {
    "collapsed": true
   },
   "outputs": [],
   "source": []
  },
  {
   "cell_type": "code",
   "execution_count": null,
   "metadata": {
    "collapsed": true
   },
   "outputs": [],
   "source": []
  },
  {
   "cell_type": "code",
   "execution_count": null,
   "metadata": {
    "collapsed": true
   },
   "outputs": [],
   "source": []
  },
  {
   "cell_type": "code",
   "execution_count": null,
   "metadata": {
    "collapsed": true
   },
   "outputs": [],
   "source": []
  },
  {
   "cell_type": "code",
   "execution_count": null,
   "metadata": {
    "collapsed": true
   },
   "outputs": [],
   "source": []
  },
  {
   "cell_type": "code",
   "execution_count": null,
   "metadata": {
    "collapsed": true
   },
   "outputs": [],
   "source": []
  }
 ],
 "metadata": {
  "kernelspec": {
   "display_name": "Python 2",
   "language": "python",
   "name": "python2"
  },
  "language_info": {
   "codemirror_mode": {
    "name": "ipython",
    "version": 2
   },
   "file_extension": ".py",
   "mimetype": "text/x-python",
   "name": "python",
   "nbconvert_exporter": "python",
   "pygments_lexer": "ipython2",
   "version": "2.7.10"
  }
 },
 "nbformat": 4,
 "nbformat_minor": 0
}
